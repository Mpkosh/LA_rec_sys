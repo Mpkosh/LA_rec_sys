{
  "nbformat": 4,
  "nbformat_minor": 0,
  "metadata": {
    "colab": {
      "name": "Prereq_Outcomes.ipynb",
      "provenance": [],
      "collapsed_sections": [
        "ZZ2WJrNwn6tt",
        "a1FDHRriAlEa",
        "Fg5NUDV3oFsg",
        "9l-KgqMmz9c_",
        "8sfWtD6v2euR",
        "p93st8hW8wYK",
        "wuIZ0hroTz0v",
        "aflDbtVHd-ci",
        "QS3o6hJKZLQW",
        "IJObEqvOsUP2",
        "D71GlrsArzHt",
        "cPzg40TEaheE",
        "IdpgLxwoxvZu",
        "_xsS6ZR1vka6"
      ],
      "toc_visible": true
    },
    "kernelspec": {
      "display_name": "Python 3",
      "name": "python3"
    },
    "language_info": {
      "name": "python"
    }
  },
  "cells": [
    {
      "cell_type": "markdown",
      "metadata": {
        "id": "20kY0B5wDbRu"
      },
      "source": [
        "*   Регулярными выражениями взять название книги из списка лит-ры\n",
        "*   Брать названия онлайн курсов для дисциплины, чтобы тоже сделать эмбединг\n",
        "*   Мб если на раздел выделено больше часов, то больший приоритет отдавать схожим с ним уч.сущностям?? Ерунда?\n",
        "*   посмотреть -- если подходящая уч.сущность входит в другую, то ее тоже рекомендовать?.. что-то со связями придумать"
      ]
    },
    {
      "cell_type": "code",
      "metadata": {
        "id": "mGEv88lRg6ME",
        "cellView": "form"
      },
      "source": [
        "#@title Загрузка библиотек и данных\n",
        "# for TF-Hub universal encoder\n",
        "%%capture\n",
        "!pip install numpy==1.19.5\n",
        "!pip install PyDrive\n",
        "\n",
        "import numpy as np\n",
        "import pandas as pd\n",
        "import itertools\n",
        "import seaborn as sns\n",
        "import re # только в черновике\n",
        "\n",
        "from pydrive.auth import GoogleAuth\n",
        "from pydrive.drive import GoogleDrive\n",
        "from google.colab import auth\n",
        "from oauth2client.client import GoogleCredentials\n",
        "\n",
        "# скачиваем данные\n",
        "import glob\n",
        "\n",
        "from google.colab import drive\n",
        "drive.mount('/content/drive')\n",
        "\n",
        "path = '/content/drive/My Drive/bachelor/!Диплом/d/'\n",
        "all_files = glob.glob(path+'*.csv')\n",
        "\n",
        "dfs = []\n",
        "for f in all_files:\n",
        "  dfs.append(pd.read_csv(f,sep=';'))\n",
        "\n",
        "drive.flush_and_unmount()"
      ],
      "execution_count": null,
      "outputs": []
    },
    {
      "cell_type": "markdown",
      "metadata": {
        "id": "ZZ2WJrNwn6tt"
      },
      "source": [
        "# Присваиваем все таблицы"
      ]
    },
    {
      "cell_type": "markdown",
      "metadata": {
        "id": "a1FDHRriAlEa"
      },
      "source": [
        "## -- Для всего + рек-ии результатов"
      ]
    },
    {
      "cell_type": "code",
      "metadata": {
        "id": "PhZP9bKxj6WQ"
      },
      "source": [
        "dp_domains,dp_items,dp_relations,\\\n",
        "wp_aplan,wp_additional,wp_bib_ref,wp_disc_b,wp_disc_bm,\\\n",
        "wp_disc_s,wp_disc_seval,wp_eval,wp_fos,wp_iaplan,\\\n",
        "wp_iaplan_fos,wp_outcomes,wp_outcomes_eval,\\\n",
        "wp_prereq,wp_topic,wp_wp,wp_wpbib_ref,\\\n",
        "wp_wp_disc_bm,wp_wp_isu,wp_wp_fos,wp_cert_eval = dfs"
      ],
      "execution_count": null,
      "outputs": []
    },
    {
      "cell_type": "code",
      "metadata": {
        "colab": {
          "base_uri": "https://localhost:8080/",
          "height": 282
        },
        "id": "0AzhPQeuFGiJ",
        "outputId": "e2a179e4-578c-4d56-924e-09c90ddd588d"
      },
      "source": [
        "# Все РПД\n",
        "wp_wp.head(4)"
      ],
      "execution_count": null,
      "outputs": [
        {
          "output_type": "execute_result",
          "data": {
            "text/html": [
              "<div>\n",
              "<style scoped>\n",
              "    .dataframe tbody tr th:only-of-type {\n",
              "        vertical-align: middle;\n",
              "    }\n",
              "\n",
              "    .dataframe tbody tr th {\n",
              "        vertical-align: top;\n",
              "    }\n",
              "\n",
              "    .dataframe thead th {\n",
              "        text-align: right;\n",
              "    }\n",
              "</style>\n",
              "<table border=\"1\" class=\"dataframe\">\n",
              "  <thead>\n",
              "    <tr style=\"text-align: right;\">\n",
              "      <th></th>\n",
              "      <th>id</th>\n",
              "      <th>title</th>\n",
              "      <th>hoursFirstSemester</th>\n",
              "      <th>hoursSecondSemester</th>\n",
              "      <th>qualification</th>\n",
              "      <th>discipline_code</th>\n",
              "      <th>approval_date</th>\n",
              "      <th>authors</th>\n",
              "      <th>description</th>\n",
              "      <th>video</th>\n",
              "      <th>subject_code</th>\n",
              "      <th>credit_units</th>\n",
              "      <th>semester_hour</th>\n",
              "      <th>owner_id</th>\n",
              "      <th>work_status</th>\n",
              "      <th>hours</th>\n",
              "      <th>extra_points</th>\n",
              "      <th>language</th>\n",
              "      <th>structural_unit_id</th>\n",
              "      <th>have_course_project</th>\n",
              "      <th>have_diff_pass</th>\n",
              "      <th>have_exam</th>\n",
              "      <th>have_pass</th>\n",
              "      <th>lab_hours</th>\n",
              "      <th>lecture_hours</th>\n",
              "      <th>old_discipline_code</th>\n",
              "      <th>practice_hours</th>\n",
              "      <th>srs_hours</th>\n",
              "      <th>wp_isu_id</th>\n",
              "    </tr>\n",
              "  </thead>\n",
              "  <tbody>\n",
              "    <tr>\n",
              "      <th>0</th>\n",
              "      <td>3689</td>\n",
              "      <td>Пищевая химия</td>\n",
              "      <td>NaN</td>\n",
              "      <td>NaN</td>\n",
              "      <td>bachelor</td>\n",
              "      <td>06.1.5.26.18</td>\n",
              "      <td>2020-08-04 17:55:37.324431+03</td>\n",
              "      <td>NaN</td>\n",
              "      <td>NaN</td>\n",
              "      <td>NaN</td>\n",
              "      <td>44</td>\n",
              "      <td>0,0,0,0,4,0,0,0,0,0,0,0</td>\n",
              "      <td>NaN</td>\n",
              "      <td>NaN</td>\n",
              "      <td>w</td>\n",
              "      <td>NaN</td>\n",
              "      <td>NaN</td>\n",
              "      <td>ru</td>\n",
              "      <td>11.0</td>\n",
              "      <td>NaN</td>\n",
              "      <td>NaN</td>\n",
              "      <td>NaN</td>\n",
              "      <td>NaN</td>\n",
              "      <td>0.0,0.0,0.0,0.0,16.0,0.0,0.0,0.0,0.0,0.0</td>\n",
              "      <td>0.0,0.0,0.0,0.0,32.0,0.0,0.0,0.0,0.0,0.0</td>\n",
              "      <td>06.1.5.38.18</td>\n",
              "      <td>0.0,0.0,0.0,0.0,16.0,0.0,0.0,0.0,0.0,0.0</td>\n",
              "      <td>0.0,0.0,0.0,0.0,73.6,0.0,0.0,0.0,0.0,0.0</td>\n",
              "      <td>26155.0</td>\n",
              "    </tr>\n",
              "    <tr>\n",
              "      <th>1</th>\n",
              "      <td>2648</td>\n",
              "      <td>Современный C++</td>\n",
              "      <td>NaN</td>\n",
              "      <td>NaN</td>\n",
              "      <td>bachelor</td>\n",
              "      <td>06.0.6.19.18</td>\n",
              "      <td>2020-08-04 17:39:33.064108+03</td>\n",
              "      <td>NaN</td>\n",
              "      <td>NaN</td>\n",
              "      <td>NaN</td>\n",
              "      <td>14</td>\n",
              "      <td>0,0,3,0,0,0,0,0,0,0,0,0</td>\n",
              "      <td>NaN</td>\n",
              "      <td>NaN</td>\n",
              "      <td>w</td>\n",
              "      <td>NaN</td>\n",
              "      <td>NaN</td>\n",
              "      <td>ru</td>\n",
              "      <td>14.0</td>\n",
              "      <td>NaN</td>\n",
              "      <td>NaN</td>\n",
              "      <td>NaN</td>\n",
              "      <td>NaN</td>\n",
              "      <td>0.0,0.0,0.0,0.0,0.0,0.0,0.0,0.0,0.0,0.0</td>\n",
              "      <td>0.0,0.0,16.0,0.0,0.0,0.0,0.0,0.0,0.0,0.0</td>\n",
              "      <td>06.0.6.10.18</td>\n",
              "      <td>0.0,0.0,32.0,0.0,0.0,0.0,0.0,0.0,0.0,0.0</td>\n",
              "      <td>0.0,0.0,55.2,0.0,0.0,0.0,0.0,0.0,0.0,0.0</td>\n",
              "      <td>26505.0</td>\n",
              "    </tr>\n",
              "    <tr>\n",
              "      <th>2</th>\n",
              "      <td>2686</td>\n",
              "      <td>Дифференциальные уравнения и ТФКП</td>\n",
              "      <td>NaN</td>\n",
              "      <td>NaN</td>\n",
              "      <td>bachelor</td>\n",
              "      <td>06.5.6.62.18</td>\n",
              "      <td>2020-08-04 17:39:39.412693+03</td>\n",
              "      <td>NaN</td>\n",
              "      <td>NaN</td>\n",
              "      <td>NaN</td>\n",
              "      <td>40</td>\n",
              "      <td>0,0,0,0,4,0,0,0,0,0,0,0</td>\n",
              "      <td>NaN</td>\n",
              "      <td>NaN</td>\n",
              "      <td>w</td>\n",
              "      <td>NaN</td>\n",
              "      <td>NaN</td>\n",
              "      <td>ru</td>\n",
              "      <td>14.0</td>\n",
              "      <td>NaN</td>\n",
              "      <td>NaN</td>\n",
              "      <td>NaN</td>\n",
              "      <td>NaN</td>\n",
              "      <td>0.0,0.0,0.0,0.0,16.0,0.0,0.0,0.0,0.0,0.0</td>\n",
              "      <td>0.0,0.0,0.0,0.0,32.0,0.0,0.0,0.0,0.0,0.0</td>\n",
              "      <td>06.5.6.4.18</td>\n",
              "      <td>0.0,0.0,0.0,0.0,0.0,0.0,0.0,0.0,0.0,0.0</td>\n",
              "      <td>0.0,0.0,0.0,0.0,91.19999999999999,0.0,0.0,0.0,...</td>\n",
              "      <td>35677.0</td>\n",
              "    </tr>\n",
              "    <tr>\n",
              "      <th>3</th>\n",
              "      <td>3926</td>\n",
              "      <td>Основы конкурентоспособности предприятий</td>\n",
              "      <td>NaN</td>\n",
              "      <td>NaN</td>\n",
              "      <td>bachelor</td>\n",
              "      <td>06.4.6.27.18</td>\n",
              "      <td>2020-08-04 17:56:38.312651+03</td>\n",
              "      <td>NaN</td>\n",
              "      <td>NaN</td>\n",
              "      <td>NaN</td>\n",
              "      <td>48</td>\n",
              "      <td>0,0,0,0,0,0,0,5,0,0,0,0</td>\n",
              "      <td>NaN</td>\n",
              "      <td>NaN</td>\n",
              "      <td>w</td>\n",
              "      <td>NaN</td>\n",
              "      <td>NaN</td>\n",
              "      <td>ru</td>\n",
              "      <td>1.0</td>\n",
              "      <td>NaN</td>\n",
              "      <td>NaN</td>\n",
              "      <td>NaN</td>\n",
              "      <td>NaN</td>\n",
              "      <td>0.0,0.0,0.0,0.0,0.0,0.0,0.0,0.0,0.0,0.0</td>\n",
              "      <td>0.0,0.0,0.0,0.0,0.0,0.0,0.0,16.0,0.0,0.0</td>\n",
              "      <td>06.4.6.27.18</td>\n",
              "      <td>0.0,0.0,0.0,0.0,0.0,0.0,0.0,32.0,0.0,0.0</td>\n",
              "      <td>0.0,0.0,0.0,0.0,0.0,0.0,0.0,127.2,0.0,0.0</td>\n",
              "      <td>26064.0</td>\n",
              "    </tr>\n",
              "  </tbody>\n",
              "</table>\n",
              "</div>"
            ],
            "text/plain": [
              "     id  ... wp_isu_id\n",
              "0  3689  ...   26155.0\n",
              "1  2648  ...   26505.0\n",
              "2  2686  ...   35677.0\n",
              "3  3926  ...   26064.0\n",
              "\n",
              "[4 rows x 29 columns]"
            ]
          },
          "metadata": {},
          "execution_count": 8
        }
      ]
    },
    {
      "cell_type": "code",
      "metadata": {
        "colab": {
          "base_uri": "https://localhost:8080/",
          "height": 175
        },
        "id": "QcYVr_VH_Sko",
        "outputId": "c88ba4e2-9bc4-46df-ca1c-38e518b4bade"
      },
      "source": [
        "# разделы с распределением часов\n",
        "wp_disc_s.head(4)"
      ],
      "execution_count": null,
      "outputs": [
        {
          "output_type": "execute_result",
          "data": {
            "text/html": [
              "<div>\n",
              "<style scoped>\n",
              "    .dataframe tbody tr th:only-of-type {\n",
              "        vertical-align: middle;\n",
              "    }\n",
              "\n",
              "    .dataframe tbody tr th {\n",
              "        vertical-align: top;\n",
              "    }\n",
              "\n",
              "    .dataframe thead th {\n",
              "        text-align: right;\n",
              "    }\n",
              "</style>\n",
              "<table border=\"1\" class=\"dataframe\">\n",
              "  <thead>\n",
              "    <tr style=\"text-align: right;\">\n",
              "      <th></th>\n",
              "      <th>id</th>\n",
              "      <th>name</th>\n",
              "      <th>work_program_id</th>\n",
              "      <th>SRO</th>\n",
              "      <th>contact_work</th>\n",
              "      <th>laboratory</th>\n",
              "      <th>lecture_classes</th>\n",
              "      <th>practical_lessons</th>\n",
              "      <th>total_hours</th>\n",
              "      <th>ordinal_number</th>\n",
              "    </tr>\n",
              "  </thead>\n",
              "  <tbody>\n",
              "    <tr>\n",
              "      <th>0</th>\n",
              "      <td>17</td>\n",
              "      <td>Теоретические основы метрологии</td>\n",
              "      <td>5</td>\n",
              "      <td>4.0</td>\n",
              "      <td>2.2</td>\n",
              "      <td>0.0</td>\n",
              "      <td>2.0</td>\n",
              "      <td>0.0</td>\n",
              "      <td>8.0</td>\n",
              "      <td>1</td>\n",
              "    </tr>\n",
              "    <tr>\n",
              "      <th>1</th>\n",
              "      <td>18</td>\n",
              "      <td>Измерения, погрешности и неопределенности</td>\n",
              "      <td>5</td>\n",
              "      <td>10.0</td>\n",
              "      <td>13.2</td>\n",
              "      <td>8.0</td>\n",
              "      <td>4.0</td>\n",
              "      <td>0.0</td>\n",
              "      <td>35.0</td>\n",
              "      <td>2</td>\n",
              "    </tr>\n",
              "    <tr>\n",
              "      <th>2</th>\n",
              "      <td>20</td>\n",
              "      <td>Обработка результатов измерений</td>\n",
              "      <td>5</td>\n",
              "      <td>4.0</td>\n",
              "      <td>4.4</td>\n",
              "      <td>NaN</td>\n",
              "      <td>4.0</td>\n",
              "      <td>NaN</td>\n",
              "      <td>12.0</td>\n",
              "      <td>4</td>\n",
              "    </tr>\n",
              "    <tr>\n",
              "      <th>3</th>\n",
              "      <td>1208</td>\n",
              "      <td>Особенности охлаждения сверхпроводниковых устр...</td>\n",
              "      <td>12522</td>\n",
              "      <td>25.2</td>\n",
              "      <td>4.4</td>\n",
              "      <td>0.0</td>\n",
              "      <td>4.0</td>\n",
              "      <td>0.0</td>\n",
              "      <td>29.6</td>\n",
              "      <td>5</td>\n",
              "    </tr>\n",
              "  </tbody>\n",
              "</table>\n",
              "</div>"
            ],
            "text/plain": [
              "     id  ... ordinal_number\n",
              "0    17  ...              1\n",
              "1    18  ...              2\n",
              "2    20  ...              4\n",
              "3  1208  ...              5\n",
              "\n",
              "[4 rows x 10 columns]"
            ]
          },
          "metadata": {},
          "execution_count": 9
        }
      ]
    },
    {
      "cell_type": "code",
      "metadata": {
        "colab": {
          "base_uri": "https://localhost:8080/",
          "height": 175
        },
        "id": "8D7I8SPT-O6f",
        "outputId": "a94430b7-fb6c-443a-8550-921e0f203a71"
      },
      "source": [
        "# темы РПД (\"содержание дисциплины\")\n",
        "wp_topic.head(4)"
      ],
      "execution_count": null,
      "outputs": [
        {
          "output_type": "execute_result",
          "data": {
            "text/html": [
              "<div>\n",
              "<style scoped>\n",
              "    .dataframe tbody tr th:only-of-type {\n",
              "        vertical-align: middle;\n",
              "    }\n",
              "\n",
              "    .dataframe tbody tr th {\n",
              "        vertical-align: top;\n",
              "    }\n",
              "\n",
              "    .dataframe thead th {\n",
              "        text-align: right;\n",
              "    }\n",
              "</style>\n",
              "<table border=\"1\" class=\"dataframe\">\n",
              "  <thead>\n",
              "    <tr style=\"text-align: right;\">\n",
              "      <th></th>\n",
              "      <th>id</th>\n",
              "      <th>number</th>\n",
              "      <th>description</th>\n",
              "      <th>discipline_section_id</th>\n",
              "      <th>url_online_course_id</th>\n",
              "    </tr>\n",
              "  </thead>\n",
              "  <tbody>\n",
              "    <tr>\n",
              "      <th>0</th>\n",
              "      <td>42</td>\n",
              "      <td>1</td>\n",
              "      <td>Администрирование БД</td>\n",
              "      <td>10</td>\n",
              "      <td>NaN</td>\n",
              "    </tr>\n",
              "    <tr>\n",
              "      <th>1</th>\n",
              "      <td>43</td>\n",
              "      <td>2</td>\n",
              "      <td>Привилегии пользователей</td>\n",
              "      <td>10</td>\n",
              "      <td>NaN</td>\n",
              "    </tr>\n",
              "    <tr>\n",
              "      <th>2</th>\n",
              "      <td>44</td>\n",
              "      <td>3</td>\n",
              "      <td>Виды доступа к БД</td>\n",
              "      <td>10</td>\n",
              "      <td>NaN</td>\n",
              "    </tr>\n",
              "    <tr>\n",
              "      <th>3</th>\n",
              "      <td>45</td>\n",
              "      <td>4</td>\n",
              "      <td>Технические методы и средства защиты БД</td>\n",
              "      <td>10</td>\n",
              "      <td>NaN</td>\n",
              "    </tr>\n",
              "  </tbody>\n",
              "</table>\n",
              "</div>"
            ],
            "text/plain": [
              "   id  number  ... discipline_section_id  url_online_course_id\n",
              "0  42       1  ...                    10                   NaN\n",
              "1  43       2  ...                    10                   NaN\n",
              "2  44       3  ...                    10                   NaN\n",
              "3  45       4  ...                    10                   NaN\n",
              "\n",
              "[4 rows x 5 columns]"
            ]
          },
          "metadata": {},
          "execution_count": 10
        }
      ]
    },
    {
      "cell_type": "code",
      "metadata": {
        "colab": {
          "base_uri": "https://localhost:8080/",
          "height": 175
        },
        "id": "C9ji4LKWveG5",
        "outputId": "ea9fe66f-66fb-4c6f-935e-4786c5ad9675"
      },
      "source": [
        "# пререквизиты обучения в РПД\n",
        "wp_prereq.head(4)"
      ],
      "execution_count": null,
      "outputs": [
        {
          "output_type": "execute_result",
          "data": {
            "text/html": [
              "<div>\n",
              "<style scoped>\n",
              "    .dataframe tbody tr th:only-of-type {\n",
              "        vertical-align: middle;\n",
              "    }\n",
              "\n",
              "    .dataframe tbody tr th {\n",
              "        vertical-align: top;\n",
              "    }\n",
              "\n",
              "    .dataframe thead th {\n",
              "        text-align: right;\n",
              "    }\n",
              "</style>\n",
              "<table border=\"1\" class=\"dataframe\">\n",
              "  <thead>\n",
              "    <tr style=\"text-align: right;\">\n",
              "      <th></th>\n",
              "      <th>id</th>\n",
              "      <th>masterylevel</th>\n",
              "      <th>item_id</th>\n",
              "      <th>workprogram_id</th>\n",
              "    </tr>\n",
              "  </thead>\n",
              "  <tbody>\n",
              "    <tr>\n",
              "      <th>0</th>\n",
              "      <td>106</td>\n",
              "      <td>1</td>\n",
              "      <td>427</td>\n",
              "      <td>2811</td>\n",
              "    </tr>\n",
              "    <tr>\n",
              "      <th>1</th>\n",
              "      <td>107</td>\n",
              "      <td>1</td>\n",
              "      <td>428</td>\n",
              "      <td>2811</td>\n",
              "    </tr>\n",
              "    <tr>\n",
              "      <th>2</th>\n",
              "      <td>108</td>\n",
              "      <td>1</td>\n",
              "      <td>409</td>\n",
              "      <td>2811</td>\n",
              "    </tr>\n",
              "    <tr>\n",
              "      <th>3</th>\n",
              "      <td>109</td>\n",
              "      <td>2</td>\n",
              "      <td>427</td>\n",
              "      <td>6986</td>\n",
              "    </tr>\n",
              "  </tbody>\n",
              "</table>\n",
              "</div>"
            ],
            "text/plain": [
              "    id  masterylevel  item_id  workprogram_id\n",
              "0  106             1      427            2811\n",
              "1  107             1      428            2811\n",
              "2  108             1      409            2811\n",
              "3  109             2      427            6986"
            ]
          },
          "metadata": {},
          "execution_count": 11
        }
      ]
    },
    {
      "cell_type": "code",
      "metadata": {
        "colab": {
          "base_uri": "https://localhost:8080/",
          "height": 175
        },
        "id": "z78lkHHo35cF",
        "outputId": "c778c402-b1b3-4d4c-f380-b4f0b643fd6d"
      },
      "source": [
        "# результаты обучения в РПД\n",
        "wp_outcomes.head(4)"
      ],
      "execution_count": null,
      "outputs": [
        {
          "output_type": "execute_result",
          "data": {
            "text/html": [
              "<div>\n",
              "<style scoped>\n",
              "    .dataframe tbody tr th:only-of-type {\n",
              "        vertical-align: middle;\n",
              "    }\n",
              "\n",
              "    .dataframe tbody tr th {\n",
              "        vertical-align: top;\n",
              "    }\n",
              "\n",
              "    .dataframe thead th {\n",
              "        text-align: right;\n",
              "    }\n",
              "</style>\n",
              "<table border=\"1\" class=\"dataframe\">\n",
              "  <thead>\n",
              "    <tr style=\"text-align: right;\">\n",
              "      <th></th>\n",
              "      <th>id</th>\n",
              "      <th>masterylevel</th>\n",
              "      <th>item_id</th>\n",
              "      <th>workprogram_id</th>\n",
              "    </tr>\n",
              "  </thead>\n",
              "  <tbody>\n",
              "    <tr>\n",
              "      <th>0</th>\n",
              "      <td>44816</td>\n",
              "      <td>2</td>\n",
              "      <td>9506</td>\n",
              "      <td>12684</td>\n",
              "    </tr>\n",
              "    <tr>\n",
              "      <th>1</th>\n",
              "      <td>44817</td>\n",
              "      <td>2</td>\n",
              "      <td>9502</td>\n",
              "      <td>12685</td>\n",
              "    </tr>\n",
              "    <tr>\n",
              "      <th>2</th>\n",
              "      <td>303</td>\n",
              "      <td>3</td>\n",
              "      <td>620</td>\n",
              "      <td>2730</td>\n",
              "    </tr>\n",
              "    <tr>\n",
              "      <th>3</th>\n",
              "      <td>305</td>\n",
              "      <td>3</td>\n",
              "      <td>1415</td>\n",
              "      <td>2730</td>\n",
              "    </tr>\n",
              "  </tbody>\n",
              "</table>\n",
              "</div>"
            ],
            "text/plain": [
              "      id  masterylevel  item_id  workprogram_id\n",
              "0  44816             2     9506           12684\n",
              "1  44817             2     9502           12685\n",
              "2    303             3      620            2730\n",
              "3    305             3     1415            2730"
            ]
          },
          "metadata": {},
          "execution_count": 12
        }
      ]
    },
    {
      "cell_type": "code",
      "metadata": {
        "colab": {
          "base_uri": "https://localhost:8080/",
          "height": 424
        },
        "id": "r1stJNif_wof",
        "outputId": "ea75b53d-40f5-46b7-9680-cffcebae1541"
      },
      "source": [
        "# учебные сущности\n",
        "dp_items = dp_items[dp_items['name'].notna()]\n",
        "dp_items"
      ],
      "execution_count": null,
      "outputs": [
        {
          "output_type": "execute_result",
          "data": {
            "text/html": [
              "<div>\n",
              "<style scoped>\n",
              "    .dataframe tbody tr th:only-of-type {\n",
              "        vertical-align: middle;\n",
              "    }\n",
              "\n",
              "    .dataframe tbody tr th {\n",
              "        vertical-align: top;\n",
              "    }\n",
              "\n",
              "    .dataframe thead th {\n",
              "        text-align: right;\n",
              "    }\n",
              "</style>\n",
              "<table border=\"1\" class=\"dataframe\">\n",
              "  <thead>\n",
              "    <tr style=\"text-align: right;\">\n",
              "      <th></th>\n",
              "      <th>id</th>\n",
              "      <th>name</th>\n",
              "      <th>value</th>\n",
              "      <th>source</th>\n",
              "      <th>author_id</th>\n",
              "      <th>domain_id</th>\n",
              "    </tr>\n",
              "  </thead>\n",
              "  <tbody>\n",
              "    <tr>\n",
              "      <th>0</th>\n",
              "      <td>150</td>\n",
              "      <td>Эйлеровы графы</td>\n",
              "      <td>16</td>\n",
              "      <td>uploaded</td>\n",
              "      <td>1.0</td>\n",
              "      <td>15.0</td>\n",
              "    </tr>\n",
              "    <tr>\n",
              "      <th>1</th>\n",
              "      <td>151</td>\n",
              "      <td>Эйлеров цикл</td>\n",
              "      <td>16</td>\n",
              "      <td>uploaded</td>\n",
              "      <td>1.0</td>\n",
              "      <td>15.0</td>\n",
              "    </tr>\n",
              "    <tr>\n",
              "      <th>2</th>\n",
              "      <td>152</td>\n",
              "      <td>Эйлеров путь</td>\n",
              "      <td>16</td>\n",
              "      <td>uploaded</td>\n",
              "      <td>1.0</td>\n",
              "      <td>15.0</td>\n",
              "    </tr>\n",
              "    <tr>\n",
              "      <th>3</th>\n",
              "      <td>153</td>\n",
              "      <td>Эйлеровость орграфов</td>\n",
              "      <td>16</td>\n",
              "      <td>uploaded</td>\n",
              "      <td>1.0</td>\n",
              "      <td>15.0</td>\n",
              "    </tr>\n",
              "    <tr>\n",
              "      <th>4</th>\n",
              "      <td>155</td>\n",
              "      <td>Графы де Брюина</td>\n",
              "      <td>16</td>\n",
              "      <td>uploaded</td>\n",
              "      <td>1.0</td>\n",
              "      <td>15.0</td>\n",
              "    </tr>\n",
              "    <tr>\n",
              "      <th>...</th>\n",
              "      <td>...</td>\n",
              "      <td>...</td>\n",
              "      <td>...</td>\n",
              "      <td>...</td>\n",
              "      <td>...</td>\n",
              "      <td>...</td>\n",
              "    </tr>\n",
              "    <tr>\n",
              "      <th>18346</th>\n",
              "      <td>18559</td>\n",
              "      <td>Химический состав нутриентов</td>\n",
              "      <td>2</td>\n",
              "      <td>NaN</td>\n",
              "      <td>NaN</td>\n",
              "      <td>59.0</td>\n",
              "    </tr>\n",
              "    <tr>\n",
              "      <th>18347</th>\n",
              "      <td>18913</td>\n",
              "      <td>Компьютерное моделирование нелинейных финансов...</td>\n",
              "      <td>1</td>\n",
              "      <td>NaN</td>\n",
              "      <td>NaN</td>\n",
              "      <td>17.0</td>\n",
              "    </tr>\n",
              "    <tr>\n",
              "      <th>18348</th>\n",
              "      <td>18914</td>\n",
              "      <td>Проектирование тепломассообменного оборудования</td>\n",
              "      <td>1</td>\n",
              "      <td>NaN</td>\n",
              "      <td>NaN</td>\n",
              "      <td>88.0</td>\n",
              "    </tr>\n",
              "    <tr>\n",
              "      <th>18349</th>\n",
              "      <td>18916</td>\n",
              "      <td>Программируемые логические контроллеры</td>\n",
              "      <td>0</td>\n",
              "      <td>NaN</td>\n",
              "      <td>NaN</td>\n",
              "      <td>52.0</td>\n",
              "    </tr>\n",
              "    <tr>\n",
              "      <th>18350</th>\n",
              "      <td>18915</td>\n",
              "      <td>Программируемые логические контроллеры</td>\n",
              "      <td>2</td>\n",
              "      <td>NaN</td>\n",
              "      <td>NaN</td>\n",
              "      <td>52.0</td>\n",
              "    </tr>\n",
              "  </tbody>\n",
              "</table>\n",
              "<p>18350 rows × 6 columns</p>\n",
              "</div>"
            ],
            "text/plain": [
              "          id  ... domain_id\n",
              "0        150  ...      15.0\n",
              "1        151  ...      15.0\n",
              "2        152  ...      15.0\n",
              "3        153  ...      15.0\n",
              "4        155  ...      15.0\n",
              "...      ...  ...       ...\n",
              "18346  18559  ...      59.0\n",
              "18347  18913  ...      17.0\n",
              "18348  18914  ...      88.0\n",
              "18349  18916  ...      52.0\n",
              "18350  18915  ...      52.0\n",
              "\n",
              "[18350 rows x 6 columns]"
            ]
          },
          "metadata": {},
          "execution_count": 13
        }
      ]
    },
    {
      "cell_type": "code",
      "metadata": {
        "colab": {
          "base_uri": "https://localhost:8080/"
        },
        "id": "CGAydWB2M-UT",
        "outputId": "7551149a-da93-46f6-c055-048fe6c0127e"
      },
      "source": [
        "len(('oejo wo fjow ojo').split())"
      ],
      "execution_count": null,
      "outputs": [
        {
          "output_type": "execute_result",
          "data": {
            "text/plain": [
              "4"
            ]
          },
          "metadata": {},
          "execution_count": 14
        }
      ]
    },
    {
      "cell_type": "code",
      "metadata": {
        "colab": {
          "base_uri": "https://localhost:8080/",
          "height": 424
        },
        "id": "i0DWqBhKMuOO",
        "outputId": "c207dc4b-75b0-41f9-9b1a-78246e362bcc"
      },
      "source": [
        "dp_items1 = dp_items.copy()\n",
        "dp_items1['len'] = dp_items1.name.apply(lambda x: len(x.split()))\n",
        "dp_items1[dp_items1.len > 2]"
      ],
      "execution_count": null,
      "outputs": [
        {
          "output_type": "execute_result",
          "data": {
            "text/html": [
              "<div>\n",
              "<style scoped>\n",
              "    .dataframe tbody tr th:only-of-type {\n",
              "        vertical-align: middle;\n",
              "    }\n",
              "\n",
              "    .dataframe tbody tr th {\n",
              "        vertical-align: top;\n",
              "    }\n",
              "\n",
              "    .dataframe thead th {\n",
              "        text-align: right;\n",
              "    }\n",
              "</style>\n",
              "<table border=\"1\" class=\"dataframe\">\n",
              "  <thead>\n",
              "    <tr style=\"text-align: right;\">\n",
              "      <th></th>\n",
              "      <th>id</th>\n",
              "      <th>name</th>\n",
              "      <th>value</th>\n",
              "      <th>source</th>\n",
              "      <th>author_id</th>\n",
              "      <th>domain_id</th>\n",
              "      <th>len</th>\n",
              "    </tr>\n",
              "  </thead>\n",
              "  <tbody>\n",
              "    <tr>\n",
              "      <th>4</th>\n",
              "      <td>155</td>\n",
              "      <td>Графы де Брюина</td>\n",
              "      <td>16</td>\n",
              "      <td>uploaded</td>\n",
              "      <td>1.0</td>\n",
              "      <td>15.0</td>\n",
              "      <td>3</td>\n",
              "    </tr>\n",
              "    <tr>\n",
              "      <th>5</th>\n",
              "      <td>156</td>\n",
              "      <td>Деревья Эйлерова обхода</td>\n",
              "      <td>16</td>\n",
              "      <td>uploaded</td>\n",
              "      <td>1.0</td>\n",
              "      <td>15.0</td>\n",
              "      <td>3</td>\n",
              "    </tr>\n",
              "    <tr>\n",
              "      <th>11</th>\n",
              "      <td>179</td>\n",
              "      <td>Кратчайшие пути в графах</td>\n",
              "      <td>23</td>\n",
              "      <td>uploaded</td>\n",
              "      <td>1.0</td>\n",
              "      <td>15.0</td>\n",
              "      <td>4</td>\n",
              "    </tr>\n",
              "    <tr>\n",
              "      <th>20</th>\n",
              "      <td>207</td>\n",
              "      <td>Алгоритм вырезания соцветий</td>\n",
              "      <td>13</td>\n",
              "      <td>uploaded</td>\n",
              "      <td>1.0</td>\n",
              "      <td>15.0</td>\n",
              "      <td>3</td>\n",
              "    </tr>\n",
              "    <tr>\n",
              "      <th>21</th>\n",
              "      <td>119</td>\n",
              "      <td>Метод ближайших соседей</td>\n",
              "      <td>81</td>\n",
              "      <td>uploaded</td>\n",
              "      <td>1.0</td>\n",
              "      <td>15.0</td>\n",
              "      <td>3</td>\n",
              "    </tr>\n",
              "    <tr>\n",
              "      <th>...</th>\n",
              "      <td>...</td>\n",
              "      <td>...</td>\n",
              "      <td>...</td>\n",
              "      <td>...</td>\n",
              "      <td>...</td>\n",
              "      <td>...</td>\n",
              "      <td>...</td>\n",
              "    </tr>\n",
              "    <tr>\n",
              "      <th>18346</th>\n",
              "      <td>18559</td>\n",
              "      <td>Химический состав нутриентов</td>\n",
              "      <td>2</td>\n",
              "      <td>NaN</td>\n",
              "      <td>NaN</td>\n",
              "      <td>59.0</td>\n",
              "      <td>3</td>\n",
              "    </tr>\n",
              "    <tr>\n",
              "      <th>18347</th>\n",
              "      <td>18913</td>\n",
              "      <td>Компьютерное моделирование нелинейных финансов...</td>\n",
              "      <td>1</td>\n",
              "      <td>NaN</td>\n",
              "      <td>NaN</td>\n",
              "      <td>17.0</td>\n",
              "      <td>5</td>\n",
              "    </tr>\n",
              "    <tr>\n",
              "      <th>18348</th>\n",
              "      <td>18914</td>\n",
              "      <td>Проектирование тепломассообменного оборудования</td>\n",
              "      <td>1</td>\n",
              "      <td>NaN</td>\n",
              "      <td>NaN</td>\n",
              "      <td>88.0</td>\n",
              "      <td>3</td>\n",
              "    </tr>\n",
              "    <tr>\n",
              "      <th>18349</th>\n",
              "      <td>18916</td>\n",
              "      <td>Программируемые логические контроллеры</td>\n",
              "      <td>0</td>\n",
              "      <td>NaN</td>\n",
              "      <td>NaN</td>\n",
              "      <td>52.0</td>\n",
              "      <td>3</td>\n",
              "    </tr>\n",
              "    <tr>\n",
              "      <th>18350</th>\n",
              "      <td>18915</td>\n",
              "      <td>Программируемые логические контроллеры</td>\n",
              "      <td>2</td>\n",
              "      <td>NaN</td>\n",
              "      <td>NaN</td>\n",
              "      <td>52.0</td>\n",
              "      <td>3</td>\n",
              "    </tr>\n",
              "  </tbody>\n",
              "</table>\n",
              "<p>10899 rows × 7 columns</p>\n",
              "</div>"
            ],
            "text/plain": [
              "          id                                               name  ...  domain_id len\n",
              "4        155                                    Графы де Брюина  ...       15.0   3\n",
              "5        156                            Деревья Эйлерова обхода  ...       15.0   3\n",
              "11       179                           Кратчайшие пути в графах  ...       15.0   4\n",
              "20       207                        Алгоритм вырезания соцветий  ...       15.0   3\n",
              "21       119                            Метод ближайших соседей  ...       15.0   3\n",
              "...      ...                                                ...  ...        ...  ..\n",
              "18346  18559                       Химический состав нутриентов  ...       59.0   3\n",
              "18347  18913  Компьютерное моделирование нелинейных финансов...  ...       17.0   5\n",
              "18348  18914    Проектирование тепломассообменного оборудования  ...       88.0   3\n",
              "18349  18916             Программируемые логические контроллеры  ...       52.0   3\n",
              "18350  18915             Программируемые логические контроллеры  ...       52.0   3\n",
              "\n",
              "[10899 rows x 7 columns]"
            ]
          },
          "metadata": {},
          "execution_count": 15
        }
      ]
    },
    {
      "cell_type": "code",
      "metadata": {
        "colab": {
          "base_uri": "https://localhost:8080/"
        },
        "id": "f-5sWYcgOROd",
        "outputId": "9e29716d-5f59-4211-904c-5f0c0e0e66e7"
      },
      "source": [
        "dp_items1.len.value_counts(normalize=True)"
      ],
      "execution_count": null,
      "outputs": [
        {
          "output_type": "execute_result",
          "data": {
            "text/plain": [
              "2     0.327357\n",
              "3     0.268229\n",
              "4     0.169373\n",
              "5     0.093134\n",
              "1     0.078692\n",
              "6     0.036022\n",
              "7     0.017057\n",
              "8     0.005886\n",
              "9     0.001853\n",
              "10    0.000981\n",
              "11    0.000599\n",
              "14    0.000436\n",
              "12    0.000163\n",
              "13    0.000109\n",
              "20    0.000054\n",
              "17    0.000054\n",
              "Name: len, dtype: float64"
            ]
          },
          "metadata": {},
          "execution_count": 16
        }
      ]
    },
    {
      "cell_type": "markdown",
      "metadata": {
        "id": "Fg5NUDV3oFsg"
      },
      "source": [
        "---\n",
        "## -- Для рек-ии пререквизитов:\n"
      ]
    },
    {
      "cell_type": "code",
      "metadata": {
        "colab": {
          "base_uri": "https://localhost:8080/"
        },
        "id": "Uzqj-2UWnqtQ",
        "outputId": "fd39c478-b0e8-4766-8e2b-8210b62dbcea"
      },
      "source": [
        "# учебные планы\n",
        "# academic_plan_id -- id для сайта; id -- id для таблиц\n",
        "wp_iaplan.head(3)"
      ],
      "execution_count": null,
      "outputs": [
        {
          "output_type": "execute_result",
          "data": {
            "text/html": [
              "<div>\n",
              "<style scoped>\n",
              "    .dataframe tbody tr th:only-of-type {\n",
              "        vertical-align: middle;\n",
              "    }\n",
              "\n",
              "    .dataframe tbody tr th {\n",
              "        vertical-align: top;\n",
              "    }\n",
              "\n",
              "    .dataframe thead th {\n",
              "        text-align: right;\n",
              "    }\n",
              "</style>\n",
              "<table border=\"1\" class=\"dataframe\">\n",
              "  <thead>\n",
              "    <tr style=\"text-align: right;\">\n",
              "      <th></th>\n",
              "      <th>id</th>\n",
              "      <th>year</th>\n",
              "      <th>academic_plan_id</th>\n",
              "      <th>period_of_study</th>\n",
              "      <th>op_isu_id</th>\n",
              "      <th>ns_id</th>\n",
              "      <th>ap_isu_id</th>\n",
              "      <th>educational_profile</th>\n",
              "      <th>language</th>\n",
              "      <th>qualification</th>\n",
              "      <th>title</th>\n",
              "    </tr>\n",
              "  </thead>\n",
              "  <tbody>\n",
              "    <tr>\n",
              "      <th>0</th>\n",
              "      <td>531</td>\n",
              "      <td>2019</td>\n",
              "      <td>473</td>\n",
              "      <td>NaN</td>\n",
              "      <td>6960</td>\n",
              "      <td>3893</td>\n",
              "      <td>11687</td>\n",
              "      <td>NaN</td>\n",
              "      <td>ru</td>\n",
              "      <td>bachelor</td>\n",
              "      <td>Нейротехнологии и программирование</td>\n",
              "    </tr>\n",
              "    <tr>\n",
              "      <th>1</th>\n",
              "      <td>493</td>\n",
              "      <td>2018</td>\n",
              "      <td>435</td>\n",
              "      <td>NaN</td>\n",
              "      <td>6215</td>\n",
              "      <td>3108</td>\n",
              "      <td>10555</td>\n",
              "      <td>NaN</td>\n",
              "      <td>ru</td>\n",
              "      <td>bachelor</td>\n",
              "      <td>Информатика и программирование</td>\n",
              "    </tr>\n",
              "    <tr>\n",
              "      <th>2</th>\n",
              "      <td>528</td>\n",
              "      <td>2020</td>\n",
              "      <td>470</td>\n",
              "      <td>NaN</td>\n",
              "      <td>6959</td>\n",
              "      <td>3892</td>\n",
              "      <td>13280</td>\n",
              "      <td>NaN</td>\n",
              "      <td>ru</td>\n",
              "      <td>bachelor</td>\n",
              "      <td>Компьютерные технологии в дизайне</td>\n",
              "    </tr>\n",
              "  </tbody>\n",
              "</table>\n",
              "</div>"
            ],
            "text/plain": [
              "    id  year  ...  qualification                               title\n",
              "0  531  2019  ...       bachelor  Нейротехнологии и программирование\n",
              "1  493  2018  ...       bachelor      Информатика и программирование\n",
              "2  528  2020  ...       bachelor   Компьютерные технологии в дизайне\n",
              "\n",
              "[3 rows x 11 columns]"
            ]
          },
          "metadata": {},
          "execution_count": 17
        }
      ]
    },
    {
      "cell_type": "code",
      "metadata": {
        "colab": {
          "base_uri": "https://localhost:8080/"
        },
        "id": "-EXGJrW76avC",
        "outputId": "b1010ea1-a4b9-410f-c109-98307447f8e6"
      },
      "source": [
        "# предметная область\n",
        "wp_fos.head(4)"
      ],
      "execution_count": null,
      "outputs": [
        {
          "output_type": "execute_result",
          "data": {
            "text/html": [
              "<div>\n",
              "<style scoped>\n",
              "    .dataframe tbody tr th:only-of-type {\n",
              "        vertical-align: middle;\n",
              "    }\n",
              "\n",
              "    .dataframe tbody tr th {\n",
              "        vertical-align: top;\n",
              "    }\n",
              "\n",
              "    .dataframe thead th {\n",
              "        text-align: right;\n",
              "    }\n",
              "</style>\n",
              "<table border=\"1\" class=\"dataframe\">\n",
              "  <thead>\n",
              "    <tr style=\"text-align: right;\">\n",
              "      <th></th>\n",
              "      <th>id</th>\n",
              "      <th>number</th>\n",
              "      <th>qualification</th>\n",
              "      <th>education_form</th>\n",
              "      <th>educational_profile</th>\n",
              "      <th>title</th>\n",
              "      <th>faculty</th>\n",
              "    </tr>\n",
              "  </thead>\n",
              "  <tbody>\n",
              "    <tr>\n",
              "      <th>0</th>\n",
              "      <td>15734</td>\n",
              "      <td>01.03.02</td>\n",
              "      <td>bachelor</td>\n",
              "      <td>NaN</td>\n",
              "      <td>NaN</td>\n",
              "      <td>Прикладная математика и информатика</td>\n",
              "      <td>NaN</td>\n",
              "    </tr>\n",
              "    <tr>\n",
              "      <th>1</th>\n",
              "      <td>15735</td>\n",
              "      <td>01.04.02</td>\n",
              "      <td>master</td>\n",
              "      <td>NaN</td>\n",
              "      <td>NaN</td>\n",
              "      <td>Прикладная математика и информатика</td>\n",
              "      <td>NaN</td>\n",
              "    </tr>\n",
              "    <tr>\n",
              "      <th>2</th>\n",
              "      <td>15736</td>\n",
              "      <td>02.04.03</td>\n",
              "      <td>master</td>\n",
              "      <td>NaN</td>\n",
              "      <td>NaN</td>\n",
              "      <td>Математическое обеспечение и администрирование...</td>\n",
              "      <td>NaN</td>\n",
              "    </tr>\n",
              "    <tr>\n",
              "      <th>3</th>\n",
              "      <td>15737</td>\n",
              "      <td>07.04.04</td>\n",
              "      <td>master</td>\n",
              "      <td>NaN</td>\n",
              "      <td>NaN</td>\n",
              "      <td>Градостроительство</td>\n",
              "      <td>NaN</td>\n",
              "    </tr>\n",
              "  </tbody>\n",
              "</table>\n",
              "</div>"
            ],
            "text/plain": [
              "      id    number  ...                                              title  faculty\n",
              "0  15734  01.03.02  ...                Прикладная математика и информатика      NaN\n",
              "1  15735  01.04.02  ...                Прикладная математика и информатика      NaN\n",
              "2  15736  02.04.03  ...  Математическое обеспечение и администрирование...      NaN\n",
              "3  15737  07.04.04  ...                                 Градостроительство      NaN\n",
              "\n",
              "[4 rows x 7 columns]"
            ]
          },
          "metadata": {},
          "execution_count": 18
        }
      ]
    },
    {
      "cell_type": "code",
      "metadata": {
        "colab": {
          "base_uri": "https://localhost:8080/"
        },
        "id": "fUlvzgRVnqkw",
        "outputId": "8a8c2ded-b05a-4906-e451-bbdc4d881b3a"
      },
      "source": [
        "# связь уч.плана и предметной области\n",
        "wp_iaplan_fos.head(5)"
      ],
      "execution_count": null,
      "outputs": [
        {
          "output_type": "execute_result",
          "data": {
            "text/html": [
              "<div>\n",
              "<style scoped>\n",
              "    .dataframe tbody tr th:only-of-type {\n",
              "        vertical-align: middle;\n",
              "    }\n",
              "\n",
              "    .dataframe tbody tr th {\n",
              "        vertical-align: top;\n",
              "    }\n",
              "\n",
              "    .dataframe thead th {\n",
              "        text-align: right;\n",
              "    }\n",
              "</style>\n",
              "<table border=\"1\" class=\"dataframe\">\n",
              "  <thead>\n",
              "    <tr style=\"text-align: right;\">\n",
              "      <th></th>\n",
              "      <th>id</th>\n",
              "      <th>implementationacademicplan_id</th>\n",
              "      <th>fieldofstudy_id</th>\n",
              "    </tr>\n",
              "  </thead>\n",
              "  <tbody>\n",
              "    <tr>\n",
              "      <th>0</th>\n",
              "      <td>34</td>\n",
              "      <td>493</td>\n",
              "      <td>15734</td>\n",
              "    </tr>\n",
              "    <tr>\n",
              "      <th>1</th>\n",
              "      <td>35</td>\n",
              "      <td>494</td>\n",
              "      <td>15734</td>\n",
              "    </tr>\n",
              "    <tr>\n",
              "      <th>2</th>\n",
              "      <td>36</td>\n",
              "      <td>495</td>\n",
              "      <td>15734</td>\n",
              "    </tr>\n",
              "    <tr>\n",
              "      <th>3</th>\n",
              "      <td>37</td>\n",
              "      <td>496</td>\n",
              "      <td>15734</td>\n",
              "    </tr>\n",
              "    <tr>\n",
              "      <th>4</th>\n",
              "      <td>38</td>\n",
              "      <td>497</td>\n",
              "      <td>15735</td>\n",
              "    </tr>\n",
              "  </tbody>\n",
              "</table>\n",
              "</div>"
            ],
            "text/plain": [
              "   id  implementationacademicplan_id  fieldofstudy_id\n",
              "0  34                            493            15734\n",
              "1  35                            494            15734\n",
              "2  36                            495            15734\n",
              "3  37                            496            15734\n",
              "4  38                            497            15735"
            ]
          },
          "metadata": {},
          "execution_count": 19
        }
      ]
    },
    {
      "cell_type": "markdown",
      "metadata": {
        "id": "VL7joB6u-02D"
      },
      "source": [
        "\n",
        "\n",
        "---\n",
        "\n"
      ]
    },
    {
      "cell_type": "code",
      "metadata": {
        "colab": {
          "base_uri": "https://localhost:8080/"
        },
        "id": "VVoV1cl9nqyG",
        "outputId": "f7020509-b223-4127-edfd-195d23015fd6"
      },
      "source": [
        "# модули в блоках в уч.плане\n",
        "wp_disc_bm.head(4)"
      ],
      "execution_count": null,
      "outputs": [
        {
          "output_type": "execute_result",
          "data": {
            "text/html": [
              "<div>\n",
              "<style scoped>\n",
              "    .dataframe tbody tr th:only-of-type {\n",
              "        vertical-align: middle;\n",
              "    }\n",
              "\n",
              "    .dataframe tbody tr th {\n",
              "        vertical-align: top;\n",
              "    }\n",
              "\n",
              "    .dataframe thead th {\n",
              "        text-align: right;\n",
              "    }\n",
              "</style>\n",
              "<table border=\"1\" class=\"dataframe\">\n",
              "  <thead>\n",
              "    <tr style=\"text-align: right;\">\n",
              "      <th></th>\n",
              "      <th>id</th>\n",
              "      <th>name</th>\n",
              "      <th>descipline_block_id</th>\n",
              "      <th>order</th>\n",
              "      <th>description</th>\n",
              "      <th>type</th>\n",
              "    </tr>\n",
              "  </thead>\n",
              "  <tbody>\n",
              "    <tr>\n",
              "      <th>0</th>\n",
              "      <td>8461</td>\n",
              "      <td>Универсальный модуль</td>\n",
              "      <td>1695</td>\n",
              "      <td>2</td>\n",
              "      <td>NaN</td>\n",
              "      <td>faculty_module</td>\n",
              "    </tr>\n",
              "    <tr>\n",
              "      <th>1</th>\n",
              "      <td>8462</td>\n",
              "      <td>Модуль «Философия+Мышление»</td>\n",
              "      <td>1695</td>\n",
              "      <td>5</td>\n",
              "      <td>NaN</td>\n",
              "      <td>faculty_module</td>\n",
              "    </tr>\n",
              "    <tr>\n",
              "      <th>2</th>\n",
              "      <td>8463</td>\n",
              "      <td>Модуль «Цифровая культура»</td>\n",
              "      <td>1695</td>\n",
              "      <td>7</td>\n",
              "      <td>NaN</td>\n",
              "      <td>faculty_module</td>\n",
              "    </tr>\n",
              "    <tr>\n",
              "      <th>3</th>\n",
              "      <td>8464</td>\n",
              "      <td>Модуль «Предпринимательская культура»</td>\n",
              "      <td>1695</td>\n",
              "      <td>8</td>\n",
              "      <td>NaN</td>\n",
              "      <td>faculty_module</td>\n",
              "    </tr>\n",
              "  </tbody>\n",
              "</table>\n",
              "</div>"
            ],
            "text/plain": [
              "     id                                   name  ...  description            type\n",
              "0  8461                   Универсальный модуль  ...          NaN  faculty_module\n",
              "1  8462            Модуль «Философия+Мышление»  ...          NaN  faculty_module\n",
              "2  8463             Модуль «Цифровая культура»  ...          NaN  faculty_module\n",
              "3  8464  Модуль «Предпринимательская культура»  ...          NaN  faculty_module\n",
              "\n",
              "[4 rows x 6 columns]"
            ]
          },
          "metadata": {},
          "execution_count": 20
        }
      ]
    },
    {
      "cell_type": "code",
      "metadata": {
        "colab": {
          "base_uri": "https://localhost:8080/"
        },
        "id": "-2Jmg593oFFC",
        "outputId": "a8e2b55b-ee84-414d-8873-61f11d31a004"
      },
      "source": [
        "# соответствие уч.плана блокам\n",
        "wp_disc_b.head(4)"
      ],
      "execution_count": null,
      "outputs": [
        {
          "output_type": "execute_result",
          "data": {
            "text/html": [
              "<div>\n",
              "<style scoped>\n",
              "    .dataframe tbody tr th:only-of-type {\n",
              "        vertical-align: middle;\n",
              "    }\n",
              "\n",
              "    .dataframe tbody tr th {\n",
              "        vertical-align: top;\n",
              "    }\n",
              "\n",
              "    .dataframe thead th {\n",
              "        text-align: right;\n",
              "    }\n",
              "</style>\n",
              "<table border=\"1\" class=\"dataframe\">\n",
              "  <thead>\n",
              "    <tr style=\"text-align: right;\">\n",
              "      <th></th>\n",
              "      <th>id</th>\n",
              "      <th>name</th>\n",
              "      <th>academic_plan_id</th>\n",
              "    </tr>\n",
              "  </thead>\n",
              "  <tbody>\n",
              "    <tr>\n",
              "      <th>0</th>\n",
              "      <td>1695</td>\n",
              "      <td>Блок 1. Модули (дисциплины)</td>\n",
              "      <td>435</td>\n",
              "    </tr>\n",
              "    <tr>\n",
              "      <th>1</th>\n",
              "      <td>1696</td>\n",
              "      <td>Блок 2. Практика</td>\n",
              "      <td>435</td>\n",
              "    </tr>\n",
              "    <tr>\n",
              "      <th>2</th>\n",
              "      <td>1697</td>\n",
              "      <td>Блок 3. ГИА</td>\n",
              "      <td>435</td>\n",
              "    </tr>\n",
              "    <tr>\n",
              "      <th>3</th>\n",
              "      <td>1698</td>\n",
              "      <td>Блок 4. Факультативные модули (дисциплины)</td>\n",
              "      <td>435</td>\n",
              "    </tr>\n",
              "  </tbody>\n",
              "</table>\n",
              "</div>"
            ],
            "text/plain": [
              "     id                                        name  academic_plan_id\n",
              "0  1695                 Блок 1. Модули (дисциплины)               435\n",
              "1  1696                            Блок 2. Практика               435\n",
              "2  1697                                 Блок 3. ГИА               435\n",
              "3  1698  Блок 4. Факультативные модули (дисциплины)               435"
            ]
          },
          "metadata": {},
          "execution_count": 21
        }
      ]
    },
    {
      "cell_type": "code",
      "metadata": {
        "id": "AviEjamPLg6p"
      },
      "source": [],
      "execution_count": null,
      "outputs": []
    },
    {
      "cell_type": "code",
      "metadata": {
        "colab": {
          "base_uri": "https://localhost:8080/"
        },
        "id": "lSr8p-5tovi3",
        "outputId": "0b3f7a45-5607-4dda-83da-dd9d84aaa9c5"
      },
      "source": [
        "# распр-ие РПД по модулям в уч.плане\n",
        "wp_wp_fos.head(3)"
      ],
      "execution_count": null,
      "outputs": [
        {
          "output_type": "execute_result",
          "data": {
            "text/html": [
              "<div>\n",
              "<style scoped>\n",
              "    .dataframe tbody tr th:only-of-type {\n",
              "        vertical-align: middle;\n",
              "    }\n",
              "\n",
              "    .dataframe tbody tr th {\n",
              "        vertical-align: top;\n",
              "    }\n",
              "\n",
              "    .dataframe thead th {\n",
              "        text-align: right;\n",
              "    }\n",
              "</style>\n",
              "<table border=\"1\" class=\"dataframe\">\n",
              "  <thead>\n",
              "    <tr style=\"text-align: right;\">\n",
              "      <th></th>\n",
              "      <th>id</th>\n",
              "      <th>work_program_id</th>\n",
              "      <th>work_program_change_in_discipline_block_module_id</th>\n",
              "      <th>id_str_up</th>\n",
              "    </tr>\n",
              "  </thead>\n",
              "  <tbody>\n",
              "    <tr>\n",
              "      <th>0</th>\n",
              "      <td>41411</td>\n",
              "      <td>2623</td>\n",
              "      <td>32043</td>\n",
              "      <td>NaN</td>\n",
              "    </tr>\n",
              "    <tr>\n",
              "      <th>1</th>\n",
              "      <td>41412</td>\n",
              "      <td>2624</td>\n",
              "      <td>32044</td>\n",
              "      <td>NaN</td>\n",
              "    </tr>\n",
              "    <tr>\n",
              "      <th>2</th>\n",
              "      <td>41413</td>\n",
              "      <td>2625</td>\n",
              "      <td>32045</td>\n",
              "      <td>NaN</td>\n",
              "    </tr>\n",
              "  </tbody>\n",
              "</table>\n",
              "</div>"
            ],
            "text/plain": [
              "      id  ...  id_str_up\n",
              "0  41411  ...        NaN\n",
              "1  41412  ...        NaN\n",
              "2  41413  ...        NaN\n",
              "\n",
              "[3 rows x 4 columns]"
            ]
          },
          "metadata": {},
          "execution_count": 22
        }
      ]
    },
    {
      "cell_type": "code",
      "metadata": {
        "colab": {
          "base_uri": "https://localhost:8080/"
        },
        "id": "ToYwLdLqXJ3k",
        "outputId": "463829c6-a264-4527-99d3-23f1eff3afac"
      },
      "source": [
        "# распр-ие РПД по модулям в уч.плане (2)\n",
        "wp_wp_disc_bm.head(4)"
      ],
      "execution_count": null,
      "outputs": [
        {
          "output_type": "execute_result",
          "data": {
            "text/html": [
              "<div>\n",
              "<style scoped>\n",
              "    .dataframe tbody tr th:only-of-type {\n",
              "        vertical-align: middle;\n",
              "    }\n",
              "\n",
              "    .dataframe tbody tr th {\n",
              "        vertical-align: top;\n",
              "    }\n",
              "\n",
              "    .dataframe thead th {\n",
              "        text-align: right;\n",
              "    }\n",
              "</style>\n",
              "<table border=\"1\" class=\"dataframe\">\n",
              "  <thead>\n",
              "    <tr style=\"text-align: right;\">\n",
              "      <th></th>\n",
              "      <th>id</th>\n",
              "      <th>discipline_block_module_id</th>\n",
              "      <th>change_type</th>\n",
              "      <th>semester_hour</th>\n",
              "      <th>credit_units</th>\n",
              "      <th>code</th>\n",
              "      <th>subject_code</th>\n",
              "    </tr>\n",
              "  </thead>\n",
              "  <tbody>\n",
              "    <tr>\n",
              "      <th>0</th>\n",
              "      <td>32043</td>\n",
              "      <td>8461</td>\n",
              "      <td>0</td>\n",
              "      <td>NaN</td>\n",
              "      <td>0, 0, 3.0, 0, 0, 0, 0, 0, 0, 0, 0, 0</td>\n",
              "      <td>NaN</td>\n",
              "      <td>1</td>\n",
              "    </tr>\n",
              "    <tr>\n",
              "      <th>1</th>\n",
              "      <td>32044</td>\n",
              "      <td>8461</td>\n",
              "      <td>0</td>\n",
              "      <td>NaN</td>\n",
              "      <td>0, 0, 2.0, 0, 0, 0, 0, 0, 0, 0, 0, 0</td>\n",
              "      <td>NaN</td>\n",
              "      <td>2</td>\n",
              "    </tr>\n",
              "    <tr>\n",
              "      <th>2</th>\n",
              "      <td>32045</td>\n",
              "      <td>8461</td>\n",
              "      <td>0</td>\n",
              "      <td>NaN</td>\n",
              "      <td>1.0, 1.0, 0, 0, 0, 0, 0, 0, 0, 0, 0, 0</td>\n",
              "      <td>NaN</td>\n",
              "      <td>3</td>\n",
              "    </tr>\n",
              "    <tr>\n",
              "      <th>3</th>\n",
              "      <td>32046</td>\n",
              "      <td>8462</td>\n",
              "      <td>0</td>\n",
              "      <td>NaN</td>\n",
              "      <td>0, 0, 0, 0, 0, 3.0, 0, 0, 0, 0, 0, 0</td>\n",
              "      <td>NaN</td>\n",
              "      <td>4</td>\n",
              "    </tr>\n",
              "  </tbody>\n",
              "</table>\n",
              "</div>"
            ],
            "text/plain": [
              "      id  discipline_block_module_id  ...  code  subject_code\n",
              "0  32043                        8461  ...   NaN             1\n",
              "1  32044                        8461  ...   NaN             2\n",
              "2  32045                        8461  ...   NaN             3\n",
              "3  32046                        8462  ...   NaN             4\n",
              "\n",
              "[4 rows x 7 columns]"
            ]
          },
          "metadata": {},
          "execution_count": 23
        }
      ]
    },
    {
      "cell_type": "markdown",
      "metadata": {
        "id": "9l-KgqMmz9c_"
      },
      "source": [
        "# Предобработка текст.данных"
      ]
    },
    {
      "cell_type": "code",
      "metadata": {
        "cellView": "form",
        "id": "VrUju5ts0x-a"
      },
      "source": [
        "#@title Загрузка библиотек\n",
        "%%capture\n",
        "!pip install pymorphy2\n",
        "!pip install -U pymorphy2-dicts-ru\n",
        "\n",
        "from nltk.corpus import stopwords\n",
        "from gensim.utils import simple_preprocess\n",
        "import nltk\n",
        "import gensim\n",
        "import pymorphy2\n",
        "nltk.download('stopwords')\n",
        "nltk.download('punkt')\n",
        "\n",
        "import spacy\n",
        "from spacy.lang.en.stop_words import STOP_WORDS\n"
      ],
      "execution_count": null,
      "outputs": []
    },
    {
      "cell_type": "code",
      "metadata": {
        "id": "ufQqtHle0s1g"
      },
      "source": [
        "def preprocess(df,clmn_name):\n",
        "  '''\n",
        "    Нижний регистр, удаление стоп-слов и пунктуации, лемматизация. \n",
        "    Аргументы: \n",
        "        df -- таблица; \n",
        "        clmn_name -- название колонки с текст.данными для предобработки. \n",
        "    Возвращает: копию таблицы с предобработанными текст.данными в колонке 'prepro'.\n",
        "  '''\n",
        "\n",
        "  df_new = df.copy()\n",
        "\n",
        "  ru_stopw = stopwords.words('russian')\n",
        "  morph = pymorphy2.MorphAnalyzer()\n",
        "  nlp = spacy.load('en')\n",
        "\n",
        "  # токенизация + убираем пунктуацию\n",
        "  #df_new['prepro'] = df_new[clmn_name].apply(lambda x: (simple_preprocess(str(x), deacc=True)))\n",
        "\n",
        "  # англ: токенизация, лемматизация, убираем стоп-слова/пунктуцацию\n",
        "  df_new['prepro'] = df_new[clmn_name].apply(lambda x:[i.lemma_ for i in nlp(x) \n",
        "                                                                  if not i.is_stop and not i.is_punct])\n",
        "\n",
        "  # рус: лемматизация, убираем стоп-слова, объединяем в строку\n",
        "  df_new['prepro'] =  df_new['prepro'].apply(lambda x:' '.join([morph.parse(word)[0].normal_form for word in x \n",
        "                                                                  if not morph.parse(word)[0].normal_form in ru_stopw]))\n",
        "\n",
        "  return df_new"
      ],
      "execution_count": null,
      "outputs": []
    },
    {
      "cell_type": "code",
      "metadata": {
        "id": "BV8iCaVF5zHj"
      },
      "source": [
        "'''\n",
        "#30мин где-то выполняется\n",
        "wp_topic_prepro = preprocess(wp_topic,'description')\n",
        "wp_disc_s_prepro = preprocess(wp_disc_s,'name')\n",
        "dp_items_prepro = preprocess(dp_items,'name')'''"
      ],
      "execution_count": null,
      "outputs": []
    },
    {
      "cell_type": "code",
      "metadata": {
        "id": "KBX8MyOJzBet"
      },
      "source": [
        "'''from google.colab import drive\n",
        "drive.mount('/content/drive')\n",
        "\n",
        "path = '/content/drive/My Drive/!Диплом/d/prepro/'\n",
        "\n",
        "with open(path+'wp_topic_prepro.csv', 'w') as f:\n",
        "  wp_topic_prepro.to_csv(f, sep=';')\n",
        "  f.close()\n",
        "\n",
        "with open(path+'wp_disc_s_prepro.csv', 'w') as f:\n",
        "  wp_disc_s_prepro.to_csv(f, sep=';')\n",
        "  f.close()\n",
        "\n",
        "with open(path+'dp_items_prepro.csv', 'w') as f:\n",
        "  dp_items_prepro.to_csv(f, sep=';')\n",
        "  f.close()\n",
        "\n",
        "drive.flush_and_unmount()'''"
      ],
      "execution_count": null,
      "outputs": []
    },
    {
      "cell_type": "code",
      "metadata": {
        "id": "fWzX45A5hqMk"
      },
      "source": [
        "# сохраняем предобработанные таблицы"
      ],
      "execution_count": null,
      "outputs": []
    },
    {
      "cell_type": "code",
      "metadata": {
        "colab": {
          "base_uri": "https://localhost:8080/"
        },
        "id": "qN6lSdWag-0R",
        "outputId": "f0fac0d3-1699-4428-8235-0bda57662b7c"
      },
      "source": [
        "from google.colab import drive\n",
        "drive.mount('/content/drive')\n",
        "\n",
        "path = '/content/drive/My Drive/!Диплом/d/prepro/'\n",
        "\n",
        "with open(path+'wp_topic_prepro.csv') as f:\n",
        "  wp_topic_prepro = pd.read_csv(f, sep=';')\n",
        "  f.close()\n",
        "\n",
        "with open(path+'wp_disc_s_prepro.csv') as f:\n",
        "  wp_disc_s_prepro = pd.read_csv(f, sep=';')\n",
        "  f.close()\n",
        "\n",
        "with open(path+'dp_items_prepro.csv') as f:\n",
        "  dp_items_prepro = pd.read_csv(f, sep=';')\n",
        "  f.close()\n",
        "  \n",
        "drive.flush_and_unmount()"
      ],
      "execution_count": null,
      "outputs": [
        {
          "output_type": "stream",
          "text": [
            "Mounted at /content/drive\n"
          ],
          "name": "stdout"
        }
      ]
    },
    {
      "cell_type": "code",
      "metadata": {
        "colab": {
          "base_uri": "https://localhost:8080/"
        },
        "id": "Rydq2duZ_03C",
        "outputId": "a770e982-f242-47e1-f172-f054bdf75bb1"
      },
      "source": [
        "wp_disc_s_prepro.head()"
      ],
      "execution_count": null,
      "outputs": [
        {
          "output_type": "execute_result",
          "data": {
            "text/html": [
              "<div>\n",
              "<style scoped>\n",
              "    .dataframe tbody tr th:only-of-type {\n",
              "        vertical-align: middle;\n",
              "    }\n",
              "\n",
              "    .dataframe tbody tr th {\n",
              "        vertical-align: top;\n",
              "    }\n",
              "\n",
              "    .dataframe thead th {\n",
              "        text-align: right;\n",
              "    }\n",
              "</style>\n",
              "<table border=\"1\" class=\"dataframe\">\n",
              "  <thead>\n",
              "    <tr style=\"text-align: right;\">\n",
              "      <th></th>\n",
              "      <th>Unnamed: 0</th>\n",
              "      <th>id</th>\n",
              "      <th>name</th>\n",
              "      <th>work_program_id</th>\n",
              "      <th>SRO</th>\n",
              "      <th>contact_work</th>\n",
              "      <th>laboratory</th>\n",
              "      <th>lecture_classes</th>\n",
              "      <th>practical_lessons</th>\n",
              "      <th>total_hours</th>\n",
              "      <th>ordinal_number</th>\n",
              "      <th>prepro</th>\n",
              "    </tr>\n",
              "  </thead>\n",
              "  <tbody>\n",
              "    <tr>\n",
              "      <th>0</th>\n",
              "      <td>0</td>\n",
              "      <td>17</td>\n",
              "      <td>Теоретические основы метрологии</td>\n",
              "      <td>5</td>\n",
              "      <td>4.0</td>\n",
              "      <td>2.2</td>\n",
              "      <td>0.0</td>\n",
              "      <td>2.0</td>\n",
              "      <td>0.0</td>\n",
              "      <td>8.0</td>\n",
              "      <td>1</td>\n",
              "      <td>теоретический основа метрология</td>\n",
              "    </tr>\n",
              "    <tr>\n",
              "      <th>1</th>\n",
              "      <td>1</td>\n",
              "      <td>18</td>\n",
              "      <td>Измерения, погрешности и неопределенности</td>\n",
              "      <td>5</td>\n",
              "      <td>10.0</td>\n",
              "      <td>13.2</td>\n",
              "      <td>8.0</td>\n",
              "      <td>4.0</td>\n",
              "      <td>0.0</td>\n",
              "      <td>35.0</td>\n",
              "      <td>2</td>\n",
              "      <td>измерение погрешность неопределённость</td>\n",
              "    </tr>\n",
              "    <tr>\n",
              "      <th>2</th>\n",
              "      <td>2</td>\n",
              "      <td>20</td>\n",
              "      <td>Обработка результатов измерений</td>\n",
              "      <td>5</td>\n",
              "      <td>4.0</td>\n",
              "      <td>4.4</td>\n",
              "      <td>NaN</td>\n",
              "      <td>4.0</td>\n",
              "      <td>NaN</td>\n",
              "      <td>12.0</td>\n",
              "      <td>4</td>\n",
              "      <td>обработка результат измерение</td>\n",
              "    </tr>\n",
              "    <tr>\n",
              "      <th>3</th>\n",
              "      <td>3</td>\n",
              "      <td>1208</td>\n",
              "      <td>Особенности охлаждения сверхпроводниковых устр...</td>\n",
              "      <td>12522</td>\n",
              "      <td>25.2</td>\n",
              "      <td>4.4</td>\n",
              "      <td>0.0</td>\n",
              "      <td>4.0</td>\n",
              "      <td>0.0</td>\n",
              "      <td>29.6</td>\n",
              "      <td>5</td>\n",
              "      <td>особенность охлаждение сверхпроводниковый устр...</td>\n",
              "    </tr>\n",
              "    <tr>\n",
              "      <th>4</th>\n",
              "      <td>4</td>\n",
              "      <td>28</td>\n",
              "      <td>Системная и программная архитектура</td>\n",
              "      <td>2811</td>\n",
              "      <td>29.5</td>\n",
              "      <td>27.5</td>\n",
              "      <td>16.0</td>\n",
              "      <td>9.0</td>\n",
              "      <td>NaN</td>\n",
              "      <td>56.0</td>\n",
              "      <td>2</td>\n",
              "      <td>системный программный архитектура</td>\n",
              "    </tr>\n",
              "  </tbody>\n",
              "</table>\n",
              "</div>"
            ],
            "text/plain": [
              "   Unnamed: 0  ...                                             prepro\n",
              "0           0  ...                    теоретический основа метрология\n",
              "1           1  ...             измерение погрешность неопределённость\n",
              "2           2  ...                      обработка результат измерение\n",
              "3           3  ...  особенность охлаждение сверхпроводниковый устр...\n",
              "4           4  ...                  системный программный архитектура\n",
              "\n",
              "[5 rows x 12 columns]"
            ]
          },
          "metadata": {
            "tags": []
          },
          "execution_count": 80
        }
      ]
    },
    {
      "cell_type": "markdown",
      "metadata": {
        "id": "sJs8tqUnz757"
      },
      "source": [
        "\n",
        "\n",
        "---\n",
        "\n"
      ]
    },
    {
      "cell_type": "markdown",
      "metadata": {
        "id": "8sfWtD6v2euR"
      },
      "source": [
        "# 1 вариант: Поиск уч.сущностей в названиях тем/разделов"
      ]
    },
    {
      "cell_type": "markdown",
      "metadata": {
        "id": "Xxx-1_b2B4np"
      },
      "source": [
        "убрали нан из таблицы сущностей, т.к. [item for item in items_list if item in x] -- ошибка"
      ]
    },
    {
      "cell_type": "code",
      "metadata": {
        "colab": {
          "base_uri": "https://localhost:8080/",
          "height": 49
        },
        "id": "on0O5VK36M8q",
        "outputId": "febacda9-c9b0-41d9-e701-445607afd0b8"
      },
      "source": [
        "dp_items_prepro[dp_items_prepro.prepro.isna()]"
      ],
      "execution_count": null,
      "outputs": [
        {
          "output_type": "execute_result",
          "data": {
            "text/html": [
              "<div>\n",
              "<style scoped>\n",
              "    .dataframe tbody tr th:only-of-type {\n",
              "        vertical-align: middle;\n",
              "    }\n",
              "\n",
              "    .dataframe tbody tr th {\n",
              "        vertical-align: top;\n",
              "    }\n",
              "\n",
              "    .dataframe thead th {\n",
              "        text-align: right;\n",
              "    }\n",
              "</style>\n",
              "<table border=\"1\" class=\"dataframe\">\n",
              "  <thead>\n",
              "    <tr style=\"text-align: right;\">\n",
              "      <th></th>\n",
              "      <th>id</th>\n",
              "      <th>name</th>\n",
              "      <th>value</th>\n",
              "      <th>source</th>\n",
              "      <th>author_id</th>\n",
              "      <th>domain_id</th>\n",
              "      <th>prepro</th>\n",
              "    </tr>\n",
              "  </thead>\n",
              "  <tbody>\n",
              "  </tbody>\n",
              "</table>\n",
              "</div>"
            ],
            "text/plain": [
              "Empty DataFrame\n",
              "Columns: [id, name, value, source, author_id, domain_id, prepro]\n",
              "Index: []"
            ]
          },
          "metadata": {
            "tags": []
          },
          "execution_count": 92
        }
      ]
    },
    {
      "cell_type": "code",
      "metadata": {
        "id": "DeeVwhHH6Upc"
      },
      "source": [
        "dp_items_prepro.iloc[3038,-1]='can'\n",
        "dp_items_prepro.iloc[5540,-1]='система can'"
      ],
      "execution_count": null,
      "outputs": []
    },
    {
      "cell_type": "code",
      "metadata": {
        "id": "G2YM1t91FCVt"
      },
      "source": [
        "#dp_items_prepro.drop('Unnamed: 0',axis=1, inplace=True)"
      ],
      "execution_count": null,
      "outputs": []
    },
    {
      "cell_type": "code",
      "metadata": {
        "colab": {
          "base_uri": "https://localhost:8080/",
          "height": 81
        },
        "id": "iu2nnkOW6izF",
        "outputId": "09655705-be45-49d2-f8b1-22ce9b584261"
      },
      "source": [
        "dp_items_prepro[dp_items_prepro.id==6152]"
      ],
      "execution_count": null,
      "outputs": [
        {
          "output_type": "execute_result",
          "data": {
            "text/html": [
              "<div>\n",
              "<style scoped>\n",
              "    .dataframe tbody tr th:only-of-type {\n",
              "        vertical-align: middle;\n",
              "    }\n",
              "\n",
              "    .dataframe tbody tr th {\n",
              "        vertical-align: top;\n",
              "    }\n",
              "\n",
              "    .dataframe thead th {\n",
              "        text-align: right;\n",
              "    }\n",
              "</style>\n",
              "<table border=\"1\" class=\"dataframe\">\n",
              "  <thead>\n",
              "    <tr style=\"text-align: right;\">\n",
              "      <th></th>\n",
              "      <th>id</th>\n",
              "      <th>name</th>\n",
              "      <th>value</th>\n",
              "      <th>source</th>\n",
              "      <th>author_id</th>\n",
              "      <th>domain_id</th>\n",
              "      <th>prepro</th>\n",
              "    </tr>\n",
              "  </thead>\n",
              "  <tbody>\n",
              "    <tr>\n",
              "      <th>5540</th>\n",
              "      <td>6152</td>\n",
              "      <td>Система CAN</td>\n",
              "      <td>6</td>\n",
              "      <td>uploaded</td>\n",
              "      <td>1.0</td>\n",
              "      <td>17.0</td>\n",
              "      <td>система can</td>\n",
              "    </tr>\n",
              "  </tbody>\n",
              "</table>\n",
              "</div>"
            ],
            "text/plain": [
              "        id         name  value    source  author_id  domain_id       prepro\n",
              "5540  6152  Система CAN      6  uploaded        1.0       17.0  система can"
            ]
          },
          "metadata": {
            "tags": []
          },
          "execution_count": 95
        }
      ]
    },
    {
      "cell_type": "code",
      "metadata": {
        "id": "AU0B9W3krZZR"
      },
      "source": [
        "def itemDiscMatches(discipline_id = 12223, to_return=10):\n",
        "  '''\n",
        "    Поиск уч.сущностей, встречаемых в названиях тем/разделов дисциплины.\n",
        "    Аргументы:\n",
        "        discipline_id -- id РПД;\n",
        "        to_return -- кол-во рекомендаций;\n",
        "    Возвращает: dataframe со встреченными уч.сущностями.\n",
        "  '''\n",
        "\n",
        "  # разделы дисциплины\n",
        "  needed_sections = wp_disc_s_prepro[wp_disc_s_prepro['work_program_id']==discipline_id].copy()\n",
        "  section_ids = needed_sections.id.values\n",
        "  # названия тем дисциплины\n",
        "  needed_topics = wp_topic_prepro[wp_topic_prepro['discipline_section_id'].isin(section_ids)].copy()\n",
        "\n",
        "  # учебные сущности в виде списка\n",
        "  items_list = dp_items_prepro['prepro'].unique().tolist()\n",
        "\n",
        "  # выписываем упоминаемые в темах/разделах уч.сущности в отд.колонки\n",
        "  needed_topics['items'] = needed_topics['prepro'].apply(\n",
        "      lambda x: [item for item in items_list if item in x])\n",
        "  needed_sections['items'] = needed_sections['prepro'].apply(\n",
        "      lambda x: [item for item in items_list if item in x])\n",
        "  # удаляем темы/разделы, где не упоминались уч.сущности\n",
        "  needed_topics = needed_topics[needed_topics['items'].astype(bool)]\n",
        "  needed_sections = needed_sections[needed_sections['items'].astype(bool)]\n",
        "\n",
        "  # только уникальные встреченные уч.сущности\n",
        "  topics_sections = needed_sections['items'].append(needed_topics['items'])\n",
        "\n",
        "  # считаем частоту\n",
        "  item_names, count = np.unique(np.array([item for sublist in topics_sections \n",
        "                                          for item in sublist]), return_counts=True)\n",
        "\n",
        "  # добавляем значения частоты уч.сущностей в таблицу\n",
        "  fin_df = dp_items_prepro[dp_items_prepro['prepro'].isin(item_names)].copy()\n",
        "  len = fin_df.shape[0]\n",
        "  fin_df['val'] = 0\n",
        "  fin_df['perc'] = 0\n",
        "  for item,value in zip(item_names,count):\n",
        "    fin_df.loc[fin_df['prepro']==item,'val'] = value\n",
        "    fin_df.loc[fin_df['prepro']==item,'perc'] = value/len\n",
        "  # т.к. есть уч.сущности с пробелами на конце\n",
        "  fin_df = fin_df[-fin_df['name'].str.strip().duplicated()]\n",
        "  return fin_df.sort_values('val',ascending=False).nlargest(to_return,'val')\n"
      ],
      "execution_count": null,
      "outputs": []
    },
    {
      "cell_type": "code",
      "metadata": {
        "colab": {
          "base_uri": "https://localhost:8080/",
          "height": 426
        },
        "id": "VOuwlW1bFgyL",
        "outputId": "0b4a6aed-030b-4566-a34f-7667843dd247"
      },
      "source": [
        "matched = itemDiscMatches(12223,15)\n",
        "matched"
      ],
      "execution_count": null,
      "outputs": [
        {
          "output_type": "execute_result",
          "data": {
            "text/html": [
              "<div>\n",
              "<style scoped>\n",
              "    .dataframe tbody tr th:only-of-type {\n",
              "        vertical-align: middle;\n",
              "    }\n",
              "\n",
              "    .dataframe tbody tr th {\n",
              "        vertical-align: top;\n",
              "    }\n",
              "\n",
              "    .dataframe thead th {\n",
              "        text-align: right;\n",
              "    }\n",
              "</style>\n",
              "<table border=\"1\" class=\"dataframe\">\n",
              "  <thead>\n",
              "    <tr style=\"text-align: right;\">\n",
              "      <th></th>\n",
              "      <th>id</th>\n",
              "      <th>name</th>\n",
              "      <th>value</th>\n",
              "      <th>source</th>\n",
              "      <th>author_id</th>\n",
              "      <th>domain_id</th>\n",
              "      <th>prepro</th>\n",
              "      <th>val</th>\n",
              "      <th>perc</th>\n",
              "    </tr>\n",
              "  </thead>\n",
              "  <tbody>\n",
              "    <tr>\n",
              "      <th>13167</th>\n",
              "      <td>13932</td>\n",
              "      <td>Дизайн</td>\n",
              "      <td>0</td>\n",
              "      <td>NaN</td>\n",
              "      <td>NaN</td>\n",
              "      <td>NaN</td>\n",
              "      <td>дизайн</td>\n",
              "      <td>6</td>\n",
              "      <td>0.428571</td>\n",
              "    </tr>\n",
              "    <tr>\n",
              "      <th>17158</th>\n",
              "      <td>17923</td>\n",
              "      <td>Игра</td>\n",
              "      <td>0</td>\n",
              "      <td>NaN</td>\n",
              "      <td>NaN</td>\n",
              "      <td>NaN</td>\n",
              "      <td>игра</td>\n",
              "      <td>6</td>\n",
              "      <td>0.428571</td>\n",
              "    </tr>\n",
              "    <tr>\n",
              "      <th>490</th>\n",
              "      <td>633</td>\n",
              "      <td>История</td>\n",
              "      <td>70</td>\n",
              "      <td>uploaded</td>\n",
              "      <td>1.0</td>\n",
              "      <td>16.0</td>\n",
              "      <td>история</td>\n",
              "      <td>4</td>\n",
              "      <td>0.285714</td>\n",
              "    </tr>\n",
              "    <tr>\n",
              "      <th>2932</th>\n",
              "      <td>3249</td>\n",
              "      <td>Конфликт</td>\n",
              "      <td>14</td>\n",
              "      <td>uploaded</td>\n",
              "      <td>1.0</td>\n",
              "      <td>29.0</td>\n",
              "      <td>конфликт</td>\n",
              "      <td>2</td>\n",
              "      <td>0.142857</td>\n",
              "    </tr>\n",
              "    <tr>\n",
              "      <th>6679</th>\n",
              "      <td>7146</td>\n",
              "      <td>Механика</td>\n",
              "      <td>13</td>\n",
              "      <td>uploaded</td>\n",
              "      <td>1.0</td>\n",
              "      <td>20.0</td>\n",
              "      <td>механика</td>\n",
              "      <td>2</td>\n",
              "      <td>0.142857</td>\n",
              "    </tr>\n",
              "    <tr>\n",
              "      <th>559</th>\n",
              "      <td>729</td>\n",
              "      <td>Данные</td>\n",
              "      <td>98</td>\n",
              "      <td>uploaded</td>\n",
              "      <td>1.0</td>\n",
              "      <td>17.0</td>\n",
              "      <td>дать</td>\n",
              "      <td>1</td>\n",
              "      <td>0.071429</td>\n",
              "    </tr>\n",
              "    <tr>\n",
              "      <th>2498</th>\n",
              "      <td>2801</td>\n",
              "      <td>Структуры Ли</td>\n",
              "      <td>15</td>\n",
              "      <td>uploaded</td>\n",
              "      <td>1.0</td>\n",
              "      <td>11.0</td>\n",
              "      <td>структура</td>\n",
              "      <td>1</td>\n",
              "      <td>0.071429</td>\n",
              "    </tr>\n",
              "    <tr>\n",
              "      <th>3326</th>\n",
              "      <td>3650</td>\n",
              "      <td>Интерактивные элементы</td>\n",
              "      <td>12</td>\n",
              "      <td>uploaded</td>\n",
              "      <td>1.0</td>\n",
              "      <td>17.0</td>\n",
              "      <td>интерактивный элемент</td>\n",
              "      <td>1</td>\n",
              "      <td>0.071429</td>\n",
              "    </tr>\n",
              "    <tr>\n",
              "      <th>6460</th>\n",
              "      <td>6930</td>\n",
              "      <td>Структура ПО</td>\n",
              "      <td>7</td>\n",
              "      <td>uploaded</td>\n",
              "      <td>1.0</td>\n",
              "      <td>17.0</td>\n",
              "      <td>структура</td>\n",
              "      <td>1</td>\n",
              "      <td>0.071429</td>\n",
              "    </tr>\n",
              "    <tr>\n",
              "      <th>10398</th>\n",
              "      <td>11140</td>\n",
              "      <td>Ресурсы</td>\n",
              "      <td>11</td>\n",
              "      <td>uploaded</td>\n",
              "      <td>1.0</td>\n",
              "      <td>25.0</td>\n",
              "      <td>ресурс</td>\n",
              "      <td>1</td>\n",
              "      <td>0.071429</td>\n",
              "    </tr>\n",
              "    <tr>\n",
              "      <th>11954</th>\n",
              "      <td>12712</td>\n",
              "      <td>РИД</td>\n",
              "      <td>0</td>\n",
              "      <td>NaN</td>\n",
              "      <td>NaN</td>\n",
              "      <td>NaN</td>\n",
              "      <td>рид</td>\n",
              "      <td>1</td>\n",
              "      <td>0.071429</td>\n",
              "    </tr>\n",
              "    <tr>\n",
              "      <th>15551</th>\n",
              "      <td>16303</td>\n",
              "      <td>Геймдизайн</td>\n",
              "      <td>0</td>\n",
              "      <td>NaN</td>\n",
              "      <td>NaN</td>\n",
              "      <td>NaN</td>\n",
              "      <td>геймдизайн</td>\n",
              "      <td>1</td>\n",
              "      <td>0.071429</td>\n",
              "    </tr>\n",
              "  </tbody>\n",
              "</table>\n",
              "</div>"
            ],
            "text/plain": [
              "          id                    name  ...  val      perc\n",
              "13167  13932                  Дизайн  ...    6  0.428571\n",
              "17158  17923                    Игра  ...    6  0.428571\n",
              "490      633                 История  ...    4  0.285714\n",
              "2932    3249                Конфликт  ...    2  0.142857\n",
              "6679    7146                Механика  ...    2  0.142857\n",
              "559      729                  Данные  ...    1  0.071429\n",
              "2498    2801            Структуры Ли  ...    1  0.071429\n",
              "3326    3650  Интерактивные элементы  ...    1  0.071429\n",
              "6460    6930            Структура ПО  ...    1  0.071429\n",
              "10398  11140                 Ресурсы  ...    1  0.071429\n",
              "11954  12712                     РИД  ...    1  0.071429\n",
              "15551  16303              Геймдизайн  ...    1  0.071429\n",
              "\n",
              "[12 rows x 9 columns]"
            ]
          },
          "metadata": {
            "tags": []
          },
          "execution_count": 97
        }
      ]
    },
    {
      "cell_type": "code",
      "metadata": {
        "colab": {
          "base_uri": "https://localhost:8080/",
          "height": 520
        },
        "id": "OxY3jekOr-vg",
        "outputId": "e86af3cf-8cd5-42ec-ef5e-c322297ec85f"
      },
      "source": [
        "matched = itemDiscMatches(6986,15)\n",
        "matched"
      ],
      "execution_count": null,
      "outputs": [
        {
          "output_type": "execute_result",
          "data": {
            "text/html": [
              "<div>\n",
              "<style scoped>\n",
              "    .dataframe tbody tr th:only-of-type {\n",
              "        vertical-align: middle;\n",
              "    }\n",
              "\n",
              "    .dataframe tbody tr th {\n",
              "        vertical-align: top;\n",
              "    }\n",
              "\n",
              "    .dataframe thead th {\n",
              "        text-align: right;\n",
              "    }\n",
              "</style>\n",
              "<table border=\"1\" class=\"dataframe\">\n",
              "  <thead>\n",
              "    <tr style=\"text-align: right;\">\n",
              "      <th></th>\n",
              "      <th>id</th>\n",
              "      <th>name</th>\n",
              "      <th>value</th>\n",
              "      <th>source</th>\n",
              "      <th>author_id</th>\n",
              "      <th>domain_id</th>\n",
              "      <th>prepro</th>\n",
              "      <th>val</th>\n",
              "      <th>perc</th>\n",
              "    </tr>\n",
              "  </thead>\n",
              "  <tbody>\n",
              "    <tr>\n",
              "      <th>549</th>\n",
              "      <td>717</td>\n",
              "      <td>CSS</td>\n",
              "      <td>57</td>\n",
              "      <td>uploaded</td>\n",
              "      <td>1.0</td>\n",
              "      <td>28.0</td>\n",
              "      <td>css</td>\n",
              "      <td>6</td>\n",
              "      <td>0.400000</td>\n",
              "    </tr>\n",
              "    <tr>\n",
              "      <th>548</th>\n",
              "      <td>716</td>\n",
              "      <td>HTML</td>\n",
              "      <td>46</td>\n",
              "      <td>uploaded</td>\n",
              "      <td>1.0</td>\n",
              "      <td>28.0</td>\n",
              "      <td>html</td>\n",
              "      <td>5</td>\n",
              "      <td>0.333333</td>\n",
              "    </tr>\n",
              "    <tr>\n",
              "      <th>17537</th>\n",
              "      <td>18305</td>\n",
              "      <td>UX</td>\n",
              "      <td>0</td>\n",
              "      <td>NaN</td>\n",
              "      <td>NaN</td>\n",
              "      <td>NaN</td>\n",
              "      <td>ux</td>\n",
              "      <td>3</td>\n",
              "      <td>0.200000</td>\n",
              "    </tr>\n",
              "    <tr>\n",
              "      <th>12467</th>\n",
              "      <td>13227</td>\n",
              "      <td>Проект</td>\n",
              "      <td>0</td>\n",
              "      <td>NaN</td>\n",
              "      <td>NaN</td>\n",
              "      <td>NaN</td>\n",
              "      <td>проект</td>\n",
              "      <td>2</td>\n",
              "      <td>0.133333</td>\n",
              "    </tr>\n",
              "    <tr>\n",
              "      <th>13167</th>\n",
              "      <td>13932</td>\n",
              "      <td>Дизайн</td>\n",
              "      <td>0</td>\n",
              "      <td>NaN</td>\n",
              "      <td>NaN</td>\n",
              "      <td>NaN</td>\n",
              "      <td>дизайн</td>\n",
              "      <td>2</td>\n",
              "      <td>0.133333</td>\n",
              "    </tr>\n",
              "    <tr>\n",
              "      <th>16306</th>\n",
              "      <td>17064</td>\n",
              "      <td>Проектирование ПО</td>\n",
              "      <td>0</td>\n",
              "      <td>NaN</td>\n",
              "      <td>NaN</td>\n",
              "      <td>NaN</td>\n",
              "      <td>проектирование</td>\n",
              "      <td>2</td>\n",
              "      <td>0.133333</td>\n",
              "    </tr>\n",
              "    <tr>\n",
              "      <th>17359</th>\n",
              "      <td>18126</td>\n",
              "      <td>Проектирование</td>\n",
              "      <td>0</td>\n",
              "      <td>NaN</td>\n",
              "      <td>NaN</td>\n",
              "      <td>NaN</td>\n",
              "      <td>проектирование</td>\n",
              "      <td>2</td>\n",
              "      <td>0.133333</td>\n",
              "    </tr>\n",
              "    <tr>\n",
              "      <th>17538</th>\n",
              "      <td>18306</td>\n",
              "      <td>UI</td>\n",
              "      <td>0</td>\n",
              "      <td>NaN</td>\n",
              "      <td>NaN</td>\n",
              "      <td>NaN</td>\n",
              "      <td>ui</td>\n",
              "      <td>2</td>\n",
              "      <td>0.133333</td>\n",
              "    </tr>\n",
              "    <tr>\n",
              "      <th>279</th>\n",
              "      <td>461</td>\n",
              "      <td>Классы</td>\n",
              "      <td>26</td>\n",
              "      <td>uploaded</td>\n",
              "      <td>1.0</td>\n",
              "      <td>17.0</td>\n",
              "      <td>класс</td>\n",
              "      <td>1</td>\n",
              "      <td>0.066667</td>\n",
              "    </tr>\n",
              "    <tr>\n",
              "      <th>1559</th>\n",
              "      <td>1813</td>\n",
              "      <td>Bootstrap</td>\n",
              "      <td>23</td>\n",
              "      <td>uploaded</td>\n",
              "      <td>1.0</td>\n",
              "      <td>14.0</td>\n",
              "      <td>bootstrap</td>\n",
              "      <td>1</td>\n",
              "      <td>0.066667</td>\n",
              "    </tr>\n",
              "    <tr>\n",
              "      <th>3573</th>\n",
              "      <td>3925</td>\n",
              "      <td>Анимация</td>\n",
              "      <td>55</td>\n",
              "      <td>NaN</td>\n",
              "      <td>NaN</td>\n",
              "      <td>17.0</td>\n",
              "      <td>анимация</td>\n",
              "      <td>1</td>\n",
              "      <td>0.066667</td>\n",
              "    </tr>\n",
              "    <tr>\n",
              "      <th>9952</th>\n",
              "      <td>10694</td>\n",
              "      <td>Библиотеки</td>\n",
              "      <td>0</td>\n",
              "      <td>uploaded</td>\n",
              "      <td>1.0</td>\n",
              "      <td>17.0</td>\n",
              "      <td>библиотека</td>\n",
              "      <td>1</td>\n",
              "      <td>0.066667</td>\n",
              "    </tr>\n",
              "    <tr>\n",
              "      <th>12478</th>\n",
              "      <td>13238</td>\n",
              "      <td>Разработка ПО</td>\n",
              "      <td>0</td>\n",
              "      <td>NaN</td>\n",
              "      <td>NaN</td>\n",
              "      <td>NaN</td>\n",
              "      <td>разработка</td>\n",
              "      <td>1</td>\n",
              "      <td>0.066667</td>\n",
              "    </tr>\n",
              "    <tr>\n",
              "      <th>12876</th>\n",
              "      <td>13638</td>\n",
              "      <td>ST</td>\n",
              "      <td>0</td>\n",
              "      <td>NaN</td>\n",
              "      <td>NaN</td>\n",
              "      <td>NaN</td>\n",
              "      <td>st</td>\n",
              "      <td>1</td>\n",
              "      <td>0.066667</td>\n",
              "    </tr>\n",
              "    <tr>\n",
              "      <th>16411</th>\n",
              "      <td>17170</td>\n",
              "      <td>ИМА</td>\n",
              "      <td>0</td>\n",
              "      <td>NaN</td>\n",
              "      <td>NaN</td>\n",
              "      <td>NaN</td>\n",
              "      <td>има</td>\n",
              "      <td>1</td>\n",
              "      <td>0.066667</td>\n",
              "    </tr>\n",
              "  </tbody>\n",
              "</table>\n",
              "</div>"
            ],
            "text/plain": [
              "          id               name  value  ...          prepro  val      perc\n",
              "549      717                CSS     57  ...             css    6  0.400000\n",
              "548      716               HTML     46  ...            html    5  0.333333\n",
              "17537  18305                 UX      0  ...              ux    3  0.200000\n",
              "12467  13227             Проект      0  ...          проект    2  0.133333\n",
              "13167  13932             Дизайн      0  ...          дизайн    2  0.133333\n",
              "16306  17064  Проектирование ПО      0  ...  проектирование    2  0.133333\n",
              "17359  18126     Проектирование      0  ...  проектирование    2  0.133333\n",
              "17538  18306                 UI      0  ...              ui    2  0.133333\n",
              "279      461             Классы     26  ...           класс    1  0.066667\n",
              "1559    1813          Bootstrap     23  ...       bootstrap    1  0.066667\n",
              "3573    3925           Анимация     55  ...        анимация    1  0.066667\n",
              "9952   10694         Библиотеки      0  ...      библиотека    1  0.066667\n",
              "12478  13238      Разработка ПО      0  ...      разработка    1  0.066667\n",
              "12876  13638                 ST      0  ...              st    1  0.066667\n",
              "16411  17170                ИМА      0  ...             има    1  0.066667\n",
              "\n",
              "[15 rows x 9 columns]"
            ]
          },
          "metadata": {
            "tags": []
          },
          "execution_count": 100
        }
      ]
    },
    {
      "cell_type": "code",
      "metadata": {
        "colab": {
          "base_uri": "https://localhost:8080/"
        },
        "id": "a_fRGHm_0dva",
        "outputId": "bf0ba4a0-eccd-40a1-98b7-5f6a7f323de4"
      },
      "source": [
        "%%timeit\n",
        "itemDiscMatches()"
      ],
      "execution_count": null,
      "outputs": [
        {
          "output_type": "stream",
          "text": [
            "10 loops, best of 5: 77.8 ms per loop\n"
          ],
          "name": "stdout"
        }
      ]
    },
    {
      "cell_type": "markdown",
      "metadata": {
        "id": "p93st8hW8wYK"
      },
      "source": [
        "# 2 вариант: Сходство уч.сущностей и тем"
      ]
    },
    {
      "cell_type": "markdown",
      "metadata": {
        "id": "rTdIGFvk9tHj"
      },
      "source": [
        "Векторные представления уч.сущностей + тем.\n",
        "- можно попробовать взять не предобученные модели, а обучить на учебниках\\текстах онлайн-курсов?\n",
        "- (X: не нашла multilingual word emb-s, которые нормально работают) попробовать word2vec,GloVe,fasttext -- либо среднее векторов слов для предложения, либо doc2vec, либо...\n",
        "- можно выводить самые частые домены?чтобы преподаватель знал, где искать вручную уч.сущности. Или это и так им очевидно должно быть"
      ]
    },
    {
      "cell_type": "markdown",
      "metadata": {
        "id": "wuIZ0hroTz0v"
      },
      "source": [
        "## -- Ф-ии"
      ]
    },
    {
      "cell_type": "code",
      "metadata": {
        "id": "Humy1zPXT_ig"
      },
      "source": [
        "def plot_similarity(topics, items, all_vectors):\n",
        "  '''\n",
        "    Матрица корелляции + ее визуализация. \n",
        "    Аргументы: \n",
        "        topics -- список названий тем; \n",
        "        items -- список названий уч.сущностей;\n",
        "        all_vectors -- список с векторами и тем, и уч.сущностей. \n",
        "    Возвращает: матрицу корелляции и график.\n",
        "  '''\n",
        "  len = topics.shape[0]\n",
        "\n",
        "  #оставляем только часть сверху справа.\n",
        "  corr = np.inner(all_vectors[:len], all_vectors[len:])\n",
        "  sns.set(font_scale=0.6)\n",
        "  #PuBuGn\n",
        "  g = sns.heatmap(corr,vmin=0,vmax=1,cmap=\"YlGnBu\")\n",
        "\n",
        "  return corr,g"
      ],
      "execution_count": null,
      "outputs": []
    },
    {
      "cell_type": "code",
      "metadata": {
        "id": "nBR7AcO9TZiS"
      },
      "source": [
        "def corrItems(labels,topics,items,all_vectors,threshold=0.8):\n",
        "  '''\n",
        "    Поиск уч.сущностей, которые похожи на названия тем \n",
        "    (выбирает только одну сущность с макс.значением для каждой темы).\n",
        "    Аргументы: \n",
        "        labels -- список названий, которые будут выведены в итоге;\n",
        "        topics -- список названий тем; \n",
        "        items -- список названий уч.сущностей;\n",
        "        all_vectors -- список с векторами и тем, и уч.сущностей;\n",
        "        threshold -- порог значений. \n",
        "    Возвращает: таблицу с темами и соответствующими уч.сущностями \n",
        "                + визуализацию матрицы корелляции.\n",
        "  '''\n",
        "  corr_m, plot = plot_similarity(topics,items,all_vectors)\n",
        "  corr_m_new = corr_m.copy()\n",
        "\n",
        "  new_df = pd.DataFrame(labels[0],columns=['name'])\n",
        "  new_df['value']=corr_m_new.max(axis=1)\n",
        "  new_df['item'] = corr_m_new.argmax(axis=1)\n",
        "  new_df['item_name'] = new_df['item'].apply(lambda x: labels[1][x])\n",
        "\n",
        "  return new_df[new_df.value>threshold], plot"
      ],
      "execution_count": null,
      "outputs": []
    },
    {
      "cell_type": "code",
      "metadata": {
        "id": "9X2zWK3iTZiT"
      },
      "source": [
        "def corrItemsList(topics,items,all_vectors,threshold=0.8):\n",
        "  '''\n",
        "    Поиск уч.сущностей, которые похожи на названия тем. \n",
        "    Выбирает все сущности, значение которых выше порога.\n",
        "    Аргументы: \n",
        "        topics -- список названий тем; \n",
        "        items -- список названий уч.сущностей;\n",
        "        all_vectors -- список с векторами и тем, и уч.сущностей;\n",
        "        threshold -- порог значений. \n",
        "    Возвращает: таблицу с уч.сущностями + визуализацию матрицы корелляции.\n",
        "  '''\n",
        "  corr_m, plot = plot_similarity(topics,items,all_vectors)\n",
        "  corr_m_new = corr_m.copy()\n",
        "\n",
        "  corr_items = np.where(np.any(corr_m_new > threshold, axis=0))\n",
        "\n",
        "  return np.unique(corr_items), plot"
      ],
      "execution_count": null,
      "outputs": []
    },
    {
      "cell_type": "code",
      "metadata": {
        "id": "QSoLsyD2TZiU"
      },
      "source": [
        "def itemDiscSim(discipline_id, vec_func, items_vec=False, threshold=0.65, to_return=10):\n",
        "  '''\n",
        "    Поиск уч.сущностей, которые похожи на названия тем/разделов дисциплины. \n",
        "    Выбирает все сущности, значения которых выше порога.\n",
        "    Аргументы: \n",
        "        discipline_id -- id дисциплины;\n",
        "        vec_func -- функция векторизации;\n",
        "        items_vec -- готовые векторы для уч.сущностей;\n",
        "        threshold -- порог значений;\n",
        "        to_return -- кол-во рекомендаций. \n",
        "    Возвращает: таблицу с уч.сущностями\n",
        "  '''\n",
        "  # разделы дисциплины\n",
        "  needed_sections = wp_disc_s[wp_disc_s['work_program_id']==discipline_id].copy()\n",
        "  section_ids = needed_sections.id.values\n",
        "  # названия тем дисциплины\n",
        "  needed_topics = wp_topic[wp_topic['discipline_section_id'].isin(section_ids)].copy()\n",
        "  # будем искать соответствия И в темах, И в разделах\n",
        "  all_headers = np.append(needed_sections['name'].values, needed_topics['description'].values)\n",
        "\n",
        "  # если были поданы на вход векторы уч.сущностей\n",
        "  if items_vec is not False:\n",
        "    headers_vecs = vec_func(all_headers)\n",
        "  else:\n",
        "    headers_vecs, items_vec = vec_func(all_headers,dp_items['name'].values)\n",
        "\n",
        "  # строим матрицу сходства\n",
        "  len = all_headers.shape[0]\n",
        "  sim_m = np.inner(headers_vecs, items_vec)\n",
        "\n",
        "  # ищем id и значения подходящих элементов\n",
        "  ids = np.where(np.any(sim_m > threshold, axis=0))\n",
        "  vals = np.max(sim_m[:,ids],axis=0)[0]\n",
        "  \n",
        "  # добавляем данные в новую таблицу\n",
        "  df = dp_items.iloc[ids].copy()\n",
        "  df['similarity'] = vals\n",
        "\n",
        "  return df.sort_values('similarity',ascending=False).nlargest(to_return, 'similarity')\n"
      ],
      "execution_count": null,
      "outputs": []
    },
    {
      "cell_type": "markdown",
      "metadata": {
        "id": "UFsFTNlwoidH"
      },
      "source": [
        "## -- Elmo"
      ]
    },
    {
      "cell_type": "markdown",
      "metadata": {
        "id": "aOxHrwuopqAD"
      },
      "source": [
        "Рез-ты плохие + тк длина векторов зависит от длины самого большого предложения, то нельзя заранее представить все уч.сущности в виде векторов?"
      ]
    },
    {
      "cell_type": "code",
      "metadata": {
        "id": "tLSX_Y2OqQTY"
      },
      "source": [
        "%%capture\n",
        "!pip install --upgrade simple_elmo"
      ],
      "execution_count": null,
      "outputs": []
    },
    {
      "cell_type": "code",
      "metadata": {
        "id": "BvyWx4UDqdDd"
      },
      "source": [
        "from google.colab import drive\n",
        "from simple_elmo import ElmoModel\n",
        "drive.mount('/content/drive')\n",
        "\n",
        "model1 = ElmoModel()\n",
        "model1.load('/content/drive/My Drive/!Диплом/212.zip')\n",
        "\n",
        "drive.flush_and_unmount()"
      ],
      "execution_count": null,
      "outputs": []
    },
    {
      "cell_type": "code",
      "metadata": {
        "id": "8NgcSkR_su6R"
      },
      "source": [
        "model_elmo = model1"
      ],
      "execution_count": null,
      "outputs": []
    },
    {
      "cell_type": "code",
      "metadata": {
        "id": "u52fxfv3yDr2"
      },
      "source": [
        "from sklearn.metrics.pairwise import cosine_similarity"
      ],
      "execution_count": null,
      "outputs": []
    },
    {
      "cell_type": "code",
      "metadata": {
        "id": "V9Ww3j5Sq2MA"
      },
      "source": [
        "def vecFuncELMO(headers, items):\n",
        "  return model_elmo.get_elmo_vector_average(np.append(headers, items))"
      ],
      "execution_count": null,
      "outputs": []
    },
    {
      "cell_type": "code",
      "metadata": {
        "id": "ObLo9kGRUj4X"
      },
      "source": [
        "sentences = ['This framework generates embeddings for each input sentence',\n",
        "              'Sentences are passed as a list of string.', \n",
        "              'The quick brown fox jumps over the lazy dog.', \n",
        "              'Быстрая коричневая лиса перепрыгнула через ленивую собаку.',\n",
        "              'Предложения передаются в виде списка строк.', \n",
        "              'Random forest','Случайный лес']"
      ],
      "execution_count": null,
      "outputs": []
    },
    {
      "cell_type": "code",
      "metadata": {
        "colab": {
          "base_uri": "https://localhost:8080/"
        },
        "id": "4U3cVaXMaBlT",
        "outputId": "be2b1188-f3d8-4814-ba1c-0399729a5fd3"
      },
      "source": [
        "temp = pd.DataFrame(sentences)\n",
        "\n",
        "temp[0]"
      ],
      "execution_count": null,
      "outputs": [
        {
          "output_type": "execute_result",
          "data": {
            "text/plain": [
              "0    This framework generates embeddings for each i...\n",
              "1            Sentences are passed as a list of string.\n",
              "2         The quick brown fox jumps over the lazy dog.\n",
              "3    Быстрая коричневая лиса перепрыгнула через лен...\n",
              "4          Предложения передаются в виде списка строк.\n",
              "5                                        Random forest\n",
              "6                                        Случайный лес\n",
              "Name: 0, dtype: object"
            ]
          },
          "metadata": {
            "tags": []
          },
          "execution_count": 15
        }
      ]
    },
    {
      "cell_type": "code",
      "metadata": {
        "colab": {
          "base_uri": "https://localhost:8080/"
        },
        "id": "5NMF55cjX95u",
        "outputId": "0223b476-c89c-4fb7-add9-43ed491cb9c2"
      },
      "source": [
        "ru_stopw = stopwords.words('russian')\n",
        "morph = pymorphy2.MorphAnalyzer()\n",
        "nlp = spacy.load('en')\n",
        "  # англ: токенизация, лемматизация, убираем стоп-слова/пунктуцацию\n",
        "temp['prepro'] = temp[0].apply(lambda x:[i.lemma_ for i in nlp(x) \n",
        "                                                                  if not i.is_stop and not i.is_punct])\n",
        "  # рус: лемматизация, убираем стоп-слова, объединяем в строку\n",
        "temp['prepro'] =  temp['prepro'].apply(lambda x:' '.join([morph.parse(word)[0].normal_form for word in x \n",
        "                                                                  if not morph.parse(word)[0].normal_form in ru_stopw]))"
      ],
      "execution_count": null,
      "outputs": [
        {
          "output_type": "stream",
          "text": [
            "2021-05-26 21:00:13,775 : INFO : Loading dictionaries from /usr/local/lib/python3.7/dist-packages/pymorphy2_dicts_ru/data\n",
            "2021-05-26 21:00:13,832 : INFO : format: 2.4, revision: 417127, updated: 2020-10-11T15:05:51.070345\n"
          ],
          "name": "stderr"
        }
      ]
    },
    {
      "cell_type": "code",
      "metadata": {
        "colab": {
          "base_uri": "https://localhost:8080/",
          "height": 321
        },
        "id": "nmupmpM_e5vw",
        "outputId": "4ef92d71-6be5-4dd5-a325-6692a714ea23"
      },
      "source": [
        "temp"
      ],
      "execution_count": null,
      "outputs": [
        {
          "output_type": "execute_result",
          "data": {
            "text/html": [
              "<div>\n",
              "<style scoped>\n",
              "    .dataframe tbody tr th:only-of-type {\n",
              "        vertical-align: middle;\n",
              "    }\n",
              "\n",
              "    .dataframe tbody tr th {\n",
              "        vertical-align: top;\n",
              "    }\n",
              "\n",
              "    .dataframe thead th {\n",
              "        text-align: right;\n",
              "    }\n",
              "</style>\n",
              "<table border=\"1\" class=\"dataframe\">\n",
              "  <thead>\n",
              "    <tr style=\"text-align: right;\">\n",
              "      <th></th>\n",
              "      <th>0</th>\n",
              "      <th>prepro</th>\n",
              "    </tr>\n",
              "  </thead>\n",
              "  <tbody>\n",
              "    <tr>\n",
              "      <th>0</th>\n",
              "      <td>This framework generates embeddings for each i...</td>\n",
              "      <td>framework generate embedding input sentence</td>\n",
              "    </tr>\n",
              "    <tr>\n",
              "      <th>1</th>\n",
              "      <td>Sentences are passed as a list of string.</td>\n",
              "      <td>sentence pass list string</td>\n",
              "    </tr>\n",
              "    <tr>\n",
              "      <th>2</th>\n",
              "      <td>The quick brown fox jumps over the lazy dog.</td>\n",
              "      <td>quick brown fox jump lazy dog</td>\n",
              "    </tr>\n",
              "    <tr>\n",
              "      <th>3</th>\n",
              "      <td>Быстрая коричневая лиса перепрыгнула через лен...</td>\n",
              "      <td>быстрый коричневый лиса перепрыгнуть ленивый с...</td>\n",
              "    </tr>\n",
              "    <tr>\n",
              "      <th>4</th>\n",
              "      <td>Предложения передаются в виде списка строк.</td>\n",
              "      <td>предложение передаваться вид список строка</td>\n",
              "    </tr>\n",
              "    <tr>\n",
              "      <th>5</th>\n",
              "      <td>Random forest</td>\n",
              "      <td>random forest</td>\n",
              "    </tr>\n",
              "    <tr>\n",
              "      <th>6</th>\n",
              "      <td>Случайный лес</td>\n",
              "      <td>случайный лес</td>\n",
              "    </tr>\n",
              "  </tbody>\n",
              "</table>\n",
              "</div>"
            ],
            "text/plain": [
              "                                                   0                                             prepro\n",
              "0  This framework generates embeddings for each i...        framework generate embedding input sentence\n",
              "1          Sentences are passed as a list of string.                          sentence pass list string\n",
              "2       The quick brown fox jumps over the lazy dog.                      quick brown fox jump lazy dog\n",
              "3  Быстрая коричневая лиса перепрыгнула через лен...  быстрый коричневый лиса перепрыгнуть ленивый с...\n",
              "4        Предложения передаются в виде списка строк.         предложение передаваться вид список строка\n",
              "5                                      Random forest                                      random forest\n",
              "6                                      Случайный лес                                      случайный лес"
            ]
          },
          "metadata": {
            "tags": []
          },
          "execution_count": 18
        }
      ]
    },
    {
      "cell_type": "code",
      "metadata": {
        "colab": {
          "base_uri": "https://localhost:8080/"
        },
        "id": "s4JtwDe9e_9L",
        "outputId": "3d8dcb73-6a5f-48c9-f2fb-be7f4ab7a870"
      },
      "source": [
        "sentence_embeddings = model1.get_elmo_vector_average(temp['prepro'].to_list())"
      ],
      "execution_count": null,
      "outputs": [
        {
          "output_type": "stream",
          "text": [
            "2021-05-26 21:06:53,796 : INFO : Warming up ELMo on 7 sentences...\n",
            "2021-05-26 21:06:59,084 : INFO : Warming up finished.\n",
            "2021-05-26 21:06:59,089 : INFO : Texts in the current batch: 7\n"
          ],
          "name": "stderr"
        }
      ]
    },
    {
      "cell_type": "code",
      "metadata": {
        "colab": {
          "base_uri": "https://localhost:8080/",
          "height": 302
        },
        "id": "NSEQQUdeqewy",
        "outputId": "0fb1022f-b24f-4ed5-f80e-28e4a0f5e83d"
      },
      "source": [
        "import matplotlib.pyplot as plt\n",
        "sns.set(font_scale=1)\n",
        "plt.figure(figsize=(8, 6))\n",
        "plot=sns.heatmap(np.inner(sentence_embeddings,sentence_embeddings),vmin=0,vmax=1,cmap=\"YlGnBu\",yticklabels=sentences)\n",
        "loc, labels = plt.yticks()\n",
        "plot.set_yticklabels(labels, rotation=20);"
      ],
      "execution_count": null,
      "outputs": [
        {
          "output_type": "display_data",
          "data": {
            "image/png": "[encoded data removed]",
            "text/plain": [
              "<Figure size 576x432 with 2 Axes>"
            ]
          },
          "metadata": {
            "tags": []
          }
        }
      ]
    },
    {
      "cell_type": "code",
      "metadata": {
        "colab": {
          "base_uri": "https://localhost:8080/",
          "height": 285
        },
        "id": "DGoxZ_yLfCst",
        "outputId": "8db7e182-6340-403c-e483-323ca925e627"
      },
      "source": [
        "sns.set(font_scale=0.6)\n",
        "sns.heatmap(np.inner(sentence_embeddings,sentence_embeddings),vmin=0,vmax=1,cmap=\"YlGnBu\",yticklabels=sentences)\n",
        "#sns.set_xticklabels(labels, rotation=rotation)\n",
        "sns."
      ],
      "execution_count": null,
      "outputs": [
        {
          "output_type": "execute_result",
          "data": {
            "text/plain": [
              "<matplotlib.axes._subplots.AxesSubplot at 0x7fac35380810>"
            ]
          },
          "metadata": {
            "tags": []
          },
          "execution_count": 50
        },
        {
          "output_type": "display_data",
          "data": {
            "image/png": "[encoded data removed]",
            "text/plain": [
              "<Figure size 432x288 with 2 Axes>"
            ]
          },
          "metadata": {
            "tags": []
          }
        }
      ]
    },
    {
      "cell_type": "code",
      "metadata": {
        "colab": {
          "base_uri": "https://localhost:8080/",
          "height": 285
        },
        "id": "TMgZdYVwUkLU",
        "outputId": "873c3d27-1c43-4c45-fc5d-a3a472baaf0a"
      },
      "source": [
        "sns.set(font_scale=0.6)\n",
        "sns.heatmap(np.inner(sentence_embeddings,sentence_embeddings),vmin=0,vmax=1,cmap=\"YlGnBu\")"
      ],
      "execution_count": null,
      "outputs": [
        {
          "output_type": "execute_result",
          "data": {
            "text/plain": [
              "<matplotlib.axes._subplots.AxesSubplot at 0x7fce870797d0>"
            ]
          },
          "metadata": {
            "tags": []
          },
          "execution_count": 26
        },
        {
          "output_type": "display_data",
          "data": {
            "image/png": "[encoded data removed]",
            "text/plain": [
              "<Figure size 432x288 with 2 Axes>"
            ]
          },
          "metadata": {
            "tags": []
          }
        }
      ]
    },
    {
      "cell_type": "markdown",
      "metadata": {
        "id": "aflDbtVHd-ci"
      },
      "source": [
        "## -- (V) Universal Encoder (TH-Hub)"
      ]
    },
    {
      "cell_type": "code",
      "metadata": {
        "colab": {
          "base_uri": "https://localhost:8080/"
        },
        "id": "MYXl3xIfd-xi",
        "outputId": "3728823f-bfc8-46bc-a71a-cfcbded48259"
      },
      "source": [
        "!pip install tensorflow_text>=2.0.0rc0\n",
        "!pip install numpy==1.19.5"
      ],
      "execution_count": null,
      "outputs": [
        {
          "output_type": "stream",
          "name": "stdout",
          "text": [
            "Requirement already satisfied: numpy==1.19.5 in /usr/local/lib/python3.7/dist-packages (1.19.5)\n"
          ]
        }
      ]
    },
    {
      "cell_type": "code",
      "metadata": {
        "id": "YPgmU91qYyzs"
      },
      "source": [
        "import tensorflow_hub as hub"
      ],
      "execution_count": null,
      "outputs": []
    },
    {
      "cell_type": "markdown",
      "metadata": {
        "id": "QS3o6hJKZLQW"
      },
      "source": [
        "### пробуем загрузить сохраненную на диске модель"
      ]
    },
    {
      "cell_type": "code",
      "metadata": {
        "id": "iArh7tNaYTA_"
      },
      "source": [
        "from google.colab import drive\n",
        "drive.mount('/content/drive')\n",
        "\n",
        "loaded = hub.load('/content/drive/My Drive/bachelor/!Диплом/usencoder/')\n",
        "\n",
        "drive.flush_and_unmount()"
      ],
      "execution_count": null,
      "outputs": []
    },
    {
      "cell_type": "code",
      "metadata": {
        "colab": {
          "background_save": true
        },
        "id": "0Bu3DdRxZb3p"
      },
      "source": [
        "embed('i love you') ==loaded('i love you')"
      ],
      "execution_count": null,
      "outputs": []
    },
    {
      "cell_type": "markdown",
      "metadata": {
        "id": "GRD8hdkWZPq1"
      },
      "source": [
        "используем загрузку с хаба"
      ]
    },
    {
      "cell_type": "code",
      "metadata": {
        "id": "LwzSaUpTenZx"
      },
      "source": [
        "import tensorflow_hub as hub\n",
        "import numpy as np\n",
        "import tensorflow_text\n",
        "import seaborn as sns"
      ],
      "execution_count": null,
      "outputs": []
    },
    {
      "cell_type": "code",
      "metadata": {
        "id": "60xXLpS2grj2"
      },
      "source": [
        "embed = hub.load(\"https://tfhub.dev/google/universal-sentence-encoder-multilingual/3\")"
      ],
      "execution_count": null,
      "outputs": []
    },
    {
      "cell_type": "code",
      "metadata": {
        "colab": {
          "base_uri": "https://localhost:8080/"
        },
        "id": "OGjaHrAIP0pd",
        "outputId": "fbad5c80-a58b-4b56-e9c7-a42ebd6cf9b8"
      },
      "source": [
        "%%timeit\n",
        "# заранее делаем эмбединг для уч.сущностей\n",
        "items_vecs = embed(dp_items['name'].values)"
      ],
      "execution_count": null,
      "outputs": [
        {
          "output_type": "stream",
          "text": [
            "1 loop, best of 5: 18.4 s per loop\n"
          ],
          "name": "stdout"
        }
      ]
    },
    {
      "cell_type": "code",
      "metadata": {
        "colab": {
          "background_save": true
        },
        "id": "yKlg0JBasC7k"
      },
      "source": [
        "items_vecs.numpy().shape"
      ],
      "execution_count": null,
      "outputs": []
    },
    {
      "cell_type": "code",
      "metadata": {
        "colab": {
          "background_save": true
        },
        "id": "GYzY0E1UUhaK"
      },
      "source": [
        "np_vecs = items_vecs.numpy()\n",
        "dp_items.id.values.shape"
      ],
      "execution_count": null,
      "outputs": []
    },
    {
      "cell_type": "code",
      "metadata": {
        "colab": {
          "background_save": true
        },
        "id": "lODxP_-8sR6c"
      },
      "source": [
        "df = pd.DataFrame({'id':dp_items.id.values,\n",
        "              'emb':list(np_vecs)})\n",
        "df"
      ],
      "execution_count": null,
      "outputs": []
    },
    {
      "cell_type": "code",
      "metadata": {
        "colab": {
          "background_save": true
        },
        "id": "nYvODjqFyBgx"
      },
      "source": [
        "pd.read_json(df.to_json())"
      ],
      "execution_count": null,
      "outputs": []
    },
    {
      "cell_type": "code",
      "metadata": {
        "colab": {
          "background_save": true
        },
        "id": "aFSOU7nUYnhJ"
      },
      "source": [
        "from google.colab import drive\n",
        "drive.mount('/content/drive')\n",
        "\n",
        "\n",
        "with open('/content/drive/My Drive/!Диплом/embs.json', 'w') as f:\n",
        "  f.write(df.to_json())\n",
        "  f.close()\n",
        "\n",
        "drive.flush_and_unmount()"
      ],
      "execution_count": null,
      "outputs": []
    },
    {
      "cell_type": "code",
      "metadata": {
        "colab": {
          "base_uri": "https://localhost:8080/"
        },
        "id": "Psi9VyPbYnju",
        "outputId": "3653163f-a53e-4761-b72d-c55156ab9360"
      },
      "source": [
        "from google.colab import drive\n",
        "drive.mount('/content/drive')\n",
        "\n",
        "\n",
        "with open('/content/drive/My Drive/bachelor/!Диплом/embs.json') as json_file:\n",
        "    read_json = pd.read_json(json_file)\n",
        "    json_file.close()\n",
        "\n",
        "drive.flush_and_unmount()"
      ],
      "execution_count": null,
      "outputs": [
        {
          "output_type": "stream",
          "name": "stdout",
          "text": [
            "Drive already mounted at /content/drive; to attempt to forcibly remount, call drive.mount(\"/content/drive\", force_remount=True).\n"
          ]
        }
      ]
    },
    {
      "cell_type": "code",
      "metadata": {
        "colab": {
          "background_save": true
        },
        "id": "oolzBs-2aO0o"
      },
      "source": [
        "read_json"
      ],
      "execution_count": null,
      "outputs": []
    },
    {
      "cell_type": "code",
      "metadata": {
        "colab": {
          "background_save": true
        },
        "id": "8s9_T86f2FUg"
      },
      "source": [
        "%%timeit\n",
        "np.inner(np.vstack(read_json['emb']),np.vstack(read_json['emb']))"
      ],
      "execution_count": null,
      "outputs": []
    },
    {
      "cell_type": "code",
      "metadata": {
        "colab": {
          "background_save": true
        },
        "id": "wZL9J9wp1ip_"
      },
      "source": [
        "%%timeit\n",
        "cosine_similarity(np.vstack(read_json['emb']))"
      ],
      "execution_count": null,
      "outputs": []
    },
    {
      "cell_type": "code",
      "metadata": {
        "colab": {
          "background_save": true
        },
        "id": "cDs39_Cd3MX2"
      },
      "source": [
        "np.inner(np.vstack(read_json['emb'][:3]),np.vstack(read_json['emb'][-2:]))"
      ],
      "execution_count": null,
      "outputs": []
    },
    {
      "cell_type": "code",
      "metadata": {
        "colab": {
          "background_save": true
        },
        "id": "yMeaKME0hrP1"
      },
      "source": [
        "from sklearn.metrics.pairwise import cosine_similarity"
      ],
      "execution_count": null,
      "outputs": []
    },
    {
      "cell_type": "code",
      "metadata": {
        "colab": {
          "background_save": true
        },
        "id": "F9-4OCKnR3C6"
      },
      "source": [
        "%%timeit\n",
        "items_vecs = embed(dp_items['name'].values)"
      ],
      "execution_count": null,
      "outputs": []
    },
    {
      "cell_type": "code",
      "metadata": {
        "colab": {
          "background_save": true
        },
        "id": "tFkOCGrI7T_x"
      },
      "source": [],
      "execution_count": null,
      "outputs": []
    },
    {
      "cell_type": "code",
      "metadata": {
        "colab": {
          "background_save": true
        },
        "id": "cIGDYi0j7UN1"
      },
      "source": [
        "corr = np.inner(np.vstack(read_json['emb'][:3]),np.vstack(read_json['emb'][3:100]))\n",
        "new_df = pd.DataFrame(read_json['id'][:3],columns=['name'])\n",
        "\n",
        "corr_items = np.where(np.any(corr > 0.5, axis=0))\n",
        "vals = np.max(corr[:,corr_items],axis=0)[0]\n",
        "df = dp_items.iloc[corr_items].copy()\n",
        "df['similarity'] = vals\n",
        "\n",
        "df.sort_values('similarity',ascending=False).nlargest(10, 'similarity')"
      ],
      "execution_count": null,
      "outputs": []
    },
    {
      "cell_type": "markdown",
      "metadata": {
        "id": "D9PiMYO9aYpu"
      },
      "source": [
        "Выше заранее вычисленные эмбеддинги записывали в файл и читали.\n",
        "Ниже -- проверяем работу моделей"
      ]
    },
    {
      "cell_type": "code",
      "metadata": {
        "colab": {
          "base_uri": "https://localhost:8080/",
          "height": 413
        },
        "id": "E_HUpO-xuvG7",
        "outputId": "e9ba235a-e3c7-4c55-f467-eda444cdac50"
      },
      "source": [
        "sentences = ['HTML','CSS','JavaScript','Neural networks','Нейронные сети','Random forest','Случайный лес']\n",
        "\n",
        "sentence_embeddings = embed(sentences)\n",
        "\n",
        "sentences_lab = ['HTML','CSS','JavaScript','Neural networks','[RUS] Neural networks','Random forest','[RUS] Random forest']\n",
        "import matplotlib.pyplot as plt\n",
        "plt.figure(figsize=(8, 6))\n",
        "plot=sns.heatmap(np.inner(sentence_embeddings,sentence_embeddings),vmin=0,vmax=1,cmap=\"YlGnBu\",yticklabels=sentences_lab, xticklabels=sentences_lab)\n",
        "loc, labels = plt.yticks()\n",
        "plot.set_yticklabels(labels, rotation=15);\n",
        "loc, labels = plt.xticks()\n",
        "plot.set_xticklabels(labels, rotation=15, ha='right');"
      ],
      "execution_count": null,
      "outputs": [
        {
          "output_type": "display_data",
          "data": {
            "image/png": "[encoded data removed]",
            "text/plain": [
              "<Figure size 576x432 with 2 Axes>"
            ]
          },
          "metadata": {}
        }
      ]
    },
    {
      "cell_type": "code",
      "metadata": {
        "colab": {
          "base_uri": "https://localhost:8080/",
          "height": 285
        },
        "id": "1i9tq7FuuvOY",
        "outputId": "112a2e48-1c0b-434a-c00c-e1654e6336c6"
      },
      "source": [
        "sentences = ['This framework generates embeddings for each input sentence',\n",
        "    'Sentences are passed as a list of string.', \n",
        "    'The quick brown fox jumps over the lazy dog.', \n",
        "    'Быстрая коричневая лиса перепрыгнула через ленивую собаку.',\n",
        "    'Предложения передаются в виде списка строк.', 'Random forest','Случайный лес']\n",
        "\n",
        "sentence_embeddings = embed(sentences)\n",
        "\n",
        "sns.set(font_scale=0.6)\n",
        "sns.heatmap(np.inner(sentence_embeddings,sentence_embeddings),vmin=0,vmax=1,cmap=\"YlGnBu\")"
      ],
      "execution_count": null,
      "outputs": [
        {
          "output_type": "execute_result",
          "data": {
            "text/plain": [
              "<matplotlib.axes._subplots.AxesSubplot at 0x7f50f8482790>"
            ]
          },
          "metadata": {},
          "execution_count": 44
        },
        {
          "output_type": "display_data",
          "data": {
            "image/png": "[encoded data removed]",
            "text/plain": [
              "<Figure size 432x288 with 2 Axes>"
            ]
          },
          "metadata": {}
        }
      ]
    },
    {
      "cell_type": "markdown",
      "metadata": {
        "id": "IJObEqvOsUP2"
      },
      "source": [
        "### Проверяем для всех тем"
      ]
    },
    {
      "cell_type": "code",
      "metadata": {
        "id": "6X7m7Binfoc0"
      },
      "source": [
        "def plot_similarity(topics, items, all_vectors):\n",
        "  '''\n",
        "    Матрица корелляции + ее визуализация. \n",
        "    Аргументы: \n",
        "        topics -- список названий тем; \n",
        "        items -- список названий уч.сущностей;\n",
        "        all_vectors -- список с векторами и тем, и уч.сущностей. \n",
        "    Возвращает: матрицу корелляции и график.\n",
        "  '''\n",
        "  len = topics.shape[0]\n",
        "\n",
        "  #оставляем только часть сверху справа.\n",
        "  corr = np.inner(all_vectors[:len], all_vectors[len:])\n",
        "  sns.set(font_scale=0.6)\n",
        "  #PuBuGn\n",
        "  g = sns.heatmap(corr,vmin=0,vmax=1,cmap=\"YlGnBu\")\n",
        "\n",
        "  return corr,g"
      ],
      "execution_count": null,
      "outputs": []
    },
    {
      "cell_type": "code",
      "metadata": {
        "colab": {
          "base_uri": "https://localhost:8080/",
          "height": 230
        },
        "id": "sSmtnhPuMUAy",
        "outputId": "3757d0e0-41da-4282-f4dd-2dbbb163f944"
      },
      "source": [
        "topics, items_val = wp_topic['description'].values[:50], dp_items['name'].values[:1000]\n",
        "all_labels = np.append(topics,items_val)\n",
        "all_vectors = embed(all_labels)\n",
        "corr, plot = plot_similarity(topics, items_val, all_vectors)"
      ],
      "execution_count": null,
      "outputs": [
        {
          "output_type": "error",
          "ename": "NameError",
          "evalue": "ignored",
          "traceback": [
            "\u001b[0;31m---------------------------------------------------------------------------\u001b[0m",
            "\u001b[0;31mNameError\u001b[0m                                 Traceback (most recent call last)",
            "\u001b[0;32m<ipython-input-33-0e31eba9374a>\u001b[0m in \u001b[0;36m<module>\u001b[0;34m()\u001b[0m\n\u001b[1;32m      1\u001b[0m \u001b[0mtopics\u001b[0m\u001b[0;34m,\u001b[0m \u001b[0mitems_val\u001b[0m \u001b[0;34m=\u001b[0m \u001b[0mwp_topic\u001b[0m\u001b[0;34m[\u001b[0m\u001b[0;34m'description'\u001b[0m\u001b[0;34m]\u001b[0m\u001b[0;34m.\u001b[0m\u001b[0mvalues\u001b[0m\u001b[0;34m[\u001b[0m\u001b[0;34m:\u001b[0m\u001b[0;36m50\u001b[0m\u001b[0;34m]\u001b[0m\u001b[0;34m,\u001b[0m \u001b[0mdp_items\u001b[0m\u001b[0;34m[\u001b[0m\u001b[0;34m'name'\u001b[0m\u001b[0;34m]\u001b[0m\u001b[0;34m.\u001b[0m\u001b[0mvalues\u001b[0m\u001b[0;34m[\u001b[0m\u001b[0;34m:\u001b[0m\u001b[0;36m1000\u001b[0m\u001b[0;34m]\u001b[0m\u001b[0;34m\u001b[0m\u001b[0;34m\u001b[0m\u001b[0m\n\u001b[1;32m      2\u001b[0m \u001b[0mall_labels\u001b[0m \u001b[0;34m=\u001b[0m \u001b[0mnp\u001b[0m\u001b[0;34m.\u001b[0m\u001b[0mappend\u001b[0m\u001b[0;34m(\u001b[0m\u001b[0mtopics\u001b[0m\u001b[0;34m,\u001b[0m\u001b[0mitems_val\u001b[0m\u001b[0;34m)\u001b[0m\u001b[0;34m\u001b[0m\u001b[0;34m\u001b[0m\u001b[0m\n\u001b[0;32m----> 3\u001b[0;31m \u001b[0mall_vectors\u001b[0m \u001b[0;34m=\u001b[0m \u001b[0membed\u001b[0m\u001b[0;34m(\u001b[0m\u001b[0mall_labels\u001b[0m\u001b[0;34m)\u001b[0m\u001b[0;34m\u001b[0m\u001b[0;34m\u001b[0m\u001b[0m\n\u001b[0m\u001b[1;32m      4\u001b[0m \u001b[0mcorr\u001b[0m\u001b[0;34m,\u001b[0m \u001b[0mplot\u001b[0m \u001b[0;34m=\u001b[0m \u001b[0mplot_similarity\u001b[0m\u001b[0;34m(\u001b[0m\u001b[0mtopics\u001b[0m\u001b[0;34m,\u001b[0m \u001b[0mitems_val\u001b[0m\u001b[0;34m,\u001b[0m \u001b[0mall_vectors\u001b[0m\u001b[0;34m)\u001b[0m\u001b[0;34m\u001b[0m\u001b[0;34m\u001b[0m\u001b[0m\n",
            "\u001b[0;31mNameError\u001b[0m: name 'embed' is not defined"
          ]
        }
      ]
    },
    {
      "cell_type": "code",
      "metadata": {
        "colab": {
          "background_save": true
        },
        "id": "b30OGkkCj5Fs"
      },
      "source": [
        "def corrItems(labels,topics,items,all_vectors,threshold=0.8):\n",
        "  '''\n",
        "    Поиск уч.сущностей, которые похожи на названия тем \n",
        "    (выбирает только одну сущность с макс.значением для каждой темы).\n",
        "    Аргументы: \n",
        "        labels -- список названий, которые будут выведены в итоге;\n",
        "        topics -- список названий тем; \n",
        "        items -- список названий уч.сущностей;\n",
        "        all_vectors -- список с векторами и тем, и уч.сущностей;\n",
        "        threshold -- порог значений. \n",
        "    Возвращает: таблицу с темами и соответствующими уч.сущностями \n",
        "                + визуализацию матрицы корелляции.\n",
        "  '''\n",
        "  corr_m, plot = plot_similarity(topics,items,all_vectors)\n",
        "  corr_m_new = corr_m.copy()\n",
        "\n",
        "  new_df = pd.DataFrame(labels[0],columns=['name'])\n",
        "  new_df['value']=corr_m_new.max(axis=1)\n",
        "  new_df['item'] = corr_m_new.argmax(axis=1)\n",
        "  new_df['item_name'] = new_df['item'].apply(lambda x: labels[1][x])\n",
        "\n",
        "  return new_df[new_df.value>threshold], plot"
      ],
      "execution_count": null,
      "outputs": []
    },
    {
      "cell_type": "code",
      "metadata": {
        "colab": {
          "background_save": true
        },
        "id": "RpIP-iI6OhI0"
      },
      "source": [
        "labels = [wp_topic['description'].values[:50], dp_items['name'].values[:1000]]\n",
        "all_labels = np.append(labels[0],labels[1])\n",
        "all_vectors = embed(all_labels)\n",
        "res, plot = corrItems(labels, wp_topic['description'].values[:50], dp_items['name'].values[:1000], all_vectors,threshold=0.7)"
      ],
      "execution_count": null,
      "outputs": []
    },
    {
      "cell_type": "code",
      "metadata": {
        "colab": {
          "background_save": true
        },
        "id": "tFDxVfnwXFZu"
      },
      "source": [
        "res"
      ],
      "execution_count": null,
      "outputs": []
    },
    {
      "cell_type": "markdown",
      "metadata": {
        "id": "0XgB6VIGk7zK"
      },
      "source": [
        "---\n",
        "Возвращаемся -> "
      ]
    },
    {
      "cell_type": "code",
      "metadata": {
        "colab": {
          "background_save": true
        },
        "id": "yi0BLWnDbfuE"
      },
      "source": [
        "def corrItemsList(item_labels,topics,items,all_vectors,threshold=0.8):\n",
        "  '''\n",
        "    Поиск уч.сущностей, которые похожи на названия тем. \n",
        "    Выбирает все сущности, значение которых выше порога.\n",
        "    Аргументы: \n",
        "        item_labels -- список названий уч.сущностей, которые будут выведены в итоге\n",
        "                        (при выводе id, а не названий, не используется);\n",
        "        topics -- список названий тем; \n",
        "        items -- список названий уч.сущностей;\n",
        "        all_vectors -- список с векторами и тем, и уч.сущностей;\n",
        "        threshold -- порог значений. \n",
        "    Возвращает: таблицу с уч.сущностями + визуализацию матрицы корелляции.\n",
        "  '''\n",
        "  corr_m, plot = plot_similarity(topics,items,all_vectors)\n",
        "  corr_m_new = corr_m.copy()\n",
        "\n",
        "  #corr_items = item_labels[np.where(np.any(corr_m_new > threshold, axis=0))]\n",
        "  corr_items = np.where(np.any(corr_m_new > threshold, axis=0))\n",
        "\n",
        "  return np.unique(corr_items), plot"
      ],
      "execution_count": null,
      "outputs": []
    },
    {
      "cell_type": "code",
      "metadata": {
        "colab": {
          "background_save": true
        },
        "id": "iIkxkTCVeOIr"
      },
      "source": [
        "all_vectors = embed(np.append(wp_topic['description'].values,dp_items['name'].values))\n",
        "resList,plot_l = corrItemsList(dp_items['name'].values, wp_topic['description'].values, dp_items['name'].values, all_vectors, threshold=0.8)"
      ],
      "execution_count": null,
      "outputs": []
    },
    {
      "cell_type": "code",
      "metadata": {
        "colab": {
          "background_save": true
        },
        "id": "vcBKOoOsbT0G"
      },
      "source": [
        "dp_items.iloc[resList]"
      ],
      "execution_count": null,
      "outputs": []
    },
    {
      "cell_type": "code",
      "metadata": {
        "colab": {
          "background_save": true
        },
        "id": "jgv57rDemrVB"
      },
      "source": [
        "# есть повторения в названиях сущностей, но вдруг повторы относились бы к разным областям?\n",
        "dp_items.iloc[resList].drop_duplicates(['name','domain_id'])['name'].values"
      ],
      "execution_count": null,
      "outputs": []
    },
    {
      "cell_type": "code",
      "metadata": {
        "colab": {
          "background_save": true
        },
        "id": "fUhILz-YrySD"
      },
      "source": [],
      "execution_count": null,
      "outputs": []
    },
    {
      "cell_type": "markdown",
      "metadata": {
        "id": "D71GlrsArzHt"
      },
      "source": [
        "### То же, но с вводом id дисциплины"
      ]
    },
    {
      "cell_type": "code",
      "metadata": {
        "id": "RkJHq6KOJwZa"
      },
      "source": [
        "def vecFuncUSE(headers):\n",
        "  return embed(headers)"
      ],
      "execution_count": null,
      "outputs": []
    },
    {
      "cell_type": "code",
      "metadata": {
        "colab": {
          "background_save": true
        },
        "id": "txudezEknorq"
      },
      "source": [
        "res = itemDiscSim(12223,vecFuncUSE,items_vecs)\n",
        "res"
      ],
      "execution_count": null,
      "outputs": []
    },
    {
      "cell_type": "code",
      "metadata": {
        "colab": {
          "background_save": true
        },
        "id": "f5nOFMC6iwZs"
      },
      "source": [],
      "execution_count": null,
      "outputs": []
    },
    {
      "cell_type": "markdown",
      "metadata": {
        "id": "cPzg40TEaheE"
      },
      "source": [
        "## -- BERT"
      ]
    },
    {
      "cell_type": "markdown",
      "metadata": {
        "id": "dRzORw25YkTV"
      },
      "source": [
        "Долго вычисляет + странные рез-ты?"
      ]
    },
    {
      "cell_type": "code",
      "metadata": {
        "id": "t1uvLKn6al8P"
      },
      "source": [
        "%%capture\n",
        "!pip install transformers"
      ],
      "execution_count": null,
      "outputs": []
    },
    {
      "cell_type": "code",
      "metadata": {
        "colab": {
          "base_uri": "https://localhost:8080/"
        },
        "id": "H_s524cpanMv",
        "outputId": "c890f513-d879-4605-adea-ce46235fe3bf"
      },
      "source": [
        "import torch\n",
        "from sklearn.metrics.pairwise import cosine_similarity\n",
        "from sklearn import preprocessing\n",
        "from transformers import AutoModel, AutoTokenizer, BertTokenizer\n",
        "\n",
        "torch.set_grad_enabled(False)"
      ],
      "execution_count": null,
      "outputs": [
        {
          "output_type": "execute_result",
          "data": {
            "text/plain": [
              "<torch.autograd.grad_mode.set_grad_enabled at 0x7fac98fe47d0>"
            ]
          },
          "metadata": {
            "tags": []
          },
          "execution_count": 22
        }
      ]
    },
    {
      "cell_type": "code",
      "metadata": {
        "colab": {
          "base_uri": "https://localhost:8080/",
          "height": 445,
          "referenced_widgets": [
            "8660ccc5f5be408b9a9085fc52424dc1",
            "bdd0af729cd144f9b5bd9f434e2a2bb4",
            "b79de08fa68342d2a19e444c1928023d",
            "5d39e44dfb3845e5a29dced91cdff4bb"
          ]
        },
        "id": "1gceh369anPo",
        "outputId": "178c14d7-68ac-466e-a09f-c0fef9410586"
      },
      "source": [
        "model = AutoModel.from_pretrained('bert-base-multilingual-cased')\n",
        "tokenizer = AutoTokenizer.from_pretrained('bert-base-multilingual-cased')"
      ],
      "execution_count": null,
      "outputs": [
        {
          "output_type": "stream",
          "text": [
            "2021-05-26 21:03:00,551 : INFO : Lock 140377619456464 acquired on /root/.cache/huggingface/transformers/0a3fd51713dcbb4def175c7f85bddc995d5976ce1dde327f99104e4d33069f17.aa7be4c79d76f4066d9b354496ea477c9ee39c5d889156dd1efb680643c2b052.lock\n"
          ],
          "name": "stderr"
        },
        {
          "output_type": "display_data",
          "data": {
            "application/vnd.jupyter.widget-view+json": {
              "model_id": "8660ccc5f5be408b9a9085fc52424dc1",
              "version_major": 2,
              "version_minor": 0
            },
            "text/plain": [
              "HBox(children=(FloatProgress(value=0.0, description='Downloading', max=714314041.0, style=ProgressStyle(descri…"
            ]
          },
          "metadata": {
            "tags": []
          }
        },
        {
          "output_type": "stream",
          "text": [
            "2021-05-26 21:03:21,348 : INFO : Lock 140377619456464 released on /root/.cache/huggingface/transformers/0a3fd51713dcbb4def175c7f85bddc995d5976ce1dde327f99104e4d33069f17.aa7be4c79d76f4066d9b354496ea477c9ee39c5d889156dd1efb680643c2b052.lock\n"
          ],
          "name": "stderr"
        },
        {
          "output_type": "stream",
          "text": [
            "\n"
          ],
          "name": "stdout"
        },
        {
          "output_type": "stream",
          "text": [
            "Some weights of the model checkpoint at bert-base-multilingual-cased were not used when initializing BertModel: ['cls.predictions.transform.LayerNorm.bias', 'cls.seq_relationship.weight', 'cls.predictions.transform.LayerNorm.weight', 'cls.predictions.transform.dense.weight', 'cls.predictions.decoder.weight', 'cls.seq_relationship.bias', 'cls.predictions.bias', 'cls.predictions.transform.dense.bias']\n",
            "- This IS expected if you are initializing BertModel from the checkpoint of a model trained on another task or with another architecture (e.g. initializing a BertForSequenceClassification model from a BertForPreTraining model).\n",
            "- This IS NOT expected if you are initializing BertModel from the checkpoint of a model that you expect to be exactly identical (initializing a BertForSequenceClassification model from a BertForSequenceClassification model).\n",
            "2021-05-26 21:03:24,888 : INFO : Lock 140377619483856 acquired on /root/.cache/huggingface/transformers/eff018e45de5364a8368df1f2df3461d506e2a111e9dd50af1fae061cd460ead.6c5b6600e968f4b5e08c86d8891ea99e51537fc2bf251435fb46922e8f7a7b29.lock\n"
          ],
          "name": "stderr"
        },
        {
          "output_type": "display_data",
          "data": {
            "application/vnd.jupyter.widget-view+json": {
              "model_id": "bdd0af729cd144f9b5bd9f434e2a2bb4",
              "version_major": 2,
              "version_minor": 0
            },
            "text/plain": [
              "HBox(children=(FloatProgress(value=0.0, description='Downloading', max=995526.0, style=ProgressStyle(descripti…"
            ]
          },
          "metadata": {
            "tags": []
          }
        },
        {
          "output_type": "stream",
          "text": [
            "2021-05-26 21:03:25,114 : INFO : Lock 140377619483856 released on /root/.cache/huggingface/transformers/eff018e45de5364a8368df1f2df3461d506e2a111e9dd50af1fae061cd460ead.6c5b6600e968f4b5e08c86d8891ea99e51537fc2bf251435fb46922e8f7a7b29.lock\n",
            "2021-05-26 21:03:25,192 : INFO : Lock 140377619483856 acquired on /root/.cache/huggingface/transformers/46880f3b0081fda494a4e15b05787692aa4c1e21e0ff2428ba8b14d4eda0784d.b33e51591f94f17c238ee9b1fac75b96ff2678cbaed6e108feadb3449d18dc24.lock\n"
          ],
          "name": "stderr"
        },
        {
          "output_type": "stream",
          "text": [
            "\n"
          ],
          "name": "stdout"
        },
        {
          "output_type": "display_data",
          "data": {
            "application/vnd.jupyter.widget-view+json": {
              "model_id": "b79de08fa68342d2a19e444c1928023d",
              "version_major": 2,
              "version_minor": 0
            },
            "text/plain": [
              "HBox(children=(FloatProgress(value=0.0, description='Downloading', max=1961828.0, style=ProgressStyle(descript…"
            ]
          },
          "metadata": {
            "tags": []
          }
        },
        {
          "output_type": "stream",
          "text": [
            "2021-05-26 21:03:25,437 : INFO : Lock 140377619483856 released on /root/.cache/huggingface/transformers/46880f3b0081fda494a4e15b05787692aa4c1e21e0ff2428ba8b14d4eda0784d.b33e51591f94f17c238ee9b1fac75b96ff2678cbaed6e108feadb3449d18dc24.lock\n"
          ],
          "name": "stderr"
        },
        {
          "output_type": "stream",
          "text": [
            "\n"
          ],
          "name": "stdout"
        },
        {
          "output_type": "stream",
          "text": [
            "2021-05-26 21:03:25,657 : INFO : Lock 140377618734416 acquired on /root/.cache/huggingface/transformers/f55e7a2ad4f8d0fff2733b3f79777e1e99247f2e4583703e92ce74453af8c235.ec5c189f89475aac7d8cbd243960a0655cfadc3d0474da8ff2ed0bf1699c2a5f.lock\n"
          ],
          "name": "stderr"
        },
        {
          "output_type": "display_data",
          "data": {
            "application/vnd.jupyter.widget-view+json": {
              "model_id": "5d39e44dfb3845e5a29dced91cdff4bb",
              "version_major": 2,
              "version_minor": 0
            },
            "text/plain": [
              "HBox(children=(FloatProgress(value=0.0, description='Downloading', max=29.0, style=ProgressStyle(description_w…"
            ]
          },
          "metadata": {
            "tags": []
          }
        },
        {
          "output_type": "stream",
          "text": [
            "2021-05-26 21:03:25,788 : INFO : Lock 140377618734416 released on /root/.cache/huggingface/transformers/f55e7a2ad4f8d0fff2733b3f79777e1e99247f2e4583703e92ce74453af8c235.ec5c189f89475aac7d8cbd243960a0655cfadc3d0474da8ff2ed0bf1699c2a5f.lock\n"
          ],
          "name": "stderr"
        },
        {
          "output_type": "stream",
          "text": [
            "\n"
          ],
          "name": "stdout"
        }
      ]
    },
    {
      "cell_type": "code",
      "metadata": {
        "id": "20n8FeDwEDvt"
      },
      "source": [
        "from sklearn import preprocessing"
      ],
      "execution_count": null,
      "outputs": []
    },
    {
      "cell_type": "code",
      "metadata": {
        "colab": {
          "base_uri": "https://localhost:8080/"
        },
        "id": "gg9UZkC3fv6Q",
        "outputId": "aeebce7b-c8a1-4216-fa86-b698d28fe2b1"
      },
      "source": [],
      "execution_count": null,
      "outputs": [
        {
          "output_type": "execute_result",
          "data": {
            "text/plain": [
              "['framework generate embedding input sentence',\n",
              " 'sentence pass list string',\n",
              " 'quick brown fox jump lazy dog',\n",
              " 'быстрый коричневый лиса перепрыгнуть ленивый собака',\n",
              " 'предложение передаваться вид список строка',\n",
              " 'random forest',\n",
              " 'случайный лес']"
            ]
          },
          "metadata": {
            "tags": []
          },
          "execution_count": 36
        }
      ]
    },
    {
      "cell_type": "code",
      "metadata": {
        "colab": {
          "base_uri": "https://localhost:8080/",
          "height": 285
        },
        "id": "bDOXveWufpRU",
        "outputId": "95e9832b-2b55-4d06-d836-edbb1b81a558"
      },
      "source": [
        "sentences = ['This framework generates embeddings for each input sentence',\n",
        "    'Sentences are passed as a list of string.', \n",
        "    'The quick brown fox jumps over the lazy dog.', \n",
        "    'Быстрая коричневая лиса перепрыгнула через ленивую собаку.',\n",
        "    'Предложения передаются в виде списка строк.', 'Random forest','Случайный лес']\n",
        "\n",
        "#tokens_pt = tokenizer(sentences, return_tensors=\"pt\", padding=True)\n",
        "tokens_pt = tokenizer(temp['prepro'].to_list(), return_tensors=\"pt\", padding=True)\n",
        "\n",
        "outputs = model(**tokens_pt)\n",
        "pooler_output = outputs.pooler_output\n",
        "\n",
        "sns.set(font_scale=0.6)\n",
        "sns.heatmap(np.inner(preprocessing.normalize(pooler_output),preprocessing.normalize(pooler_output)),vmin=0,vmax=1,cmap=\"YlGnBu\")"
      ],
      "execution_count": null,
      "outputs": [
        {
          "output_type": "execute_result",
          "data": {
            "text/plain": [
              "<matplotlib.axes._subplots.AxesSubplot at 0x7fac361228d0>"
            ]
          },
          "metadata": {
            "tags": []
          },
          "execution_count": 37
        },
        {
          "output_type": "display_data",
          "data": {
            "image/png": "[encoded data removed]",
            "text/plain": [
              "<Figure size 432x288 with 2 Axes>"
            ]
          },
          "metadata": {
            "tags": []
          }
        }
      ]
    },
    {
      "cell_type": "code",
      "metadata": {
        "colab": {
          "base_uri": "https://localhost:8080/",
          "height": 285
        },
        "id": "UNwhPyVJvoXb",
        "outputId": "67fe4676-a7b1-42bf-94ae-2fda20bb6968"
      },
      "source": [],
      "execution_count": null,
      "outputs": [
        {
          "output_type": "execute_result",
          "data": {
            "text/plain": [
              "<matplotlib.axes._subplots.AxesSubplot at 0x7f025cd972d0>"
            ]
          },
          "metadata": {
            "tags": []
          },
          "execution_count": 22
        },
        {
          "output_type": "display_data",
          "data": {
            "image/png": "[encoded data removed]",
            "text/plain": [
              "<Figure size 432x288 with 2 Axes>"
            ]
          },
          "metadata": {
            "tags": []
          }
        }
      ]
    },
    {
      "cell_type": "code",
      "metadata": {
        "colab": {
          "base_uri": "https://localhost:8080/"
        },
        "id": "Hf1dMQ9eD-eH",
        "outputId": "ebe0fc21-b62b-4bf7-f8b1-49ce1444e934"
      },
      "source": [
        "np.inner(pooler_output,pooler_output)"
      ],
      "execution_count": null,
      "outputs": [
        {
          "output_type": "execute_result",
          "data": {
            "text/plain": [
              "array([[126.636925,  80.4872  , 113.7118  ,  89.03408 ,  29.241615,\n",
              "         68.68401 , 102.90591 ],\n",
              "       [ 80.4872  ,  60.198616,  75.23463 ,  60.9293  ,  27.185085,\n",
              "         48.540928,  68.02994 ],\n",
              "       [113.7118  ,  75.23463 , 114.5472  ,  86.57979 ,  28.321049,\n",
              "         64.43546 ,  96.296906],\n",
              "       [ 89.03408 ,  60.9293  ,  86.57979 ,  72.562515,  27.899416,\n",
              "         49.463776,  79.38815 ],\n",
              "       [ 29.241615,  27.185085,  28.321049,  27.899416,  26.448711,\n",
              "         22.184502,  29.187   ],\n",
              "       [ 68.68401 ,  48.540928,  64.43546 ,  49.463776,  22.184502,\n",
              "         55.18467 ,  58.466663],\n",
              "       [102.90591 ,  68.02994 ,  96.296906,  79.38815 ,  29.187   ,\n",
              "         58.466663,  94.17383 ]], dtype=float32)"
            ]
          },
          "metadata": {
            "tags": []
          },
          "execution_count": 19
        }
      ]
    },
    {
      "cell_type": "markdown",
      "metadata": {
        "id": "IdpgLxwoxvZu"
      },
      "source": [
        "## -- SBERT? (2 модели)"
      ]
    },
    {
      "cell_type": "markdown",
      "metadata": {
        "id": "3utWTH0NY0AU"
      },
      "source": [
        "Странные рез-ты"
      ]
    },
    {
      "cell_type": "markdown",
      "metadata": {
        "id": "XiHNW0_X6GrM"
      },
      "source": [
        "\n",
        "\n",
        "*   pickle -- чтобы вычислить и загрузить потом\n",
        "*   Paraphrase Mining -- считает быстрее, нежели просто для каждой пары находить кос.сходство\n",
        "\n"
      ]
    },
    {
      "cell_type": "code",
      "metadata": {
        "id": "oTcWTPAxx7Ar"
      },
      "source": [
        "%%capture\n",
        "!pip install -U sentence-transformers"
      ],
      "execution_count": null,
      "outputs": []
    },
    {
      "cell_type": "code",
      "metadata": {
        "id": "jB0p_KgqyLdT"
      },
      "source": [
        "from sentence_transformers import SentenceTransformer\n",
        "model = SentenceTransformer('distiluse-base-multilingual-cased-v1')"
      ],
      "execution_count": null,
      "outputs": []
    },
    {
      "cell_type": "code",
      "metadata": {
        "id": "NRFMlWDAwxRp"
      },
      "source": [
        "model_sbert = model"
      ],
      "execution_count": null,
      "outputs": []
    },
    {
      "cell_type": "code",
      "metadata": {
        "colab": {
          "base_uri": "https://localhost:8080/",
          "height": 285
        },
        "id": "ptfbODtHxxA6",
        "outputId": "3367d648-f593-48a7-bdc3-27803adf3a09"
      },
      "source": [
        "sentences = ['This framework generates embeddings for each input sentence',\n",
        "    'Sentences are passed as a list of string.', \n",
        "    'The quick brown fox jumps over the lazy dog.', \n",
        "    'Быстрая коричневая лиса перепрыгнула через ленивую собаку.',\n",
        "    'Предложения передаются в виде списка строк.', 'Random forest','Случайный лес']\n",
        "\n",
        "sentence_embeddings = model.encode(sentences, convert_to_tensor=True)\n",
        "sns.set(font_scale=0.6)\n",
        "sns.heatmap(np.inner(sentence_embeddings,sentence_embeddings),vmin=0,vmax=1,cmap=\"YlGnBu\")"
      ],
      "execution_count": null,
      "outputs": [
        {
          "output_type": "execute_result",
          "data": {
            "text/plain": [
              "<matplotlib.axes._subplots.AxesSubplot at 0x7f99f5f663d0>"
            ]
          },
          "metadata": {
            "tags": []
          },
          "execution_count": 13
        },
        {
          "output_type": "display_data",
          "data": {
            "image/png": "[encoded data removed]",
            "text/plain": [
              "<Figure size 432x288 with 2 Axes>"
            ]
          },
          "metadata": {
            "tags": []
          }
        }
      ]
    },
    {
      "cell_type": "code",
      "metadata": {
        "id": "qrCIeEcx7Sw0"
      },
      "source": [
        "def vecFuncSBert(headers):\n",
        "  return model_sbert.encode(headers, convert_to_tensor=True)\n"
      ],
      "execution_count": null,
      "outputs": []
    },
    {
      "cell_type": "code",
      "metadata": {
        "id": "ZT1WSycLw_8l"
      },
      "source": [
        "item_vecs_sb = model_sbert.encode(dp_items['name'].values, convert_to_tensor=True)"
      ],
      "execution_count": null,
      "outputs": []
    },
    {
      "cell_type": "code",
      "metadata": {
        "colab": {
          "base_uri": "https://localhost:8080/",
          "height": 206
        },
        "id": "TDxZwW0UwkZ5",
        "outputId": "f7fb8723-6b8b-486d-cbec-887f884f86f0"
      },
      "source": [
        "res = itemDiscSim(12223,vecFuncSBert,item_vecs_sb)\n",
        "res\n",
        "# игра 0.9, хотя есть 100%соответствие в теме"
      ],
      "execution_count": null,
      "outputs": [
        {
          "output_type": "execute_result",
          "data": {
            "text/html": [
              "<div>\n",
              "<style scoped>\n",
              "    .dataframe tbody tr th:only-of-type {\n",
              "        vertical-align: middle;\n",
              "    }\n",
              "\n",
              "    .dataframe tbody tr th {\n",
              "        vertical-align: top;\n",
              "    }\n",
              "\n",
              "    .dataframe thead th {\n",
              "        text-align: right;\n",
              "    }\n",
              "</style>\n",
              "<table border=\"1\" class=\"dataframe\">\n",
              "  <thead>\n",
              "    <tr style=\"text-align: right;\">\n",
              "      <th></th>\n",
              "      <th>id</th>\n",
              "      <th>name</th>\n",
              "      <th>value</th>\n",
              "      <th>source</th>\n",
              "      <th>author_id</th>\n",
              "      <th>domain_id</th>\n",
              "      <th>similarity</th>\n",
              "    </tr>\n",
              "  </thead>\n",
              "  <tbody>\n",
              "    <tr>\n",
              "      <th>17159</th>\n",
              "      <td>17923</td>\n",
              "      <td>Игра</td>\n",
              "      <td>0</td>\n",
              "      <td>NaN</td>\n",
              "      <td>NaN</td>\n",
              "      <td>NaN</td>\n",
              "      <td>0.901437</td>\n",
              "    </tr>\n",
              "    <tr>\n",
              "      <th>627</th>\n",
              "      <td>867</td>\n",
              "      <td>Методы построения</td>\n",
              "      <td>64</td>\n",
              "      <td>uploaded</td>\n",
              "      <td>1.0</td>\n",
              "      <td>14.0</td>\n",
              "      <td>0.704804</td>\n",
              "    </tr>\n",
              "    <tr>\n",
              "      <th>7509</th>\n",
              "      <td>8058</td>\n",
              "      <td>Методы разработки архитектуры</td>\n",
              "      <td>7</td>\n",
              "      <td>uploaded</td>\n",
              "      <td>1.0</td>\n",
              "      <td>17.0</td>\n",
              "      <td>0.694217</td>\n",
              "    </tr>\n",
              "    <tr>\n",
              "      <th>6131</th>\n",
              "      <td>6558</td>\n",
              "      <td>Методы конструирования технологической оснастки</td>\n",
              "      <td>10</td>\n",
              "      <td>uploaded</td>\n",
              "      <td>1.0</td>\n",
              "      <td>36.0</td>\n",
              "      <td>0.684116</td>\n",
              "    </tr>\n",
              "    <tr>\n",
              "      <th>18306</th>\n",
              "      <td>18885</td>\n",
              "      <td>Прототипирование игровых механик</td>\n",
              "      <td>1</td>\n",
              "      <td>NaN</td>\n",
              "      <td>NaN</td>\n",
              "      <td>17.0</td>\n",
              "      <td>0.653086</td>\n",
              "    </tr>\n",
              "  </tbody>\n",
              "</table>\n",
              "</div>"
            ],
            "text/plain": [
              "          id  ... similarity\n",
              "17159  17923  ...   0.901437\n",
              "627      867  ...   0.704804\n",
              "7509    8058  ...   0.694217\n",
              "6131    6558  ...   0.684116\n",
              "18306  18885  ...   0.653086\n",
              "\n",
              "[5 rows x 7 columns]"
            ]
          },
          "metadata": {
            "tags": []
          },
          "execution_count": 33
        }
      ]
    },
    {
      "cell_type": "markdown",
      "metadata": {
        "id": "KeC7cTacTzwv"
      },
      "source": [
        "\n",
        "\n",
        "---\n",
        "Проверим на 2-й модели. В док-ии написано, что хоть языков больше, но точность на 15-ти изначальных (из 1-й модели) ниже\n"
      ]
    },
    {
      "cell_type": "code",
      "metadata": {
        "colab": {
          "base_uri": "https://localhost:8080/",
          "height": 68,
          "referenced_widgets": [
            "11d040b31917490da154996fb715e446"
          ]
        },
        "id": "6_GT620J9PwQ",
        "outputId": "57ca2da4-aef9-48b8-fb9a-024604a8dde7"
      },
      "source": [
        "model_v2 = SentenceTransformer('distiluse-base-multilingual-cased-v2')"
      ],
      "execution_count": null,
      "outputs": [
        {
          "output_type": "display_data",
          "data": {
            "application/vnd.jupyter.widget-view+json": {
              "model_id": "11d040b31917490da154996fb715e446",
              "version_major": 2,
              "version_minor": 0
            },
            "text/plain": [
              "HBox(children=(FloatProgress(value=0.0, max=503702349.0), HTML(value='')))"
            ]
          },
          "metadata": {
            "tags": []
          }
        },
        {
          "output_type": "stream",
          "text": [
            "\n"
          ],
          "name": "stdout"
        }
      ]
    },
    {
      "cell_type": "code",
      "metadata": {
        "id": "nr-VRK31zu3W"
      },
      "source": [
        "def vecFuncSBert2(headers):\n",
        "  return model_v2.encode(headers, convert_to_tensor=True)"
      ],
      "execution_count": null,
      "outputs": []
    },
    {
      "cell_type": "code",
      "metadata": {
        "colab": {
          "base_uri": "https://localhost:8080/",
          "height": 285
        },
        "id": "bgYf0AVOSV-k",
        "outputId": "60a91c06-965b-4eae-8d09-6f96095b7e17"
      },
      "source": [
        "sentences = ['This framework generates embeddings for each input sentence',\n",
        "    'Sentences are passed as a list of string.', \n",
        "    'The quick brown fox jumps over the lazy dog.', \n",
        "    'Быстрая коричневая лиса перепрыгнула через ленивую собаку.',\n",
        "    'Предложения передаются в виде списка строк.', 'Random forest','Случайный лес']\n",
        "\n",
        "sentence_embeddings = model_v2.encode(sentences, convert_to_tensor=True)\n",
        "sns.set(font_scale=0.6)\n",
        "sns.heatmap(np.inner(sentence_embeddings,sentence_embeddings),vmin=0,vmax=1,cmap=\"YlGnBu\")"
      ],
      "execution_count": null,
      "outputs": [
        {
          "output_type": "execute_result",
          "data": {
            "text/plain": [
              "<matplotlib.axes._subplots.AxesSubplot at 0x7f99e9aa3f10>"
            ]
          },
          "metadata": {
            "tags": []
          },
          "execution_count": 36
        },
        {
          "output_type": "display_data",
          "data": {
            "image/png": "[encoded data removed]",
            "text/plain": [
              "<Figure size 432x288 with 2 Axes>"
            ]
          },
          "metadata": {
            "tags": []
          }
        }
      ]
    },
    {
      "cell_type": "code",
      "metadata": {
        "id": "9xT4ryL_zn8N"
      },
      "source": [
        "item_vecs_sb = model_v2.encode(dp_items['name'].values, convert_to_tensor=True)"
      ],
      "execution_count": null,
      "outputs": []
    },
    {
      "cell_type": "code",
      "metadata": {
        "colab": {
          "base_uri": "https://localhost:8080/",
          "height": 363
        },
        "id": "Zth8J0g4zn8O",
        "outputId": "d6dfe4ed-45c5-4c7b-8a99-0b85cf2196f0"
      },
      "source": [
        "res = itemDiscSim(12223,vecFuncSBert2,item_vecs_sb,threshold=0.4)\n",
        "res"
      ],
      "execution_count": null,
      "outputs": [
        {
          "output_type": "execute_result",
          "data": {
            "text/html": [
              "<div>\n",
              "<style scoped>\n",
              "    .dataframe tbody tr th:only-of-type {\n",
              "        vertical-align: middle;\n",
              "    }\n",
              "\n",
              "    .dataframe tbody tr th {\n",
              "        vertical-align: top;\n",
              "    }\n",
              "\n",
              "    .dataframe thead th {\n",
              "        text-align: right;\n",
              "    }\n",
              "</style>\n",
              "<table border=\"1\" class=\"dataframe\">\n",
              "  <thead>\n",
              "    <tr style=\"text-align: right;\">\n",
              "      <th></th>\n",
              "      <th>id</th>\n",
              "      <th>name</th>\n",
              "      <th>value</th>\n",
              "      <th>source</th>\n",
              "      <th>author_id</th>\n",
              "      <th>domain_id</th>\n",
              "      <th>similarity</th>\n",
              "    </tr>\n",
              "  </thead>\n",
              "  <tbody>\n",
              "    <tr>\n",
              "      <th>7509</th>\n",
              "      <td>8058</td>\n",
              "      <td>Методы разработки архитектуры</td>\n",
              "      <td>7</td>\n",
              "      <td>uploaded</td>\n",
              "      <td>1.0</td>\n",
              "      <td>17.0</td>\n",
              "      <td>0.536467</td>\n",
              "    </tr>\n",
              "    <tr>\n",
              "      <th>1996</th>\n",
              "      <td>2267</td>\n",
              "      <td>Методики описания системной архитектуры</td>\n",
              "      <td>11</td>\n",
              "      <td>uploaded</td>\n",
              "      <td>1.0</td>\n",
              "      <td>17.0</td>\n",
              "      <td>0.502733</td>\n",
              "    </tr>\n",
              "    <tr>\n",
              "      <th>9361</th>\n",
              "      <td>9956</td>\n",
              "      <td>Методики описания архитектуры предприятия</td>\n",
              "      <td>10</td>\n",
              "      <td>uploaded</td>\n",
              "      <td>1.0</td>\n",
              "      <td>18.0</td>\n",
              "      <td>0.491816</td>\n",
              "    </tr>\n",
              "    <tr>\n",
              "      <th>1303</th>\n",
              "      <td>1554</td>\n",
              "      <td>Требования к структуре хорошей истории</td>\n",
              "      <td>9</td>\n",
              "      <td>uploaded</td>\n",
              "      <td>1.0</td>\n",
              "      <td>30.0</td>\n",
              "      <td>0.487548</td>\n",
              "    </tr>\n",
              "    <tr>\n",
              "      <th>627</th>\n",
              "      <td>867</td>\n",
              "      <td>Методы построения</td>\n",
              "      <td>64</td>\n",
              "      <td>uploaded</td>\n",
              "      <td>1.0</td>\n",
              "      <td>14.0</td>\n",
              "      <td>0.463450</td>\n",
              "    </tr>\n",
              "    <tr>\n",
              "      <th>17817</th>\n",
              "      <td>18492</td>\n",
              "      <td>Структурный подход к нарративу</td>\n",
              "      <td>1</td>\n",
              "      <td>NaN</td>\n",
              "      <td>NaN</td>\n",
              "      <td>62.0</td>\n",
              "      <td>0.459777</td>\n",
              "    </tr>\n",
              "    <tr>\n",
              "      <th>17159</th>\n",
              "      <td>17923</td>\n",
              "      <td>Игра</td>\n",
              "      <td>0</td>\n",
              "      <td>NaN</td>\n",
              "      <td>NaN</td>\n",
              "      <td>NaN</td>\n",
              "      <td>0.453946</td>\n",
              "    </tr>\n",
              "    <tr>\n",
              "      <th>490</th>\n",
              "      <td>633</td>\n",
              "      <td>История</td>\n",
              "      <td>70</td>\n",
              "      <td>uploaded</td>\n",
              "      <td>1.0</td>\n",
              "      <td>16.0</td>\n",
              "      <td>0.451369</td>\n",
              "    </tr>\n",
              "    <tr>\n",
              "      <th>18306</th>\n",
              "      <td>18885</td>\n",
              "      <td>Прототипирование игровых механик</td>\n",
              "      <td>1</td>\n",
              "      <td>NaN</td>\n",
              "      <td>NaN</td>\n",
              "      <td>17.0</td>\n",
              "      <td>0.443785</td>\n",
              "    </tr>\n",
              "    <tr>\n",
              "      <th>1312</th>\n",
              "      <td>1560</td>\n",
              "      <td>Теория игр</td>\n",
              "      <td>29</td>\n",
              "      <td>uploaded</td>\n",
              "      <td>1.0</td>\n",
              "      <td>11.0</td>\n",
              "      <td>0.442421</td>\n",
              "    </tr>\n",
              "  </tbody>\n",
              "</table>\n",
              "</div>"
            ],
            "text/plain": [
              "          id                                       name  ...  domain_id similarity\n",
              "7509    8058              Методы разработки архитектуры  ...       17.0   0.536467\n",
              "1996    2267    Методики описания системной архитектуры  ...       17.0   0.502733\n",
              "9361    9956  Методики описания архитектуры предприятия  ...       18.0   0.491816\n",
              "1303    1554     Требования к структуре хорошей истории  ...       30.0   0.487548\n",
              "627      867                          Методы построения  ...       14.0   0.463450\n",
              "17817  18492             Структурный подход к нарративу  ...       62.0   0.459777\n",
              "17159  17923                                       Игра  ...        NaN   0.453946\n",
              "490      633                                    История  ...       16.0   0.451369\n",
              "18306  18885           Прототипирование игровых механик  ...       17.0   0.443785\n",
              "1312    1560                                 Теория игр  ...       11.0   0.442421\n",
              "\n",
              "[10 rows x 7 columns]"
            ]
          },
          "metadata": {
            "tags": []
          },
          "execution_count": 40
        }
      ]
    },
    {
      "cell_type": "code",
      "metadata": {
        "id": "NuiGRd_8cyin"
      },
      "source": [],
      "execution_count": null,
      "outputs": []
    },
    {
      "cell_type": "markdown",
      "metadata": {
        "id": "_xsS6ZR1vka6"
      },
      "source": [
        "---\n",
        "# Пререквизиты"
      ]
    },
    {
      "cell_type": "markdown",
      "metadata": {
        "id": "rOcTv6EWYrEP"
      },
      "source": [
        "Взяли рез-ты всех РПД из всех Уч.Планов, находящихся в списке ранее текущего. И что дальше?\n",
        "\n",
        "Можно у текущей РПД найти рез-ты + узнать их самые частые предм.области. Затем из чужих рез-в выбрать из самой частой предм.области.\n",
        "\n",
        "Или в зависимости от модуля (например, универсальный или элективы) как-то по-разному?"
      ]
    },
    {
      "cell_type": "code",
      "metadata": {
        "colab": {
          "base_uri": "https://localhost:8080/"
        },
        "id": "NbgZUPgwxUU4",
        "outputId": "074c992e-377f-4c19-f218-0704748c4beb"
      },
      "source": [
        "#учебные планы\n",
        "wp_iaplan.head()"
      ],
      "execution_count": null,
      "outputs": [
        {
          "output_type": "execute_result",
          "data": {
            "text/html": [
              "<div>\n",
              "<style scoped>\n",
              "    .dataframe tbody tr th:only-of-type {\n",
              "        vertical-align: middle;\n",
              "    }\n",
              "\n",
              "    .dataframe tbody tr th {\n",
              "        vertical-align: top;\n",
              "    }\n",
              "\n",
              "    .dataframe thead th {\n",
              "        text-align: right;\n",
              "    }\n",
              "</style>\n",
              "<table border=\"1\" class=\"dataframe\">\n",
              "  <thead>\n",
              "    <tr style=\"text-align: right;\">\n",
              "      <th></th>\n",
              "      <th>id</th>\n",
              "      <th>year</th>\n",
              "      <th>academic_plan_id</th>\n",
              "      <th>period_of_study</th>\n",
              "      <th>op_isu_id</th>\n",
              "      <th>ns_id</th>\n",
              "      <th>ap_isu_id</th>\n",
              "      <th>educational_profile</th>\n",
              "      <th>language</th>\n",
              "      <th>qualification</th>\n",
              "      <th>title</th>\n",
              "    </tr>\n",
              "  </thead>\n",
              "  <tbody>\n",
              "    <tr>\n",
              "      <th>0</th>\n",
              "      <td>531</td>\n",
              "      <td>2019</td>\n",
              "      <td>473</td>\n",
              "      <td>NaN</td>\n",
              "      <td>6960</td>\n",
              "      <td>3893</td>\n",
              "      <td>11687</td>\n",
              "      <td>NaN</td>\n",
              "      <td>ru</td>\n",
              "      <td>bachelor</td>\n",
              "      <td>Нейротехнологии и программирование</td>\n",
              "    </tr>\n",
              "    <tr>\n",
              "      <th>1</th>\n",
              "      <td>493</td>\n",
              "      <td>2018</td>\n",
              "      <td>435</td>\n",
              "      <td>NaN</td>\n",
              "      <td>6215</td>\n",
              "      <td>3108</td>\n",
              "      <td>10555</td>\n",
              "      <td>NaN</td>\n",
              "      <td>ru</td>\n",
              "      <td>bachelor</td>\n",
              "      <td>Информатика и программирование</td>\n",
              "    </tr>\n",
              "    <tr>\n",
              "      <th>2</th>\n",
              "      <td>528</td>\n",
              "      <td>2020</td>\n",
              "      <td>470</td>\n",
              "      <td>NaN</td>\n",
              "      <td>6959</td>\n",
              "      <td>3892</td>\n",
              "      <td>13280</td>\n",
              "      <td>NaN</td>\n",
              "      <td>ru</td>\n",
              "      <td>bachelor</td>\n",
              "      <td>Компьютерные технологии в дизайне</td>\n",
              "    </tr>\n",
              "    <tr>\n",
              "      <th>3</th>\n",
              "      <td>526</td>\n",
              "      <td>2018</td>\n",
              "      <td>468</td>\n",
              "      <td>NaN</td>\n",
              "      <td>6959</td>\n",
              "      <td>3892</td>\n",
              "      <td>10559</td>\n",
              "      <td>NaN</td>\n",
              "      <td>ru</td>\n",
              "      <td>bachelor</td>\n",
              "      <td>Компьютерные технологии в дизайне</td>\n",
              "    </tr>\n",
              "    <tr>\n",
              "      <th>4</th>\n",
              "      <td>523</td>\n",
              "      <td>2019</td>\n",
              "      <td>465</td>\n",
              "      <td>NaN</td>\n",
              "      <td>7140</td>\n",
              "      <td>4071</td>\n",
              "      <td>11678</td>\n",
              "      <td>NaN</td>\n",
              "      <td>ru</td>\n",
              "      <td>bachelor</td>\n",
              "      <td>Мобильные и сетевые технологии</td>\n",
              "    </tr>\n",
              "  </tbody>\n",
              "</table>\n",
              "</div>"
            ],
            "text/plain": [
              "    id  year  ...  qualification                               title\n",
              "0  531  2019  ...       bachelor  Нейротехнологии и программирование\n",
              "1  493  2018  ...       bachelor      Информатика и программирование\n",
              "2  528  2020  ...       bachelor   Компьютерные технологии в дизайне\n",
              "3  526  2018  ...       bachelor   Компьютерные технологии в дизайне\n",
              "4  523  2019  ...       bachelor      Мобильные и сетевые технологии\n",
              "\n",
              "[5 rows x 11 columns]"
            ]
          },
          "metadata": {
            "tags": []
          },
          "execution_count": 30
        }
      ]
    },
    {
      "cell_type": "code",
      "metadata": {
        "id": "egvcmtum4WeB"
      },
      "source": [],
      "execution_count": null,
      "outputs": []
    },
    {
      "cell_type": "markdown",
      "metadata": {
        "id": "EswL6Payun9E"
      },
      "source": [
        "объедияем таблицы"
      ]
    },
    {
      "cell_type": "code",
      "metadata": {
        "colab": {
          "base_uri": "https://localhost:8080/"
        },
        "id": "4yZBMPI7w6z6",
        "outputId": "5745581a-c048-44fe-fc5d-a728607650bb"
      },
      "source": [
        "# распределение РПД по модулям в уч.плане\n",
        "wp_in_bmodules = wp_wp_disc_bm.merge(wp_wp_fos, left_on='id', right_on='work_program_change_in_discipline_block_module_id').iloc[:,:-2]\n",
        "wp_in_bmodules.head(4)"
      ],
      "execution_count": null,
      "outputs": [
        {
          "output_type": "execute_result",
          "data": {
            "text/html": [
              "<div>\n",
              "<style scoped>\n",
              "    .dataframe tbody tr th:only-of-type {\n",
              "        vertical-align: middle;\n",
              "    }\n",
              "\n",
              "    .dataframe tbody tr th {\n",
              "        vertical-align: top;\n",
              "    }\n",
              "\n",
              "    .dataframe thead th {\n",
              "        text-align: right;\n",
              "    }\n",
              "</style>\n",
              "<table border=\"1\" class=\"dataframe\">\n",
              "  <thead>\n",
              "    <tr style=\"text-align: right;\">\n",
              "      <th></th>\n",
              "      <th>id_x</th>\n",
              "      <th>discipline_block_module_id</th>\n",
              "      <th>change_type</th>\n",
              "      <th>semester_hour</th>\n",
              "      <th>credit_units</th>\n",
              "      <th>code</th>\n",
              "      <th>subject_code</th>\n",
              "      <th>id_y</th>\n",
              "      <th>work_program_id</th>\n",
              "    </tr>\n",
              "  </thead>\n",
              "  <tbody>\n",
              "    <tr>\n",
              "      <th>0</th>\n",
              "      <td>32043</td>\n",
              "      <td>8461</td>\n",
              "      <td>0</td>\n",
              "      <td>NaN</td>\n",
              "      <td>0, 0, 3.0, 0, 0, 0, 0, 0, 0, 0, 0, 0</td>\n",
              "      <td>NaN</td>\n",
              "      <td>1</td>\n",
              "      <td>41411</td>\n",
              "      <td>2623</td>\n",
              "    </tr>\n",
              "    <tr>\n",
              "      <th>1</th>\n",
              "      <td>32044</td>\n",
              "      <td>8461</td>\n",
              "      <td>0</td>\n",
              "      <td>NaN</td>\n",
              "      <td>0, 0, 2.0, 0, 0, 0, 0, 0, 0, 0, 0, 0</td>\n",
              "      <td>NaN</td>\n",
              "      <td>2</td>\n",
              "      <td>41412</td>\n",
              "      <td>2624</td>\n",
              "    </tr>\n",
              "    <tr>\n",
              "      <th>2</th>\n",
              "      <td>32045</td>\n",
              "      <td>8461</td>\n",
              "      <td>0</td>\n",
              "      <td>NaN</td>\n",
              "      <td>1.0, 1.0, 0, 0, 0, 0, 0, 0, 0, 0, 0, 0</td>\n",
              "      <td>NaN</td>\n",
              "      <td>3</td>\n",
              "      <td>41413</td>\n",
              "      <td>2625</td>\n",
              "    </tr>\n",
              "    <tr>\n",
              "      <th>3</th>\n",
              "      <td>32046</td>\n",
              "      <td>8462</td>\n",
              "      <td>0</td>\n",
              "      <td>NaN</td>\n",
              "      <td>0, 0, 0, 0, 0, 3.0, 0, 0, 0, 0, 0, 0</td>\n",
              "      <td>NaN</td>\n",
              "      <td>4</td>\n",
              "      <td>41414</td>\n",
              "      <td>2626</td>\n",
              "    </tr>\n",
              "  </tbody>\n",
              "</table>\n",
              "</div>"
            ],
            "text/plain": [
              "    id_x  discipline_block_module_id  ...   id_y  work_program_id\n",
              "0  32043                        8461  ...  41411             2623\n",
              "1  32044                        8461  ...  41412             2624\n",
              "2  32045                        8461  ...  41413             2625\n",
              "3  32046                        8462  ...  41414             2626\n",
              "\n",
              "[4 rows x 9 columns]"
            ]
          },
          "metadata": {
            "tags": []
          },
          "execution_count": 31
        }
      ]
    },
    {
      "cell_type": "code",
      "metadata": {
        "colab": {
          "base_uri": "https://localhost:8080/"
        },
        "id": "vvUHPVdu1A_Z",
        "outputId": "812cd4a3-3751-4985-f218-e093cfa1cc9c"
      },
      "source": [
        "# распределение РПД по модулям и блокам в уч.плане\n",
        "wp_in_ap = wp_in_bmodules.merge(wp_disc_bm.iloc[:,:-2], left_on='discipline_block_module_id',right_on='id')\n",
        "wp_in_ap.head(3)"
      ],
      "execution_count": null,
      "outputs": [
        {
          "output_type": "execute_result",
          "data": {
            "text/html": [
              "<div>\n",
              "<style scoped>\n",
              "    .dataframe tbody tr th:only-of-type {\n",
              "        vertical-align: middle;\n",
              "    }\n",
              "\n",
              "    .dataframe tbody tr th {\n",
              "        vertical-align: top;\n",
              "    }\n",
              "\n",
              "    .dataframe thead th {\n",
              "        text-align: right;\n",
              "    }\n",
              "</style>\n",
              "<table border=\"1\" class=\"dataframe\">\n",
              "  <thead>\n",
              "    <tr style=\"text-align: right;\">\n",
              "      <th></th>\n",
              "      <th>id_x</th>\n",
              "      <th>discipline_block_module_id</th>\n",
              "      <th>change_type</th>\n",
              "      <th>semester_hour</th>\n",
              "      <th>credit_units</th>\n",
              "      <th>code</th>\n",
              "      <th>subject_code</th>\n",
              "      <th>id_y</th>\n",
              "      <th>work_program_id</th>\n",
              "      <th>id</th>\n",
              "      <th>name</th>\n",
              "      <th>descipline_block_id</th>\n",
              "      <th>order</th>\n",
              "    </tr>\n",
              "  </thead>\n",
              "  <tbody>\n",
              "    <tr>\n",
              "      <th>0</th>\n",
              "      <td>32043</td>\n",
              "      <td>8461</td>\n",
              "      <td>0</td>\n",
              "      <td>NaN</td>\n",
              "      <td>0, 0, 3.0, 0, 0, 0, 0, 0, 0, 0, 0, 0</td>\n",
              "      <td>NaN</td>\n",
              "      <td>1</td>\n",
              "      <td>41411</td>\n",
              "      <td>2623</td>\n",
              "      <td>8461</td>\n",
              "      <td>Универсальный модуль</td>\n",
              "      <td>1695</td>\n",
              "      <td>2</td>\n",
              "    </tr>\n",
              "    <tr>\n",
              "      <th>1</th>\n",
              "      <td>32044</td>\n",
              "      <td>8461</td>\n",
              "      <td>0</td>\n",
              "      <td>NaN</td>\n",
              "      <td>0, 0, 2.0, 0, 0, 0, 0, 0, 0, 0, 0, 0</td>\n",
              "      <td>NaN</td>\n",
              "      <td>2</td>\n",
              "      <td>41412</td>\n",
              "      <td>2624</td>\n",
              "      <td>8461</td>\n",
              "      <td>Универсальный модуль</td>\n",
              "      <td>1695</td>\n",
              "      <td>2</td>\n",
              "    </tr>\n",
              "    <tr>\n",
              "      <th>2</th>\n",
              "      <td>32045</td>\n",
              "      <td>8461</td>\n",
              "      <td>0</td>\n",
              "      <td>NaN</td>\n",
              "      <td>1.0, 1.0, 0, 0, 0, 0, 0, 0, 0, 0, 0, 0</td>\n",
              "      <td>NaN</td>\n",
              "      <td>3</td>\n",
              "      <td>41413</td>\n",
              "      <td>2625</td>\n",
              "      <td>8461</td>\n",
              "      <td>Универсальный модуль</td>\n",
              "      <td>1695</td>\n",
              "      <td>2</td>\n",
              "    </tr>\n",
              "  </tbody>\n",
              "</table>\n",
              "</div>"
            ],
            "text/plain": [
              "    id_x  discipline_block_module_id  ...  descipline_block_id  order\n",
              "0  32043                        8461  ...                 1695      2\n",
              "1  32044                        8461  ...                 1695      2\n",
              "2  32045                        8461  ...                 1695      2\n",
              "\n",
              "[3 rows x 13 columns]"
            ]
          },
          "metadata": {
            "tags": []
          },
          "execution_count": 32
        }
      ]
    },
    {
      "cell_type": "code",
      "metadata": {
        "id": "Wkzwe6Ld-tVD"
      },
      "source": [
        "outcomes_dom = wp_outcomes.merge(dp_items,left_on='item_id',right_on='id')"
      ],
      "execution_count": null,
      "outputs": []
    },
    {
      "cell_type": "code",
      "metadata": {
        "id": "sJ36w7ZDcjNp"
      },
      "source": [],
      "execution_count": null,
      "outputs": []
    },
    {
      "cell_type": "code",
      "metadata": {
        "id": "Wxokabjr7iXD"
      },
      "source": [],
      "execution_count": null,
      "outputs": []
    },
    {
      "cell_type": "code",
      "metadata": {
        "id": "UXriwy9YGUmO"
      },
      "source": [],
      "execution_count": null,
      "outputs": []
    },
    {
      "cell_type": "code",
      "metadata": {
        "id": "YTNwvXqYwkYi"
      },
      "source": [
        "# какие РПД в учебном плане\n",
        "def wpInAplan(aplan_id = 435):\n",
        "  \n",
        "  # нужные блоки\n",
        "  blocks = wp_disc_b[wp_disc_b['academic_plan_id']  == aplan_id].id\n",
        "  # нужные модули в блоках + РПД\n",
        "  bmodules_and_wp = wp_in_ap[wp_in_ap['descipline_block_id'].isin(blocks)]\n",
        "\n",
        "  bmodules_and_wp = bmodules_and_wp.loc[:,['id_x','discipline_block_module_id',\n",
        "                                           'subject_code','work_program_id','id',\n",
        "                                           'name','descipline_block_id','order']]\n",
        "  #сортируем по порядку модулей и по порядку РПД\n",
        "  return bmodules_and_wp.sort_values(by=['order','subject_code'])  \n",
        "\n",
        "\n",
        "# список РПД, которые стоят в уч. плане раньше текущей\n",
        "def ealierWpInAplan(wp_id = 2627, aplan_id=435):\n",
        "  needed_aplan = wpInAplan(aplan_id)\n",
        "  # ищем место РПД в списке\n",
        "  wp_index = needed_aplan[needed_aplan.work_program_id==wp_id].index[0]\n",
        "\n",
        "  return needed_aplan.iloc[:wp_index,:].work_program_id  "
      ],
      "execution_count": null,
      "outputs": []
    },
    {
      "cell_type": "code",
      "metadata": {
        "id": "d4aKkP1qZOpr"
      },
      "source": [
        "def earlierWpRes(wp_id = 2623, to_return=10):\n",
        "  '''\n",
        "    Поиск учебных сущностей, которые часто встречаются в РПД,\n",
        "    стоящих ранее в связанных учебных планах.\n",
        "    Аргументы:\n",
        "        wp_id -- id дисциплины;\n",
        "        to_return -- кол-во рекомендаций.\n",
        "    Возвращает: таблицу с уч.сущностями\n",
        "  '''\n",
        "  # в каких уч.планах есть РПД:\n",
        "    # в каких блоках встречается РПД\n",
        "  blocks = wp_in_ap[wp_in_ap.work_program_id==wp_id].descipline_block_id.unique()\n",
        "    # в каких уч.планах находятся блоки\n",
        "  ap_ids = wp_disc_b[wp_disc_b.id.isin(blocks)].academic_plan_id.unique()\n",
        "\n",
        "  # составляем список РПД, которые находятся раньше, из всех уч.планов\n",
        "  earlier_wps = np.array([])\n",
        "  for ap in ap_ids:\n",
        "    earlier_wps = np.append(earlier_wps, ealierWpInAplan(wp_id, ap).values)\n",
        "  \n",
        "  # составляем список всех результатов для всех РДП \n",
        "  earlier_res, res_count = np.unique(wp_outcomes[wp_outcomes.workprogram_id.isin(\n",
        "                                      earlier_wps)].item_id.values, return_counts=True)\n",
        "  \n",
        "  # самые частые результаты\n",
        "  freq_res = pd.DataFrame([earlier_res,res_count]).T[0].values\n",
        "  res = dp_items[dp_items.id.isin(freq_res)].copy()\n",
        "\n",
        "  # записываем абсолютные и относительные величины частоты\n",
        "  len = res.shape[0]\n",
        "  res['val'] = 0\n",
        "  res['perc'] = 0\n",
        "  for item,value in zip(earlier_res,res_count):\n",
        "    res.loc[res['id']==item,'val'] = value\n",
        "    res.loc[res['id']==item,'perc'] = value/len\n",
        "  \n",
        "  return res.nlargest(to_return,'perc')"
      ],
      "execution_count": null,
      "outputs": []
    },
    {
      "cell_type": "code",
      "metadata": {
        "colab": {
          "base_uri": "https://localhost:8080/"
        },
        "id": "FiL-Fx-vZOra",
        "outputId": "6ce0f33a-1654-44b3-9475-ffa220be89e8"
      },
      "source": [
        "earlierWpRes(12186,to_return=15)"
      ],
      "execution_count": null,
      "outputs": [
        {
          "output_type": "execute_result",
          "data": {
            "text/html": [
              "<div>\n",
              "<style scoped>\n",
              "    .dataframe tbody tr th:only-of-type {\n",
              "        vertical-align: middle;\n",
              "    }\n",
              "\n",
              "    .dataframe tbody tr th {\n",
              "        vertical-align: top;\n",
              "    }\n",
              "\n",
              "    .dataframe thead th {\n",
              "        text-align: right;\n",
              "    }\n",
              "</style>\n",
              "<table border=\"1\" class=\"dataframe\">\n",
              "  <thead>\n",
              "    <tr style=\"text-align: right;\">\n",
              "      <th></th>\n",
              "      <th>id</th>\n",
              "      <th>name</th>\n",
              "      <th>value</th>\n",
              "      <th>source</th>\n",
              "      <th>author_id</th>\n",
              "      <th>domain_id</th>\n",
              "      <th>val</th>\n",
              "      <th>perc</th>\n",
              "    </tr>\n",
              "  </thead>\n",
              "  <tbody>\n",
              "    <tr>\n",
              "      <th>6733</th>\n",
              "      <td>7203</td>\n",
              "      <td>Правовая охрана интеллектуальной собственности</td>\n",
              "      <td>18</td>\n",
              "      <td>uploaded</td>\n",
              "      <td>1.0</td>\n",
              "      <td>30.0</td>\n",
              "      <td>7</td>\n",
              "      <td>0.017241</td>\n",
              "    </tr>\n",
              "    <tr>\n",
              "      <th>17738</th>\n",
              "      <td>856</td>\n",
              "      <td>Нейронные сети</td>\n",
              "      <td>232</td>\n",
              "      <td>uploaded</td>\n",
              "      <td>1.0</td>\n",
              "      <td>17.0</td>\n",
              "      <td>6</td>\n",
              "      <td>0.014778</td>\n",
              "    </tr>\n",
              "    <tr>\n",
              "      <th>6763</th>\n",
              "      <td>7201</td>\n",
              "      <td>Научное исследование</td>\n",
              "      <td>6</td>\n",
              "      <td>uploaded</td>\n",
              "      <td>1.0</td>\n",
              "      <td>30.0</td>\n",
              "      <td>5</td>\n",
              "      <td>0.012315</td>\n",
              "    </tr>\n",
              "    <tr>\n",
              "      <th>1232</th>\n",
              "      <td>13255</td>\n",
              "      <td>Бизнес-модель</td>\n",
              "      <td>0</td>\n",
              "      <td>NaN</td>\n",
              "      <td>NaN</td>\n",
              "      <td>NaN</td>\n",
              "      <td>4</td>\n",
              "      <td>0.009852</td>\n",
              "    </tr>\n",
              "    <tr>\n",
              "      <th>2179</th>\n",
              "      <td>2405</td>\n",
              "      <td>Организация научных исследований</td>\n",
              "      <td>16</td>\n",
              "      <td>uploaded</td>\n",
              "      <td>1.0</td>\n",
              "      <td>30.0</td>\n",
              "      <td>4</td>\n",
              "      <td>0.009852</td>\n",
              "    </tr>\n",
              "    <tr>\n",
              "      <th>6720</th>\n",
              "      <td>7199</td>\n",
              "      <td>Международные наукометрические базы данных</td>\n",
              "      <td>6</td>\n",
              "      <td>uploaded</td>\n",
              "      <td>1.0</td>\n",
              "      <td>30.0</td>\n",
              "      <td>4</td>\n",
              "      <td>0.009852</td>\n",
              "    </tr>\n",
              "    <tr>\n",
              "      <th>6721</th>\n",
              "      <td>7200</td>\n",
              "      <td>Международные научные парнерства</td>\n",
              "      <td>6</td>\n",
              "      <td>uploaded</td>\n",
              "      <td>1.0</td>\n",
              "      <td>30.0</td>\n",
              "      <td>4</td>\n",
              "      <td>0.009852</td>\n",
              "    </tr>\n",
              "    <tr>\n",
              "      <th>6725</th>\n",
              "      <td>7202</td>\n",
              "      <td>Методологические основы научного знания</td>\n",
              "      <td>6</td>\n",
              "      <td>uploaded</td>\n",
              "      <td>1.0</td>\n",
              "      <td>30.0</td>\n",
              "      <td>4</td>\n",
              "      <td>0.009852</td>\n",
              "    </tr>\n",
              "    <tr>\n",
              "      <th>6727</th>\n",
              "      <td>7204</td>\n",
              "      <td>Управление в сфере науки в России</td>\n",
              "      <td>6</td>\n",
              "      <td>uploaded</td>\n",
              "      <td>1.0</td>\n",
              "      <td>30.0</td>\n",
              "      <td>4</td>\n",
              "      <td>0.009852</td>\n",
              "    </tr>\n",
              "    <tr>\n",
              "      <th>15433</th>\n",
              "      <td>7308</td>\n",
              "      <td>Проектная деятельность</td>\n",
              "      <td>22</td>\n",
              "      <td>uploaded</td>\n",
              "      <td>1.0</td>\n",
              "      <td>30.0</td>\n",
              "      <td>4</td>\n",
              "      <td>0.009852</td>\n",
              "    </tr>\n",
              "    <tr>\n",
              "      <th>2204</th>\n",
              "      <td>2513</td>\n",
              "      <td>Автоматизация производств</td>\n",
              "      <td>10</td>\n",
              "      <td>uploaded</td>\n",
              "      <td>1.0</td>\n",
              "      <td>17.0</td>\n",
              "      <td>3</td>\n",
              "      <td>0.007389</td>\n",
              "    </tr>\n",
              "    <tr>\n",
              "      <th>2233</th>\n",
              "      <td>2509</td>\n",
              "      <td>Технологии анализа данных</td>\n",
              "      <td>10</td>\n",
              "      <td>uploaded</td>\n",
              "      <td>1.0</td>\n",
              "      <td>14.0</td>\n",
              "      <td>3</td>\n",
              "      <td>0.007389</td>\n",
              "    </tr>\n",
              "    <tr>\n",
              "      <th>2234</th>\n",
              "      <td>2510</td>\n",
              "      <td>Алгоритмы анализа данных</td>\n",
              "      <td>10</td>\n",
              "      <td>uploaded</td>\n",
              "      <td>1.0</td>\n",
              "      <td>14.0</td>\n",
              "      <td>3</td>\n",
              "      <td>0.007389</td>\n",
              "    </tr>\n",
              "    <tr>\n",
              "      <th>2236</th>\n",
              "      <td>2516</td>\n",
              "      <td>Умный город</td>\n",
              "      <td>23</td>\n",
              "      <td>uploaded</td>\n",
              "      <td>1.0</td>\n",
              "      <td>14.0</td>\n",
              "      <td>3</td>\n",
              "      <td>0.007389</td>\n",
              "    </tr>\n",
              "    <tr>\n",
              "      <th>2243</th>\n",
              "      <td>2512</td>\n",
              "      <td>Безопасность</td>\n",
              "      <td>10</td>\n",
              "      <td>uploaded</td>\n",
              "      <td>1.0</td>\n",
              "      <td>14.0</td>\n",
              "      <td>3</td>\n",
              "      <td>0.007389</td>\n",
              "    </tr>\n",
              "  </tbody>\n",
              "</table>\n",
              "</div>"
            ],
            "text/plain": [
              "          id                                            name  ...  val      perc\n",
              "6733    7203  Правовая охрана интеллектуальной собственности  ...    7  0.017241\n",
              "17738    856                                  Нейронные сети  ...    6  0.014778\n",
              "6763    7201                            Научное исследование  ...    5  0.012315\n",
              "1232   13255                                   Бизнес-модель  ...    4  0.009852\n",
              "2179    2405                Организация научных исследований  ...    4  0.009852\n",
              "6720    7199      Международные наукометрические базы данных  ...    4  0.009852\n",
              "6721    7200                Международные научные парнерства  ...    4  0.009852\n",
              "6725    7202         Методологические основы научного знания  ...    4  0.009852\n",
              "6727    7204               Управление в сфере науки в России  ...    4  0.009852\n",
              "15433   7308                          Проектная деятельность  ...    4  0.009852\n",
              "2204    2513                       Автоматизация производств  ...    3  0.007389\n",
              "2233    2509                       Технологии анализа данных  ...    3  0.007389\n",
              "2234    2510                        Алгоритмы анализа данных  ...    3  0.007389\n",
              "2236    2516                                     Умный город  ...    3  0.007389\n",
              "2243    2512                                    Безопасность  ...    3  0.007389\n",
              "\n",
              "[15 rows x 8 columns]"
            ]
          },
          "metadata": {
            "tags": []
          },
          "execution_count": 36
        }
      ]
    },
    {
      "cell_type": "code",
      "metadata": {
        "id": "zXE62H3I9F99"
      },
      "source": [],
      "execution_count": null,
      "outputs": []
    },
    {
      "cell_type": "code",
      "metadata": {
        "id": "zKS83NUncT7I"
      },
      "source": [],
      "execution_count": null,
      "outputs": []
    },
    {
      "cell_type": "code",
      "metadata": {
        "id": "3FEueIyRcUIF"
      },
      "source": [
        "def earlierWpResDomain(wp_id = 2623, to_return=10):\n",
        "  '''\n",
        "    Поиск учебных сущностей, которые часто встречаются в РПД,\n",
        "    стоящих ранее в связанных учебных планах И в той же пр.области,\n",
        "    что и результаты заданной РПД.\n",
        "    Аргументы:\n",
        "        wp_id -- id дисциплины;\n",
        "        to_return -- кол-во рекомендаций.\n",
        "    Возвращает: таблицу с уч.сущностями\n",
        "  '''\n",
        "  # в каких уч.планах есть РПД:\n",
        "    # в каких блоках встречается РПД\n",
        "  blocks = wp_in_ap[wp_in_ap['work_program_id']==wp_id]['descipline_block_id'].unique()\n",
        "    # в каких уч.планах находятся блоки\n",
        "  ap_ids = wp_disc_b[wp_disc_b['id'].isin(blocks)]['academic_plan_id'].unique()\n",
        "\n",
        "  # составляем список РПД, которые находятся раньше, из всех уч.планов\n",
        "  earlier_wps = np.array([])\n",
        "  for ap in ap_ids:\n",
        "    earlier_wps = np.append(earlier_wps, ealierWpInAplan(wp_id, ap).values)\n",
        "\n",
        "  # результаты самой РПД\n",
        "  orig_res = wp_outcomes[wp_outcomes['workprogram_id'] == wp_id]['item_id'].values\n",
        "  # предм.области результатов\n",
        "  orig_domain = dp_items[dp_items['id'].isin(orig_res)]['domain_id'].unique()\n",
        "\n",
        "  # составляем список всех результатов для всех РДП \n",
        "  earlier_res, res_count = np.unique(wp_outcomes[wp_outcomes['workprogram_id'].isin(\n",
        "                                      earlier_wps)]['item_id'].values, return_counts=True)\n",
        "  \n",
        "  # возвращаем только рез-ты, которые из тех же предм.областей, что и оригинальная РПД\n",
        "  item_ids = outcomes_dom[(outcomes_dom['workprogram_id'].isin(earlier_wps) & \n",
        "                (outcomes_dom['domain_id'].isin(orig_domain)))\n",
        "              ].value_counts('item_id').index#[:to_return]\n",
        "  len = item_ids.shape[0]\n",
        "  res = dp_items[dp_items.id.isin(item_ids)].copy()\n",
        "\n",
        "  # записываем абсолютные и относительные величины частоты\n",
        "  len = res.shape[0]\n",
        "  res['val'] = 0\n",
        "  res['perc'] = 0\n",
        "  for item,value in zip(earlier_res,res_count):\n",
        "    res.loc[res['id']==item,'val'] = value\n",
        "    res.loc[res['id']==item,'perc'] = value/len\n",
        "  res = res.nlargest(to_return,'perc')\n",
        "\n",
        "  # если данных меньше заданного кол-ва рекомендаций, задействуем базовую модель\n",
        "  if res.shape[0]<to_return:\n",
        "    # cамые частые результаты\n",
        "    freq_res = pd.DataFrame([earlier_res,res_count]).T[0].values\n",
        "    res2 = dp_items[dp_items.id.isin(freq_res)].copy()\n",
        "\n",
        "    # записываем абсолютные и относительные величины частоты\n",
        "    len = res.shape[0]\n",
        "    res2['val'] = 0\n",
        "    res2['perc'] = 0\n",
        "    for item,value in zip(earlier_res,res_count):\n",
        "      res2.loc[res2['id']==item,'val'] = value\n",
        "      res2.loc[res2['id']==item,'perc'] = value/len\n",
        "    res2 = res2.nlargest(to_return - res.shape[0],'perc')\n",
        "    \n",
        "    res.append(res2)\n",
        "\n",
        "  return res.drop_duplicates()"
      ],
      "execution_count": null,
      "outputs": []
    },
    {
      "cell_type": "code",
      "metadata": {
        "colab": {
          "base_uri": "https://localhost:8080/"
        },
        "id": "hdDeU3vfcUIH",
        "outputId": "54ebc51d-88be-4afd-8274-cf6637a9aa97"
      },
      "source": [
        "earlierWpResDomain(12186,to_return=15)"
      ],
      "execution_count": null,
      "outputs": [
        {
          "output_type": "execute_result",
          "data": {
            "text/html": [
              "<div>\n",
              "<style scoped>\n",
              "    .dataframe tbody tr th:only-of-type {\n",
              "        vertical-align: middle;\n",
              "    }\n",
              "\n",
              "    .dataframe tbody tr th {\n",
              "        vertical-align: top;\n",
              "    }\n",
              "\n",
              "    .dataframe thead th {\n",
              "        text-align: right;\n",
              "    }\n",
              "</style>\n",
              "<table border=\"1\" class=\"dataframe\">\n",
              "  <thead>\n",
              "    <tr style=\"text-align: right;\">\n",
              "      <th></th>\n",
              "      <th>id</th>\n",
              "      <th>name</th>\n",
              "      <th>value</th>\n",
              "      <th>source</th>\n",
              "      <th>author_id</th>\n",
              "      <th>domain_id</th>\n",
              "      <th>val</th>\n",
              "      <th>perc</th>\n",
              "    </tr>\n",
              "  </thead>\n",
              "  <tbody>\n",
              "    <tr>\n",
              "      <th>7781</th>\n",
              "      <td>8355</td>\n",
              "      <td>Охрана интеллектуальной собственности авторски...</td>\n",
              "      <td>22</td>\n",
              "      <td>uploaded</td>\n",
              "      <td>1.0</td>\n",
              "      <td>27.0</td>\n",
              "      <td>2</td>\n",
              "      <td>0.666667</td>\n",
              "    </tr>\n",
              "    <tr>\n",
              "      <th>7778</th>\n",
              "      <td>8364</td>\n",
              "      <td>Распоряжение правами на интеллектуальную собст...</td>\n",
              "      <td>19</td>\n",
              "      <td>uploaded</td>\n",
              "      <td>1.0</td>\n",
              "      <td>27.0</td>\n",
              "      <td>1</td>\n",
              "      <td>0.333333</td>\n",
              "    </tr>\n",
              "    <tr>\n",
              "      <th>17920</th>\n",
              "      <td>8354</td>\n",
              "      <td>Правовые основы интеллектуальной собственности</td>\n",
              "      <td>20</td>\n",
              "      <td>uploaded</td>\n",
              "      <td>1.0</td>\n",
              "      <td>27.0</td>\n",
              "      <td>1</td>\n",
              "      <td>0.333333</td>\n",
              "    </tr>\n",
              "  </tbody>\n",
              "</table>\n",
              "</div>"
            ],
            "text/plain": [
              "         id                                               name  ...  val      perc\n",
              "7781   8355  Охрана интеллектуальной собственности авторски...  ...    2  0.666667\n",
              "7778   8364  Распоряжение правами на интеллектуальную собст...  ...    1  0.333333\n",
              "17920  8354     Правовые основы интеллектуальной собственности  ...    1  0.333333\n",
              "\n",
              "[3 rows x 8 columns]"
            ]
          },
          "metadata": {
            "tags": []
          },
          "execution_count": 38
        }
      ]
    },
    {
      "cell_type": "markdown",
      "metadata": {
        "id": "DLmTyzA_1wqZ"
      },
      "source": [
        "# checking"
      ]
    },
    {
      "cell_type": "code",
      "metadata": {
        "id": "ugR4qMgIzH3P"
      },
      "source": [
        "import warnings\n",
        "warnings.filterwarnings('ignore')"
      ],
      "execution_count": null,
      "outputs": []
    },
    {
      "cell_type": "code",
      "metadata": {
        "colab": {
          "base_uri": "https://localhost:8080/"
        },
        "id": "oTkqxwWMRagP",
        "outputId": "16745701-723d-4f76-ee7f-c6197db3434e"
      },
      "source": [
        "wp_outcomes.workprogram_id.unique().shape"
      ],
      "execution_count": null,
      "outputs": [
        {
          "output_type": "execute_result",
          "data": {
            "text/plain": [
              "(3848,)"
            ]
          },
          "metadata": {
            "tags": []
          },
          "execution_count": 67
        }
      ]
    },
    {
      "cell_type": "code",
      "metadata": {
        "colab": {
          "base_uri": "https://localhost:8080/"
        },
        "id": "ULqmA3U3M4nJ",
        "outputId": "13017a95-8bc2-46a8-d31f-a58642148b74"
      },
      "source": [
        "wp_prereq.workprogram_id.unique().shape"
      ],
      "execution_count": null,
      "outputs": [
        {
          "output_type": "execute_result",
          "data": {
            "text/plain": [
              "(294,)"
            ]
          },
          "metadata": {
            "tags": []
          },
          "execution_count": 68
        }
      ]
    },
    {
      "cell_type": "code",
      "metadata": {
        "colab": {
          "base_uri": "https://localhost:8080/"
        },
        "id": "nXM-r-eP17If",
        "outputId": "1bef8791-0663-4855-ddd0-425379e630eb"
      },
      "source": [
        "%%timeit\n",
        "set(a).intersection(set(b))"
      ],
      "execution_count": null,
      "outputs": [
        {
          "output_type": "stream",
          "text": [
            "The slowest run took 8.33 times longer than the fastest. This could mean that an intermediate result is being cached.\n",
            "100000 loops, best of 5: 7.24 µs per loop\n"
          ],
          "name": "stdout"
        }
      ]
    },
    {
      "cell_type": "code",
      "metadata": {
        "colab": {
          "base_uri": "https://localhost:8080/"
        },
        "id": "xqiHAd483OFP",
        "outputId": "9e1bac59-5eec-439d-8cad-8c82be2c9071"
      },
      "source": [
        "%%timeit\n",
        "np.intersect1d(a,b)"
      ],
      "execution_count": null,
      "outputs": [
        {
          "output_type": "stream",
          "text": [
            "The slowest run took 23.41 times longer than the fastest. This could mean that an intermediate result is being cached.\n",
            "10000 loops, best of 5: 40.1 µs per loop\n"
          ],
          "name": "stdout"
        }
      ]
    },
    {
      "cell_type": "code",
      "metadata": {
        "id": "ntI53Lpn53o7"
      },
      "source": [
        "def evalPrereq(to_return = 10, prereq_func = earlierWpResDomain):\n",
        "  all = wp_prereq.workprogram_id.unique().shape[0]\n",
        "  all_hits = np.array([])\n",
        "\n",
        "  for i in wp_prereq.workprogram_id.unique():\n",
        "    #orig_data = wp_prereq[wp_prereq.workprogram_id==i].item_id\n",
        "    #our_pred = prereq_func(i,to_return).id\n",
        "\n",
        "    orig_data_id = wp_prereq[wp_prereq.workprogram_id==i].item_id\n",
        "    orig_data = dp_items[dp_items.id.isin(orig_data_id)].name\n",
        "    our_pred = prereq_func(i,to_return).name\n",
        "\n",
        "    res = set(orig_data).intersection(set(our_pred))\n",
        "    all_hits = np.append(all_hits, np.array(len(res)/orig_data.shape[0]))\n",
        "\n",
        "\n",
        "  return all_hits.mean()"
      ],
      "execution_count": null,
      "outputs": []
    },
    {
      "cell_type": "code",
      "metadata": {
        "colab": {
          "base_uri": "https://localhost:8080/"
        },
        "id": "pJyeXWmvW3py",
        "outputId": "ee654141-2f30-416d-e947-75bd1d50abae"
      },
      "source": [
        "#for name\n",
        "nums = range(5,16)\n",
        "results = []\n",
        "for i in nums:\n",
        "  a = evalPrereq(i)\n",
        "  results.append(a)\n",
        "  print(a)\n",
        "results"
      ],
      "execution_count": null,
      "outputs": [
        {
          "output_type": "stream",
          "text": [
            "0.12505938883489903\n",
            "0.1261931756829716\n",
            "0.12676006910700788\n",
            "0.1297969981643451\n",
            "0.13801695281287119\n",
            "0.14085141993305259\n",
            "0.15031854011445847\n",
            "0.1577205485368751\n",
            "0.16594050318540116\n",
            "0.16962531044163698\n",
            "0.17245977756181838\n"
          ],
          "name": "stdout"
        },
        {
          "output_type": "execute_result",
          "data": {
            "text/plain": [
              "[0.12505938883489903,\n",
              " 0.1261931756829716,\n",
              " 0.12676006910700788,\n",
              " 0.1297969981643451,\n",
              " 0.13801695281287119,\n",
              " 0.14085141993305259,\n",
              " 0.15031854011445847,\n",
              " 0.1577205485368751,\n",
              " 0.16594050318540116,\n",
              " 0.16962531044163698,\n",
              " 0.17245977756181838]"
            ]
          },
          "metadata": {
            "tags": []
          },
          "execution_count": 54
        }
      ]
    },
    {
      "cell_type": "code",
      "metadata": {
        "colab": {
          "base_uri": "https://localhost:8080/"
        },
        "id": "0eOsMrsn7jm5",
        "outputId": "cfcae776-eed2-47fe-cb18-4669c4f9d57d"
      },
      "source": [
        "nums = range(5,11)\n",
        "results = []\n",
        "for i in nums:\n",
        "  a = evalPrereq(i)\n",
        "  results.append(a)\n",
        "  print(a)\n",
        "results"
      ],
      "execution_count": null,
      "outputs": [
        {
          "output_type": "stream",
          "text": [
            "0.12041086275780154\n",
            "0.12154464960587408\n",
            "0.12211154302991035\n",
            "0.12514847208724758\n",
            "0.13336842673577365\n",
            "0.13620289385595508\n"
          ],
          "name": "stdout"
        },
        {
          "output_type": "execute_result",
          "data": {
            "text/plain": [
              "[0.12041086275780154,\n",
              " 0.12154464960587408,\n",
              " 0.12211154302991035,\n",
              " 0.12514847208724758,\n",
              " 0.13336842673577365,\n",
              " 0.13620289385595508]"
            ]
          },
          "metadata": {
            "tags": []
          },
          "execution_count": 50
        }
      ]
    },
    {
      "cell_type": "code",
      "metadata": {
        "id": "FD-r2Xhm1ejm"
      },
      "source": [
        "nums = range(11,21)\n",
        "results = []\n",
        "for i in nums:\n",
        "  a = evalPrereq(i)\n",
        "  results.append(a)\n",
        "  print(a)\n",
        "results"
      ],
      "execution_count": null,
      "outputs": []
    },
    {
      "cell_type": "code",
      "metadata": {
        "colab": {
          "base_uri": "https://localhost:8080/"
        },
        "id": "wamm9nt4PXc0",
        "outputId": "763d2e80-982a-42cb-fdf5-8c4804c03c58"
      },
      "source": [
        "results = [0.12041086275780154,0.12154464960587408,0.12211154302991035,\n",
        "  0.12514847208724758,0.13336842673577365,0.13620289385595508,\n",
        "  0.14567001403736096,0.15307202245977755,0.16129197710830365,\n",
        "  0.16497678436453944,0.16781125148472087,0.1703055825504805,\n",
        "  0.1759745167908433,0.18099557283230752]\n",
        "len(results)"
      ],
      "execution_count": null,
      "outputs": [
        {
          "output_type": "execute_result",
          "data": {
            "text/plain": [
              "14"
            ]
          },
          "metadata": {
            "tags": []
          },
          "execution_count": 65
        }
      ]
    },
    {
      "cell_type": "code",
      "metadata": {
        "colab": {
          "base_uri": "https://localhost:8080/",
          "height": 507
        },
        "id": "XpZqRjQx1enC",
        "outputId": "07f3698c-7900-487e-f65b-f49c1ee0dc2c"
      },
      "source": [
        "sns.set(rc={'figure.figsize':(10,8)})\n",
        "sns.lineplot(x = range(5,16), y = results[:11], marker='o')"
      ],
      "execution_count": null,
      "outputs": [
        {
          "output_type": "execute_result",
          "data": {
            "text/plain": [
              "<matplotlib.axes._subplots.AxesSubplot at 0x7f42a1837910>"
            ]
          },
          "metadata": {
            "tags": []
          },
          "execution_count": 67
        },
        {
          "output_type": "display_data",
          "data": {
            "image/png": "[encoded data removed]",
            "text/plain": [
              "<Figure size 720x576 with 1 Axes>"
            ]
          },
          "metadata": {
            "tags": []
          }
        }
      ]
    },
    {
      "cell_type": "code",
      "metadata": {
        "colab": {
          "base_uri": "https://localhost:8080/"
        },
        "id": "F7nG_q-GP_Js",
        "outputId": "2f35a96e-baf7-4622-c3d2-fd17438a637d"
      },
      "source": [
        "nums = range(5,21)\n",
        "results = []\n",
        "for i in nums:\n",
        "  a = evalPrereq(i, earlierWpRes)\n",
        "  results.append(a)\n",
        "  print(a)\n",
        "results"
      ],
      "execution_count": null,
      "outputs": [
        {
          "output_type": "stream",
          "text": [
            "0.03767006802721088\n",
            "0.038236961451247165\n",
            "0.03993764172335601\n",
            "0.03993764172335601\n",
            "0.042205215419501126\n",
            "0.04486961451247166\n",
            "0.04486961451247166\n",
            "0.045436507936507935\n",
            "0.045436507936507935\n",
            "0.045436507936507935\n",
            "0.04628684807256236\n",
            "0.04628684807256236\n",
            "0.04628684807256236\n",
            "0.04628684807256236\n",
            "0.04628684807256236\n",
            "0.04968820861678004\n"
          ],
          "name": "stdout"
        },
        {
          "output_type": "execute_result",
          "data": {
            "text/plain": [
              "[0.03767006802721088,\n",
              " 0.038236961451247165,\n",
              " 0.03993764172335601,\n",
              " 0.03993764172335601,\n",
              " 0.042205215419501126,\n",
              " 0.04486961451247166,\n",
              " 0.04486961451247166,\n",
              " 0.045436507936507935,\n",
              " 0.045436507936507935,\n",
              " 0.045436507936507935,\n",
              " 0.04628684807256236,\n",
              " 0.04628684807256236,\n",
              " 0.04628684807256236,\n",
              " 0.04628684807256236,\n",
              " 0.04628684807256236,\n",
              " 0.04968820861678004]"
            ]
          },
          "metadata": {
            "tags": []
          },
          "execution_count": 62
        }
      ]
    },
    {
      "cell_type": "code",
      "metadata": {
        "id": "tKgQvyQuP_N7"
      },
      "source": [],
      "execution_count": null,
      "outputs": []
    },
    {
      "cell_type": "code",
      "metadata": {
        "colab": {
          "base_uri": "https://localhost:8080/"
        },
        "id": "N_kZNjKFeeo0",
        "outputId": "b636045d-3db1-47bf-cfb4-5b2581a61405"
      },
      "source": [
        "results = [0.03767006802721088,\n",
        " 0.038236961451247165,\n",
        " 0.03993764172335601,\n",
        " 0.03993764172335601,\n",
        " 0.042205215419501126,\n",
        " 0.04486961451247166,\n",
        " 0.04486961451247166,\n",
        " 0.045436507936507935,\n",
        " 0.045436507936507935,\n",
        " 0.045436507936507935,\n",
        " 0.04628684807256236,\n",
        " 0.04628684807256236,\n",
        " 0.04628684807256236,\n",
        " 0.04628684807256236,\n",
        " 0.04628684807256236,\n",
        " 0.04968820861678004]\n",
        "len(results)"
      ],
      "execution_count": null,
      "outputs": [
        {
          "output_type": "execute_result",
          "data": {
            "text/plain": [
              "16"
            ]
          },
          "metadata": {
            "tags": []
          },
          "execution_count": 68
        }
      ]
    },
    {
      "cell_type": "code",
      "metadata": {
        "colab": {
          "base_uri": "https://localhost:8080/",
          "height": 504
        },
        "id": "_5jMNp0Ueeo5",
        "outputId": "cbafaec3-8d70-4967-fe25-fa6cef6bc200"
      },
      "source": [
        "sns.set(rc={'figure.figsize':(10,8)})\n",
        "sns.lineplot(x = range(5,16), y = results[:11], marker='o')"
      ],
      "execution_count": null,
      "outputs": [
        {
          "output_type": "execute_result",
          "data": {
            "text/plain": [
              "<matplotlib.axes._subplots.AxesSubplot at 0x7f42a184c610>"
            ]
          },
          "metadata": {
            "tags": []
          },
          "execution_count": 69
        },
        {
          "output_type": "display_data",
          "data": {
            "image/png": "[encoded data removed]",
            "text/plain": [
              "<Figure size 720x576 with 1 Axes>"
            ]
          },
          "metadata": {
            "tags": []
          }
        }
      ]
    },
    {
      "cell_type": "code",
      "metadata": {
        "id": "U3iJWwsaRs1x"
      },
      "source": [],
      "execution_count": null,
      "outputs": []
    },
    {
      "cell_type": "markdown",
      "metadata": {
        "id": "21jK0ONVTVJt"
      },
      "source": [
        "т.к. не везде заполнены темы"
      ]
    },
    {
      "cell_type": "code",
      "metadata": {
        "colab": {
          "base_uri": "https://localhost:8080/"
        },
        "id": "JnEHIE88Smtx",
        "outputId": "4fb5b0e7-a5a7-4afc-8ae8-722d05377533"
      },
      "source": [
        "wp_outcomes[wp_outcomes.workprogram_id.isin(wp_disc_s.work_program_id.unique())].workprogram_id.unique().shape"
      ],
      "execution_count": null,
      "outputs": [
        {
          "output_type": "execute_result",
          "data": {
            "text/plain": [
              "(392,)"
            ]
          },
          "metadata": {
            "tags": []
          },
          "execution_count": 101
        }
      ]
    },
    {
      "cell_type": "code",
      "metadata": {
        "id": "aK3jOMc7SHbb"
      },
      "source": [
        "short_outcomes = wp_outcomes[wp_outcomes.workprogram_id.isin(wp_disc_s.work_program_id.unique())]"
      ],
      "execution_count": null,
      "outputs": []
    },
    {
      "cell_type": "code",
      "metadata": {
        "id": "39ZPiiShfDw7"
      },
      "source": [
        "def evalResUSE(to_return = 10):\n",
        "  all = short_outcomes.workprogram_id.unique()\n",
        "  all_hits = np.array([])\n",
        "\n",
        "  for i in all:\n",
        "    orig_data = short_outcomes[short_outcomes.workprogram_id==i].item_id\n",
        "    our_pred = itemDiscSim(i,vecFuncUSE,items_vecs, to_return=to_return).id\n",
        "\n",
        "    res = set(orig_data).intersection(set(our_pred))\n",
        "    all_hits = np.append(all_hits, np.array(len(res)/orig_data.shape[0]))\n",
        "\n",
        "  return all_hits.mean()\n",
        "  "
      ],
      "execution_count": null,
      "outputs": []
    },
    {
      "cell_type": "code",
      "metadata": {
        "colab": {
          "base_uri": "https://localhost:8080/"
        },
        "id": "njK1zR6OfDyp",
        "outputId": "2fc3c11c-c4fc-409d-8de2-91ac544130cf"
      },
      "source": [
        "nums = range(5,11)\n",
        "results = []\n",
        "for i in nums:\n",
        "  a = evalResUSE(i)\n",
        "  results.append(a)\n",
        "  print(a)\n",
        "results"
      ],
      "execution_count": null,
      "outputs": [
        {
          "output_type": "stream",
          "text": [
            "0.16693985085455804\n",
            "0.18447026775969771\n",
            "0.19013128757888073\n",
            "0.21174506566587312\n",
            "0.21841554229808446\n",
            "0.22796277298689677\n"
          ],
          "name": "stdout"
        },
        {
          "output_type": "execute_result",
          "data": {
            "text/plain": [
              "[0.16693985085455804,\n",
              " 0.18447026775969771,\n",
              " 0.19013128757888073,\n",
              " 0.21174506566587312,\n",
              " 0.21841554229808446,\n",
              " 0.22796277298689677]"
            ]
          },
          "metadata": {
            "tags": []
          },
          "execution_count": 87
        }
      ]
    },
    {
      "cell_type": "code",
      "metadata": {
        "colab": {
          "base_uri": "https://localhost:8080/"
        },
        "id": "5j3VAXC4fD1G",
        "outputId": "17d9e73a-43cd-48d8-96b6-ed49f955e9fb"
      },
      "source": [
        "nums = range(11,16)\n",
        "results = []\n",
        "for i in nums:\n",
        "  a = evalResUSE(i)\n",
        "  results.append(a)\n",
        "  print(a)\n",
        "results"
      ],
      "execution_count": null,
      "outputs": [
        {
          "output_type": "stream",
          "text": [
            "0.23235300435416895\n",
            "0.23689508217430802\n",
            "0.24545314825788428\n",
            "0.24989212623002552\n",
            "0.25497410490894296\n"
          ],
          "name": "stdout"
        },
        {
          "output_type": "execute_result",
          "data": {
            "text/plain": [
              "[0.23235300435416895,\n",
              " 0.23689508217430802,\n",
              " 0.24545314825788428,\n",
              " 0.24989212623002552,\n",
              " 0.25497410490894296]"
            ]
          },
          "metadata": {
            "tags": []
          },
          "execution_count": 88
        }
      ]
    },
    {
      "cell_type": "code",
      "metadata": {
        "id": "gx0dh10efD2z"
      },
      "source": [],
      "execution_count": null,
      "outputs": []
    },
    {
      "cell_type": "code",
      "metadata": {
        "colab": {
          "base_uri": "https://localhost:8080/"
        },
        "id": "ISlxqmPmiNlU",
        "outputId": "72393ac4-affe-4445-99b9-fb3664334e49"
      },
      "source": [
        "results = [0.16693985085455804,\n",
        " 0.18447026775969771,\n",
        " 0.19013128757888073,\n",
        " 0.21174506566587312,\n",
        " 0.21841554229808446,\n",
        " 0.22796277298689677,0.23235300435416895,\n",
        " 0.23689508217430802,\n",
        " 0.24545314825788428,\n",
        " 0.24989212623002552,\n",
        " 0.25497410490894296]\n",
        "len(results)"
      ],
      "execution_count": null,
      "outputs": [
        {
          "output_type": "execute_result",
          "data": {
            "text/plain": [
              "11"
            ]
          },
          "metadata": {
            "tags": []
          },
          "execution_count": 89
        }
      ]
    },
    {
      "cell_type": "code",
      "metadata": {
        "colab": {
          "base_uri": "https://localhost:8080/",
          "height": 504
        },
        "id": "E15TQ4IkiNlW",
        "outputId": "dda4bf0a-d87e-4290-9695-8aa84a51d2c9"
      },
      "source": [
        "sns.set(rc={'figure.figsize':(10,8)})\n",
        "sns.lineplot(x = range(5,16), y = results[:11], marker='o')"
      ],
      "execution_count": null,
      "outputs": [
        {
          "output_type": "execute_result",
          "data": {
            "text/plain": [
              "<matplotlib.axes._subplots.AxesSubplot at 0x7f42567571d0>"
            ]
          },
          "metadata": {
            "tags": []
          },
          "execution_count": 90
        },
        {
          "output_type": "display_data",
          "data": {
            "image/png": "[encoded data removed]",
            "text/plain": [
              "<Figure size 720x576 with 1 Axes>"
            ]
          },
          "metadata": {
            "tags": []
          }
        }
      ]
    },
    {
      "cell_type": "code",
      "metadata": {
        "id": "uiv_zQT3fD6j"
      },
      "source": [],
      "execution_count": null,
      "outputs": []
    },
    {
      "cell_type": "code",
      "metadata": {
        "id": "S00N-ftFfD9C"
      },
      "source": [],
      "execution_count": null,
      "outputs": []
    },
    {
      "cell_type": "code",
      "metadata": {
        "id": "5o7U9K5kNtaA"
      },
      "source": [
        "def vecFuncUSE(headers):\n",
        "  return embed(headers)"
      ],
      "execution_count": null,
      "outputs": []
    },
    {
      "cell_type": "code",
      "metadata": {
        "id": "55l_rM1PLzc5"
      },
      "source": [
        "wp_topic_prepro.iloc[3535,-1]='not to do'"
      ],
      "execution_count": null,
      "outputs": []
    },
    {
      "cell_type": "code",
      "metadata": {
        "colab": {
          "base_uri": "https://localhost:8080/"
        },
        "id": "tmXoujteLb30",
        "outputId": "9dc7f3d3-922e-4fa3-b4ab-5c5a7bbd9e5b"
      },
      "source": [
        "wp_topic_prepro.iloc[3535]"
      ],
      "execution_count": null,
      "outputs": [
        {
          "output_type": "execute_result",
          "data": {
            "text/plain": [
              "Unnamed: 0                    3535\n",
              "id                            4449\n",
              "number                           5\n",
              "description              Not to do\n",
              "discipline_section_id         1544\n",
              "url_online_course_id           NaN\n",
              "prepro                   not to do\n",
              "Name: 3535, dtype: object"
            ]
          },
          "metadata": {
            "tags": []
          },
          "execution_count": 106
        }
      ]
    },
    {
      "cell_type": "code",
      "metadata": {
        "id": "ficnwJL-ilJ-"
      },
      "source": [
        "def evalRes1(to_return = 10):\n",
        "  all = short_outcomes.workprogram_id.unique()\n",
        "  all_hits = np.array([])\n",
        "\n",
        "  for i in all:\n",
        "    if i != 13299:\n",
        "      orig_data = short_outcomes[short_outcomes.workprogram_id==i].item_id\n",
        "     \n",
        "      our_pred = itemDiscMatches(discipline_id = i, to_return=to_return).id\n",
        "\n",
        "      res = set(orig_data).intersection(set(our_pred))\n",
        "      all_hits = np.append(all_hits, np.array(len(res)/orig_data.shape[0]))\n",
        "\n",
        "  return all_hits.mean()\n"
      ],
      "execution_count": null,
      "outputs": []
    },
    {
      "cell_type": "code",
      "metadata": {
        "id": "3VqUZpYhilJ_",
        "colab": {
          "base_uri": "https://localhost:8080/"
        },
        "outputId": "07c492b5-7ab8-45ce-8de7-f0b503a84b31"
      },
      "source": [
        "nums = range(5,16)\n",
        "results = []\n",
        "for i in nums:\n",
        "  a = evalRes1(i)\n",
        "  results.append(a)\n",
        "  print(a)\n",
        "results"
      ],
      "execution_count": null,
      "outputs": [
        {
          "output_type": "stream",
          "text": [
            "0.07908526879671102\n",
            "0.09144118156822484\n",
            "0.10217175179367996\n",
            "0.10994057078372658\n",
            "0.1244617877026417\n",
            "0.13324485956116114\n",
            "0.14778526729210595\n",
            "0.160698543984155\n",
            "0.17047831256799345\n",
            "0.18082623990413382\n",
            "0.19312330629327182\n"
          ],
          "name": "stdout"
        },
        {
          "output_type": "execute_result",
          "data": {
            "text/plain": [
              "[0.07908526879671102,\n",
              " 0.09144118156822484,\n",
              " 0.10217175179367996,\n",
              " 0.10994057078372658,\n",
              " 0.1244617877026417,\n",
              " 0.13324485956116114,\n",
              " 0.14778526729210595,\n",
              " 0.160698543984155,\n",
              " 0.17047831256799345,\n",
              " 0.18082623990413382,\n",
              " 0.19312330629327182]"
            ]
          },
          "metadata": {
            "tags": []
          },
          "execution_count": 110
        }
      ]
    },
    {
      "cell_type": "code",
      "metadata": {
        "colab": {
          "base_uri": "https://localhost:8080/",
          "height": 504
        },
        "id": "MmBArHgfpimm",
        "outputId": "a6766032-71fb-41ae-e384-6c27faa4e2af"
      },
      "source": [
        "sns.set(rc={'figure.figsize':(10,8)})\n",
        "sns.lineplot(x = nums, y = results, marker='o')"
      ],
      "execution_count": null,
      "outputs": [
        {
          "output_type": "execute_result",
          "data": {
            "text/plain": [
              "<matplotlib.axes._subplots.AxesSubplot at 0x7f4246ae2c90>"
            ]
          },
          "metadata": {
            "tags": []
          },
          "execution_count": 135
        },
        {
          "output_type": "display_data",
          "data": {
            "image/png": "[encoded data removed]",
            "text/plain": [
              "<Figure size 720x576 with 1 Axes>"
            ]
          },
          "metadata": {
            "tags": []
          }
        }
      ]
    },
    {
      "cell_type": "code",
      "metadata": {
        "id": "HY0cdOudpipn"
      },
      "source": [],
      "execution_count": null,
      "outputs": []
    },
    {
      "cell_type": "code",
      "metadata": {
        "id": "QMy548tQOIBF"
      },
      "source": [],
      "execution_count": null,
      "outputs": []
    },
    {
      "cell_type": "code",
      "metadata": {
        "id": "xgkKL98XOXRI"
      },
      "source": [
        "def vecFuncSBert(headers):\n",
        "  return model_sbert.encode(headers, convert_to_tensor=True)\n"
      ],
      "execution_count": null,
      "outputs": []
    },
    {
      "cell_type": "code",
      "metadata": {
        "id": "mFzm-TvLOXRL"
      },
      "source": [
        "item_vecs_sb = model_sbert.encode(dp_items['name'].values, convert_to_tensor=True)"
      ],
      "execution_count": null,
      "outputs": []
    },
    {
      "cell_type": "code",
      "metadata": {
        "id": "CY8wEVcYOIO3"
      },
      "source": [
        "def evalResSB(to_return = 10):\n",
        "  all = short_outcomes.workprogram_id.unique()\n",
        "  hits = 0\n",
        "\n",
        "  for i in all:\n",
        "    orig_data = short_outcomes[short_outcomes.workprogram_id==i].item_id\n",
        "    our_pred = itemDiscSim(i,vecFuncSBert,item_vecs_sb, to_return=to_return).id\n",
        "\n",
        "    if set(orig_data).intersection(set(our_pred)):\n",
        "      hits += 1\n",
        "\n",
        "  return hits/all.shape[0]"
      ],
      "execution_count": null,
      "outputs": []
    },
    {
      "cell_type": "code",
      "metadata": {
        "colab": {
          "base_uri": "https://localhost:8080/"
        },
        "id": "TgY3an8MsSBw",
        "outputId": "f9e8fd83-4464-44f9-efb5-d9b7afb30c5d"
      },
      "source": [
        "wp_prereq.workprogram_id.unique()"
      ],
      "execution_count": null,
      "outputs": [
        {
          "output_type": "execute_result",
          "data": {
            "text/plain": [
              "array([ 2811,  6986,    67,     5, 12186,  6990,  6991,  6992,  4861,\n",
              "        3858,  4931,  4171,  2728,  2865,  6994,  2986,  6995,  3148,\n",
              "        2777,  3410, 12799,  5982,  4911, 14522,  2639,  5983,  6993,\n",
              "        3388,  6997, 12838,  6449,  3842,  7050, 11289, 11290,  3433,\n",
              "        4714, 12525,  4713, 13707,  7898,  8156,  6194, 10907, 12801,\n",
              "        6441, 12811, 12891,  7464, 12812,  6442,  6443,  6626, 13966,\n",
              "        6634, 13972, 12270,  7496,  3205,  2746, 12813, 13977, 12894,\n",
              "        2747,  4173,  3063,  6149,  5020, 12814,  5027,  3197, 12524,\n",
              "       12436,  7273,  3840, 14525, 11272, 11554,  3115,  5146, 11273,\n",
              "       11275, 11276,  5224, 11277, 11278, 11279, 12805,  4947,  4707,\n",
              "        4706, 14527,  2641, 14528, 14026, 14027, 14031, 11472, 13300,\n",
              "       13352,  3351, 14041,  3352, 12440,  3118, 14054, 12933, 12533,\n",
              "       14064, 13832, 13372,  6635,  3465, 12534, 11394,  6632,  6633,\n",
              "        6643,  6644,  6645, 13375,  4888, 13701,  3831, 13638, 12515,\n",
              "       13127,  3442, 14510,  4906, 12535,  4905,  8824, 10513,  6510,\n",
              "        3110,  2640, 13287, 13632, 12221, 12517, 11470, 12518, 12519,\n",
              "       12520, 12223,  3839, 14325, 12521, 12522, 12849, 11064, 12536,\n",
              "        3856,  4555,  8064, 12800, 14396,  6199, 14408, 11523, 14415,\n",
              "        3460, 11555, 14523, 12844,  4884, 13124,  6210, 12804, 14471,\n",
              "       12937, 12851, 12852, 12853, 12854, 14002, 11406,  4907, 14499,\n",
              "       11558, 14007, 13698, 12523, 11282, 12750, 12751, 12863, 12864,\n",
              "       12865, 11285, 13978, 13897, 11286, 12938, 13590, 13888, 13289,\n",
              "       11471, 11635, 12079, 12866, 13893, 12867, 12868, 12752,  4262,\n",
              "        5125,  5129,  8356,  5131,  7593,  5140,  6152, 12423,  8057,\n",
              "       14515, 12526,  6532, 13121,  4671, 12870, 12871,  5088, 11863,\n",
              "       11648, 14526,  5048,  3434,  5154, 10492, 11638, 14518, 14520,\n",
              "       11812,  3131, 12495, 13154,  4715, 14530,  9657,  2662, 13288,\n",
              "       12222, 13699,  3463, 13642,  4703, 12845, 13290, 14533, 14534,\n",
              "       14532, 12839, 11811, 12494, 12496, 12491, 11782,  4904, 12607,\n",
              "       11283, 12463,  3439, 12438, 12464,  7808,  2635, 10243, 12453,\n",
              "       14536, 13118, 12081, 12730, 13710, 11473, 11484, 13353, 11061,\n",
              "        5980, 11033,  5998, 13799,  4908, 13887,  6202,  6185,  3849,\n",
              "       13157, 13855,  5786,  6638, 13129, 14538])"
            ]
          },
          "metadata": {
            "tags": []
          },
          "execution_count": 146
        }
      ]
    },
    {
      "cell_type": "code",
      "metadata": {
        "colab": {
          "base_uri": "https://localhost:8080/",
          "height": 143
        },
        "id": "s7i1y7gnrCi8",
        "outputId": "8940addd-f620-46e2-df3c-49912eae870c"
      },
      "source": [
        "dp_items[dp_items.id.isin(wp_prereq[wp_prereq.workprogram_id == 12186].item_id)]"
      ],
      "execution_count": null,
      "outputs": [
        {
          "output_type": "execute_result",
          "data": {
            "text/html": [
              "<div>\n",
              "<style scoped>\n",
              "    .dataframe tbody tr th:only-of-type {\n",
              "        vertical-align: middle;\n",
              "    }\n",
              "\n",
              "    .dataframe tbody tr th {\n",
              "        vertical-align: top;\n",
              "    }\n",
              "\n",
              "    .dataframe thead th {\n",
              "        text-align: right;\n",
              "    }\n",
              "</style>\n",
              "<table border=\"1\" class=\"dataframe\">\n",
              "  <thead>\n",
              "    <tr style=\"text-align: right;\">\n",
              "      <th></th>\n",
              "      <th>id</th>\n",
              "      <th>name</th>\n",
              "      <th>value</th>\n",
              "      <th>source</th>\n",
              "      <th>author_id</th>\n",
              "      <th>domain_id</th>\n",
              "    </tr>\n",
              "  </thead>\n",
              "  <tbody>\n",
              "    <tr>\n",
              "      <th>7778</th>\n",
              "      <td>8364</td>\n",
              "      <td>Распоряжение правами на интеллектуальную собст...</td>\n",
              "      <td>19</td>\n",
              "      <td>uploaded</td>\n",
              "      <td>1.0</td>\n",
              "      <td>27.0</td>\n",
              "    </tr>\n",
              "    <tr>\n",
              "      <th>7781</th>\n",
              "      <td>8355</td>\n",
              "      <td>Охрана интеллектуальной собственности авторски...</td>\n",
              "      <td>22</td>\n",
              "      <td>uploaded</td>\n",
              "      <td>1.0</td>\n",
              "      <td>27.0</td>\n",
              "    </tr>\n",
              "    <tr>\n",
              "      <th>17920</th>\n",
              "      <td>8354</td>\n",
              "      <td>Правовые основы интеллектуальной собственности</td>\n",
              "      <td>20</td>\n",
              "      <td>uploaded</td>\n",
              "      <td>1.0</td>\n",
              "      <td>27.0</td>\n",
              "    </tr>\n",
              "  </tbody>\n",
              "</table>\n",
              "</div>"
            ],
            "text/plain": [
              "         id  ... domain_id\n",
              "7778   8364  ...      27.0\n",
              "7781   8355  ...      27.0\n",
              "17920  8354  ...      27.0\n",
              "\n",
              "[3 rows x 6 columns]"
            ]
          },
          "metadata": {
            "tags": []
          },
          "execution_count": 151
        }
      ]
    },
    {
      "cell_type": "code",
      "metadata": {
        "colab": {
          "base_uri": "https://localhost:8080/",
          "height": 237
        },
        "id": "yPUfteKMqsTD",
        "outputId": "71438856-374d-43a4-8d3c-b88918f95315"
      },
      "source": [
        "dp_items[dp_items.id.isin(wp_outcomes[wp_outcomes.workprogram_id == 12223].item_id)]"
      ],
      "execution_count": null,
      "outputs": [
        {
          "output_type": "execute_result",
          "data": {
            "text/html": [
              "<div>\n",
              "<style scoped>\n",
              "    .dataframe tbody tr th:only-of-type {\n",
              "        vertical-align: middle;\n",
              "    }\n",
              "\n",
              "    .dataframe tbody tr th {\n",
              "        vertical-align: top;\n",
              "    }\n",
              "\n",
              "    .dataframe thead th {\n",
              "        text-align: right;\n",
              "    }\n",
              "</style>\n",
              "<table border=\"1\" class=\"dataframe\">\n",
              "  <thead>\n",
              "    <tr style=\"text-align: right;\">\n",
              "      <th></th>\n",
              "      <th>id</th>\n",
              "      <th>name</th>\n",
              "      <th>value</th>\n",
              "      <th>source</th>\n",
              "      <th>author_id</th>\n",
              "      <th>domain_id</th>\n",
              "    </tr>\n",
              "  </thead>\n",
              "  <tbody>\n",
              "    <tr>\n",
              "      <th>17814</th>\n",
              "      <td>18491</td>\n",
              "      <td>Разработка игрового нарратива</td>\n",
              "      <td>1</td>\n",
              "      <td>NaN</td>\n",
              "      <td>NaN</td>\n",
              "      <td>62.0</td>\n",
              "    </tr>\n",
              "    <tr>\n",
              "      <th>17815</th>\n",
              "      <td>18493</td>\n",
              "      <td>Разработка персонажа игры</td>\n",
              "      <td>1</td>\n",
              "      <td>NaN</td>\n",
              "      <td>NaN</td>\n",
              "      <td>62.0</td>\n",
              "    </tr>\n",
              "    <tr>\n",
              "      <th>17816</th>\n",
              "      <td>18495</td>\n",
              "      <td>Использования игровых механик как средств выра...</td>\n",
              "      <td>1</td>\n",
              "      <td>NaN</td>\n",
              "      <td>NaN</td>\n",
              "      <td>62.0</td>\n",
              "    </tr>\n",
              "    <tr>\n",
              "      <th>17817</th>\n",
              "      <td>18492</td>\n",
              "      <td>Структурный подход к нарративу</td>\n",
              "      <td>1</td>\n",
              "      <td>NaN</td>\n",
              "      <td>NaN</td>\n",
              "      <td>62.0</td>\n",
              "    </tr>\n",
              "    <tr>\n",
              "      <th>17818</th>\n",
              "      <td>18496</td>\n",
              "      <td>Конструирование опыта игрока через взаимодейст...</td>\n",
              "      <td>1</td>\n",
              "      <td>NaN</td>\n",
              "      <td>NaN</td>\n",
              "      <td>62.0</td>\n",
              "    </tr>\n",
              "    <tr>\n",
              "      <th>17819</th>\n",
              "      <td>18494</td>\n",
              "      <td>Создание интерактивных элементов игрового пове...</td>\n",
              "      <td>1</td>\n",
              "      <td>NaN</td>\n",
              "      <td>NaN</td>\n",
              "      <td>62.0</td>\n",
              "    </tr>\n",
              "  </tbody>\n",
              "</table>\n",
              "</div>"
            ],
            "text/plain": [
              "          id  ... domain_id\n",
              "17814  18491  ...      62.0\n",
              "17815  18493  ...      62.0\n",
              "17816  18495  ...      62.0\n",
              "17817  18492  ...      62.0\n",
              "17818  18496  ...      62.0\n",
              "17819  18494  ...      62.0\n",
              "\n",
              "[6 rows x 6 columns]"
            ]
          },
          "metadata": {
            "tags": []
          },
          "execution_count": 142
        }
      ]
    },
    {
      "cell_type": "markdown",
      "metadata": {
        "id": "PVldiHWZZi7E"
      },
      "source": [
        "# Оценка рез-в работы. Два графика в одном"
      ]
    },
    {
      "cell_type": "code",
      "metadata": {
        "id": "1WfXewXQbXNp"
      },
      "source": [
        "resultsbest = [0.16693985085455804,\n",
        " 0.18447026775969771,\n",
        " 0.19013128757888073,\n",
        " 0.21174506566587312,\n",
        " 0.21841554229808446,\n",
        " 0.22796277298689677,0.23235300435416895,\n",
        " 0.23689508217430802,\n",
        " 0.24545314825788428,\n",
        " 0.24989212623002552,\n",
        " 0.25497410490894296]\n",
        "resultsbase = [0.07908526879671102,\n",
        " 0.09144118156822484,\n",
        " 0.10217175179367996,\n",
        " 0.10994057078372658,\n",
        " 0.1244617877026417,\n",
        " 0.13324485956116114,\n",
        " 0.14778526729210595,\n",
        " 0.160698543984155,\n",
        " 0.17047831256799345,\n",
        " 0.18082623990413382,\n",
        " 0.19312330629327182]"
      ],
      "execution_count": null,
      "outputs": []
    },
    {
      "cell_type": "code",
      "metadata": {
        "colab": {
          "base_uri": "https://localhost:8080/",
          "height": 556
        },
        "id": "in6amkVDZrEI",
        "outputId": "5e402888-b8a1-41be-ba44-33329a6fc20e"
      },
      "source": [
        "\n",
        "\n",
        "sns.set(rc={'figure.figsize':(10,8)})\n",
        "\n",
        "sns.set(font_scale=1.6)\n",
        "\n",
        "sns.set_style(\"whitegrid\")\n",
        "#sns.set(style=\"whitegrid\", rc={\"lines.linewidth\": 3})\n",
        "ax = sns.lineplot(x = range(5,16), y = resultsbase[:11], marker='o', color='blue')\n",
        "ax.set(xticks=range(5,16))\n",
        "\n",
        "ax.set_title('Outcomes')\n",
        "\n",
        "ax.set(xlabel='Recommendations', ylabel='Hit rate')\n",
        "sns.set(rc={\"lines.linewidth\": 3})\n",
        "sns.lineplot(x = range(5,16), y = resultsbest[:11], marker='P', color='red', linestyle=\"--\")\n"
      ],
      "execution_count": null,
      "outputs": [
        {
          "output_type": "execute_result",
          "data": {
            "text/plain": [
              "<matplotlib.axes._subplots.AxesSubplot at 0x7f1b3485eb10>"
            ]
          },
          "metadata": {
            "tags": []
          },
          "execution_count": 57
        },
        {
          "output_type": "display_data",
          "data": {
            "image/png": "[encoded data removed]",
            "text/plain": [
              "<Figure size 720x576 with 1 Axes>"
            ]
          },
          "metadata": {
            "tags": []
          }
        }
      ]
    },
    {
      "cell_type": "code",
      "metadata": {
        "id": "O6AxEBw0gU8S"
      },
      "source": [
        "resultsbest = [0.12041086275780154,0.12154464960587408,0.12211154302991035,\n",
        "  0.12514847208724758,0.13336842673577365,0.13620289385595508,\n",
        "  0.14567001403736096,0.15307202245977755,0.16129197710830365,\n",
        "  0.16497678436453944,0.16781125148472087,0.1703055825504805,\n",
        "  0.1759745167908433,0.18099557283230752]"
      ],
      "execution_count": null,
      "outputs": []
    },
    {
      "cell_type": "code",
      "metadata": {
        "id": "42e2JEU2gelA"
      },
      "source": [
        "resultsbase = [0.03767006802721088,\n",
        " 0.038236961451247165,\n",
        " 0.03993764172335601,\n",
        " 0.03993764172335601,\n",
        " 0.042205215419501126,\n",
        " 0.04486961451247166,\n",
        " 0.04486961451247166,\n",
        " 0.045436507936507935,\n",
        " 0.045436507936507935,\n",
        " 0.045436507936507935,\n",
        " 0.04628684807256236,\n",
        " 0.04628684807256236,\n",
        " 0.04628684807256236,\n",
        " 0.04628684807256236]"
      ],
      "execution_count": null,
      "outputs": []
    },
    {
      "cell_type": "code",
      "metadata": {
        "colab": {
          "base_uri": "https://localhost:8080/",
          "height": 556
        },
        "id": "rbGiTcNDgVCA",
        "outputId": "3603ce48-78af-4c3e-bc83-a1fecfc35d6c"
      },
      "source": [
        "sns.set(rc={'figure.figsize':(10,8)})\n",
        "sns.set(font_scale=1.6)\n",
        "sns.set_style(\"whitegrid\")\n",
        "\n",
        "ax = sns.lineplot(x = range(5,16), y = resultsbase[:11], marker='o', color='blue')\n",
        "ax.set(xlabel='Recommendations', ylabel='Hit rate')\n",
        "ax.set_title('Prerequisites')\n",
        "ax.set(xticks=range(5,16))\n",
        "sns.set(rc={\"lines.linewidth\": 3})\n",
        "sns.lineplot(x = range(5,16), y = resultsbest[:11], marker='P', color='red', linestyle=\"--\")"
      ],
      "execution_count": null,
      "outputs": [
        {
          "output_type": "execute_result",
          "data": {
            "text/plain": [
              "<matplotlib.axes._subplots.AxesSubplot at 0x7f1b3475d750>"
            ]
          },
          "metadata": {
            "tags": []
          },
          "execution_count": 61
        },
        {
          "output_type": "display_data",
          "data": {
            "image/png": "[encoded data removed]",
            "text/plain": [
              "<Figure size 720x576 with 1 Axes>"
            ]
          },
          "metadata": {
            "tags": []
          }
        }
      ]
    },
    {
      "cell_type": "code",
      "metadata": {
        "id": "7hWP_Rv6ap9w"
      },
      "source": [],
      "execution_count": null,
      "outputs": []
    }
  ]
}